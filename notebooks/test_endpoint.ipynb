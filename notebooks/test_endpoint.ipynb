{
 "cells": [
  {
   "cell_type": "code",
   "execution_count": 65,
   "metadata": {
    "collapsed": true,
    "pycharm": {
     "name": "#%%\n"
    }
   },
   "outputs": [],
   "source": [
    "import pandas as pd\n",
    "import json\n",
    "import os"
   ]
  },
  {
   "cell_type": "code",
   "execution_count": 66,
   "outputs": [],
   "source": [
    "os.chdir(os.path.join(os.path.expanduser(\"~\"),'hypercardio'))\n"
   ],
   "metadata": {
    "collapsed": false,
    "pycharm": {
     "name": "#%%\n"
    }
   }
  },
  {
   "cell_type": "code",
   "execution_count": 67,
   "outputs": [],
   "source": [
    "drugs_interactions_df = pd.read_csv(os.path.join('data','final','drugs_interactions.csv'))\n",
    "general_info_df = pd.read_csv(os.path.join('data','final','general_info.csv'))"
   ],
   "metadata": {
    "collapsed": false,
    "pycharm": {
     "name": "#%%\n"
    }
   }
  },
  {
   "cell_type": "code",
   "execution_count": 67,
   "outputs": [],
   "source": [],
   "metadata": {
    "collapsed": false,
    "pycharm": {
     "name": "#%%\n"
    }
   }
  },
  {
   "cell_type": "code",
   "execution_count": 68,
   "outputs": [],
   "source": [
    "data = {\n",
    "  \"patientDrugsList\": [\n",
    "    \"Ramipril\",\n",
    "    \"Bisoprolol\",\n",
    "    \"Torsemide\",\n",
    "    \"Rosuvastatin\",\n",
    "    \"Spironolactone\"\n",
    "  ],\n",
    "  \"newDrug\": \"Advil Cold & Sinus\"\n",
    "}"
   ],
   "metadata": {
    "collapsed": false,
    "pycharm": {
     "name": "#%%\n"
    }
   }
  },
  {
   "cell_type": "code",
   "execution_count": 69,
   "outputs": [
    {
     "data": {
      "text/plain": "                 drug_name  parent_id    interacting_drug      id     class  \\\n0                  abilify    233-109  abametapir topical  4171-0  moderate   \n1                  abilify    233-109            abarelix     5-0  moderate   \n2                  abilify    233-109         abiraterone  3321-0  moderate   \n3                  abilify    233-109            acarbose     9-0  moderate   \n4                  abilify    233-109          acebutolol    10-0  moderate   \n...                    ...        ...                 ...     ...       ...   \n719596  advil cold & sinus  1312-6931     zoledronic acid  2331-0  moderate   \n719597  advil cold & sinus  1312-6931     zoledronic acid  2331-0  moderate   \n719598  advil cold & sinus  1312-6931     zoledronic acid  2331-0  moderate   \n719599  advil cold & sinus  1312-6931     zoledronic acid  2331-0  moderate   \n719600  advil cold & sinus  1312-6931     zoledronic acid  2331-0  moderate   \n\n       interacting_drug_treated_disease  \n0                                   NaN  \n1                                   NaN  \n2                                   NaN  \n3                                   NaN  \n4                                   NaN  \n...                                 ...  \n719596           Osteoporotic Fractures  \n719597                             Pain  \n719598              Prostatic Neoplasms  \n719599                       Recurrence  \n719600                   Ewings Sarcoma  \n\n[719601 rows x 6 columns]",
      "text/html": "<div>\n<style scoped>\n    .dataframe tbody tr th:only-of-type {\n        vertical-align: middle;\n    }\n\n    .dataframe tbody tr th {\n        vertical-align: top;\n    }\n\n    .dataframe thead th {\n        text-align: right;\n    }\n</style>\n<table border=\"1\" class=\"dataframe\">\n  <thead>\n    <tr style=\"text-align: right;\">\n      <th></th>\n      <th>drug_name</th>\n      <th>parent_id</th>\n      <th>interacting_drug</th>\n      <th>id</th>\n      <th>class</th>\n      <th>interacting_drug_treated_disease</th>\n    </tr>\n  </thead>\n  <tbody>\n    <tr>\n      <th>0</th>\n      <td>abilify</td>\n      <td>233-109</td>\n      <td>abametapir topical</td>\n      <td>4171-0</td>\n      <td>moderate</td>\n      <td>NaN</td>\n    </tr>\n    <tr>\n      <th>1</th>\n      <td>abilify</td>\n      <td>233-109</td>\n      <td>abarelix</td>\n      <td>5-0</td>\n      <td>moderate</td>\n      <td>NaN</td>\n    </tr>\n    <tr>\n      <th>2</th>\n      <td>abilify</td>\n      <td>233-109</td>\n      <td>abiraterone</td>\n      <td>3321-0</td>\n      <td>moderate</td>\n      <td>NaN</td>\n    </tr>\n    <tr>\n      <th>3</th>\n      <td>abilify</td>\n      <td>233-109</td>\n      <td>acarbose</td>\n      <td>9-0</td>\n      <td>moderate</td>\n      <td>NaN</td>\n    </tr>\n    <tr>\n      <th>4</th>\n      <td>abilify</td>\n      <td>233-109</td>\n      <td>acebutolol</td>\n      <td>10-0</td>\n      <td>moderate</td>\n      <td>NaN</td>\n    </tr>\n    <tr>\n      <th>...</th>\n      <td>...</td>\n      <td>...</td>\n      <td>...</td>\n      <td>...</td>\n      <td>...</td>\n      <td>...</td>\n    </tr>\n    <tr>\n      <th>719596</th>\n      <td>advil cold &amp; sinus</td>\n      <td>1312-6931</td>\n      <td>zoledronic acid</td>\n      <td>2331-0</td>\n      <td>moderate</td>\n      <td>Osteoporotic Fractures</td>\n    </tr>\n    <tr>\n      <th>719597</th>\n      <td>advil cold &amp; sinus</td>\n      <td>1312-6931</td>\n      <td>zoledronic acid</td>\n      <td>2331-0</td>\n      <td>moderate</td>\n      <td>Pain</td>\n    </tr>\n    <tr>\n      <th>719598</th>\n      <td>advil cold &amp; sinus</td>\n      <td>1312-6931</td>\n      <td>zoledronic acid</td>\n      <td>2331-0</td>\n      <td>moderate</td>\n      <td>Prostatic Neoplasms</td>\n    </tr>\n    <tr>\n      <th>719599</th>\n      <td>advil cold &amp; sinus</td>\n      <td>1312-6931</td>\n      <td>zoledronic acid</td>\n      <td>2331-0</td>\n      <td>moderate</td>\n      <td>Recurrence</td>\n    </tr>\n    <tr>\n      <th>719600</th>\n      <td>advil cold &amp; sinus</td>\n      <td>1312-6931</td>\n      <td>zoledronic acid</td>\n      <td>2331-0</td>\n      <td>moderate</td>\n      <td>Ewings Sarcoma</td>\n    </tr>\n  </tbody>\n</table>\n<p>719601 rows × 6 columns</p>\n</div>"
     },
     "execution_count": 69,
     "metadata": {},
     "output_type": "execute_result"
    }
   ],
   "source": [
    "drugs_interactions_df"
   ],
   "metadata": {
    "collapsed": false,
    "pycharm": {
     "name": "#%%\n"
    }
   }
  },
  {
   "cell_type": "code",
   "execution_count": 70,
   "outputs": [
    {
     "name": "stdout",
     "output_type": "stream",
     "text": [
      "             drug_name interacting_drug     class  \\\n",
      "486971        ramipril        ibuprofen  moderate   \n",
      "543283  spironolactone        ibuprofen  moderate   \n",
      "572892       torsemide        ibuprofen  moderate   \n",
      "\n",
      "       interacting_drug_treated_disease  \n",
      "486971          fever/pain/inflammation  \n",
      "543283          fever/pain/inflammation  \n",
      "572892          fever/pain/inflammation  \n"
     ]
    }
   ],
   "source": [
    "patient_drugs_list = data[\"patientDrugsList\"]\n",
    "new_drug_name = data[\"newDrug\"].lower()\n",
    "patient_drugs_list = [i.lower() for i in patient_drugs_list]\n",
    "\n",
    "new_drug_info = general_info_df[general_info_df.drug_name == new_drug_name]\n",
    "\n",
    "schema = {\n",
    "  \"drug\": None,\n",
    "  \"substance\": None,\n",
    "  \"description\": None,\n",
    "  \"suggestedReplacement\": [],\n",
    "  \"interactions\": []\n",
    "}\n",
    "found_data =list (new_drug_info.loc[:,['drug_name','drug_raw_name','description']].drop_duplicates().to_dict(orient='index').values())\n",
    "if found_data != []:\n",
    "    found_data = found_data[0]\n",
    "    schema['drug'] = found_data['drug_name']\n",
    "    schema['substance'] = found_data['drug_raw_name']\n",
    "    schema['description'] =found_data['description'] if len(found_data['description']) < 100 else found_data['description'][:100]+ '... Read more'\n",
    "\n",
    "    data = drugs_interactions_df[\n",
    "        (drugs_interactions_df.drug_name.isin(patient_drugs_list))\n",
    "        & (drugs_interactions_df.interacting_drug.isin(found_data['drug_raw_name'].split(' and ')))\n",
    "    ]\n",
    "    found_interacting_data = data.loc[:,['drug_name','interacting_drug','class','interacting_drug_treated_disease']].drop_duplicates()\n",
    "    found_interacting_data = found_interacting_data.groupby('drug_name').apply(lambda x: x.sample(1)).reset_index(drop=True)\n",
    "    for _, group in found_interacting_data.groupby('drug_name'):\n",
    "        if group.shape[0] > 0:\n",
    "            drug = group['drug_name'].values[0]\n",
    "            substance = group['interacting_drug'].values[0]\n",
    "            level = group['class'].values[0]\n",
    "            diseases =  list(group['interacting_drug_treated_disease'].values)\n",
    "            schema['interactions'].append({\n",
    "                'drug': drug,\n",
    "                'level': level,\n",
    "                'diseases': diseases\n",
    "            })"
   ],
   "metadata": {
    "collapsed": false,
    "pycharm": {
     "name": "#%%\n"
    }
   }
  },
  {
   "cell_type": "code",
   "execution_count": 71,
   "outputs": [],
   "source": [
    "# drugs_interactions_df.loc[(drugs_interactions_df.drug_name.isin(patient_drugs_list))\n",
    "#         & (drugs_interactions_df.interacting_drug.isin(found_data['drug_raw_name'].split(' and '))),'interacting_drug_treated_disease'] = 'fever/pain/inflammation'"
   ],
   "metadata": {
    "collapsed": false,
    "pycharm": {
     "name": "#%%\n"
    }
   }
  },
  {
   "cell_type": "code",
   "execution_count": 72,
   "outputs": [],
   "source": [
    "# drugs_interactions_df.to_csv(os.path.join('data','final','drugs_interactions.csv'),header=True,index=False)"
   ],
   "metadata": {
    "collapsed": false,
    "pycharm": {
     "name": "#%%\n"
    }
   }
  },
  {
   "cell_type": "code",
   "execution_count": 73,
   "outputs": [],
   "source": [
    "    # data = drugs_interactions_df[\n",
    "    #     (drugs_interactions_df.drug_name.isin(patient_drugs_list))\n",
    "    #     & (drugs_interactions_df.interacting_drug.isin(found_data['drug_raw_name'].split(' and ')))\n",
    "    # ]"
   ],
   "metadata": {
    "collapsed": false,
    "pycharm": {
     "name": "#%%\n"
    }
   }
  },
  {
   "cell_type": "code",
   "execution_count": 73,
   "outputs": [],
   "source": [],
   "metadata": {
    "collapsed": false,
    "pycharm": {
     "name": "#%%\n"
    }
   }
  },
  {
   "cell_type": "code",
   "execution_count": 73,
   "outputs": [],
   "source": [],
   "metadata": {
    "collapsed": false,
    "pycharm": {
     "name": "#%%\n"
    }
   }
  },
  {
   "cell_type": "code",
   "execution_count": 74,
   "outputs": [],
   "source": [
    "    data = drugs_interactions_df[\n",
    "        (drugs_interactions_df.drug_name.isin(patient_drugs_list))\n",
    "    ]"
   ],
   "metadata": {
    "collapsed": false,
    "pycharm": {
     "name": "#%%\n"
    }
   }
  },
  {
   "cell_type": "code",
   "execution_count": 75,
   "outputs": [
    {
     "data": {
      "text/plain": "array(['acetazolamide', 'acetohexamide', 'aldesleukin', 'alfentanil',\n       'alfuzosin', 'aliskiren', 'allopurinol', 'alogliptin',\n       'alprazolam', 'alteplase', 'aluminum carbonate',\n       'aluminum hydroxide', 'amifostine', 'amiloride', 'amisulpride',\n       'amitriptyline', 'amlodipine', 'amoxapine', 'angiotensin II',\n       'anistreplase', 'apomorphine', 'apraclonidine ophthalmic',\n       'aripiprazole', 'asenapine', 'asparaginase erwinia chrysanthemi',\n       'asparaginase escherichia coli', 'aspirin', 'aurothioglucose',\n       'avanafil', 'azathioprine', 'azilsartan medoxomil', 'baclofen',\n       'bedaquiline', 'bendroflumethiazide', 'benzthiazide',\n       'betamethasone', 'black cohosh', 'brentuximab', 'brexpiprazole',\n       'brimonidine ophthalmic', 'brimonidine topical', 'bromfenac',\n       'budesonide', 'bumetanide', 'buprenorphine', 'bupropion',\n       'buspirone', 'butabarbital', 'butorphanol', 'cabergoline',\n       'calaspargase pegol', 'calcium carbonate', 'canagliflozin',\n       'candesartan', 'cannabidiol', 'cannabis', 'capsaicin topical',\n       'cariprazine', 'carisoprodol', 'celecoxib', 'chloral hydrate',\n       'chlordiazepoxide', 'chlorothiazide', 'chlorpromazine',\n       'chlorpropamide', 'chlorthalidone', 'choline salicylate',\n       'clobazam', 'clofarabine', 'clomipramine', 'clonazepam',\n       'clorazepate', 'clozapine', 'codeine', 'corticorelin',\n       'corticotropin', 'cortisone', 'cosyntropin', 'cyclosporine',\n       'daclizumab', 'dalteparin', 'dapagliflozin', 'darbepoetin alfa',\n       'deflazacort', 'dexamethasone', 'dexmedetomidine',\n       'dexmethylphenidate', 'diazepam', 'dichlorphenamide', 'diclofenac',\n       'didanosine', 'diflunisal', 'digoxin',\n       'dihydroxyaluminum sodium carbonate', 'diltiazem',\n       'dimenhydrinate', 'diphenhydramine', 'doxazosin', 'doxepin',\n       'doxepin topical', 'dronabinol', 'drospirenone', 'efavirenz',\n       'empagliflozin', 'enoxaparin', 'epirubicin', 'eplerenone',\n       'epoetin alfa', 'epoetin beta-methoxy polyethylene glycol',\n       'epoprostenol', 'eprosartan', 'ertugliflozin', 'estramustine',\n       'ethacrynic acid', 'etodolac', 'everolimus', 'exenatide',\n       'felodipine', 'fenoldopam', 'fenoprofen', 'fentanyl',\n       'ferric carboxymaltose', 'ferric derisomaltose',\n       'ferric pyrophosphate', 'ferumoxytol', 'finerenone',\n       'fludrocortisone', 'fluorescein', 'fluphenazine', 'flurazepam',\n       'flurbiprofen', 'furazolidone', 'furosemide', 'garlic',\n       'glimepiride', 'glipizide', 'glyburide', 'glycerin',\n       'gold sodium thiomalate', 'guanfacine', 'haloperidol', 'heparin',\n       'heroin', 'house dust mite allergen extract',\n       'hydrochlorothiazide', 'hydrocodone', 'hydrocortisone',\n       'hydroflumethiazide', 'hydromorphone', 'hydroxyzine', 'ibuprofen',\n       'icatibant', 'idelalisib', 'iloperidone', 'iloprost', 'imipramine',\n       'indapamide', 'indomethacin', 'insulin', 'insulin aspart',\n       'insulin aspart protamine', 'insulin degludec', 'insulin detemir',\n       'insulin glargine', 'insulin glulisine',\n       'insulin inhalation, rapid acting', 'insulin isophane',\n       'insulin lispro', 'insulin lispro protamine', 'insulin regular',\n       'insulin zinc', 'insulin zinc extended', 'interferon alfa-2a',\n       'interferon beta-1a', 'interferon beta-1b', 'irbesartan',\n       'iron dextran', 'iron sucrose', 'isocarboxazid',\n       'isosorbide dinitrate', 'isosorbide mononitrate', 'isradipine',\n       'ketoprofen', 'ketorolac', 'lanthanum carbonate', 'leflunomide',\n       'levamlodipine', 'levodopa', 'levoketoconazole', 'licorice',\n       'linagliptin', 'linezolid', 'lithium', 'lofexidine', 'lomitapide',\n       'lorazepam', 'losartan', 'loxapine', 'lumateperone', 'lurasidone',\n       'lvp solution with potassium', 'magaldrate', 'magnesium carbonate',\n       'magnesium hydroxide', 'magnesium oxide', 'magnesium salicylate',\n       'mannitol', 'maprotiline', 'maraviroc', 'meclofenamate',\n       'mefenamic acid', 'meloxicam', 'meperidine', 'meprobamate',\n       'mesoridazine', 'metformin', 'methadone', 'methazolamide',\n       'methdilazine', 'methocarbamol', 'methotrexate',\n       'methotrimeprazine', 'methyclothiazide', 'methylphenidate',\n       'methylprednisolone', 'metolazone', 'mibefradil', 'mipomersen',\n       'mirtazapine', 'mixed grass pollens allergen extract', 'molindone',\n       'morphine', 'nabilone', 'nabumetone', 'nalbuphine', 'naltrexone',\n       'naproxen', 'nateglinide', 'nefazodone', 'nesiritide',\n       'nicardipine', 'nifedipine', 'nisoldipine', 'nitroglycerin',\n       'nortriptyline', 'olanzapine', 'oliceridine', 'olmesartan',\n       'olopatadine nasal', 'opium', 'orphenadrine', 'oxaprozin',\n       'oxazepam', 'oxycodone', 'ozanimod', 'paliperidone', 'pamabrom',\n       'paraldehyde', 'parenteral nutrition solution w/electrolytes',\n       'peanut allergen powder', 'pegaspargase', 'peginesatide',\n       'peginterferon beta-1a', 'pentazocine', 'pentoxifylline',\n       'pergolide', 'perphenazine', 'pexidartinib', 'phenelzine',\n       'phenobarbital', 'phenoxybenzamine', 'phenylbutazone', 'piroxicam',\n       'polyethylene glycol 3350 with electrolytes', 'polythiazide',\n       'porfimer', 'potassium acetate', 'potassium acid phosphate',\n       'potassium bicarbonate', 'potassium chloride', 'potassium citrate',\n       'potassium gluconate', 'potassium iodide', 'potassium phosphate',\n       'prazosin', 'prednisolone', 'prednisone', 'pregabalin',\n       'probenecid', 'procarbazine', 'prochlorperazine', 'promazine',\n       'promethazine', 'propiomazine', 'propoxyphene', 'pyrilamine',\n       'quazepam', 'quetiapine', 'ragweed pollen allergen extract',\n       'rasagiline', 'remdesivir', 'remimazolam', 'repaglinide',\n       'reteplase', 'riociguat', 'risperidone', 'rofecoxib', 'safinamide',\n       'salsalate', 'saxagliptin', 'secobarbital', 'selegiline',\n       'selexipag', 'sildenafil', 'silodosin', 'sirolimus',\n       'sirolimus topical', 'sitagliptin', 'sodium bicarbonate',\n       'sodium citrate', 'sodium ferric gluconate complex',\n       'sodium nitrite', 'sodium oxybate', 'sodium salicylate',\n       'sodium thiosalicylate', 'spironolactone', 'streptokinase',\n       'sulindac', 'tacrolimus', 'tadalafil', 'telmisartan', 'temazepam',\n       'temsirolimus', 'tenecteplase', 'terazosin', 'teriflunomide',\n       'tetrabenazine', 'thiethylperazine', 'thioguanine', 'thioridazine',\n       'thiothixene', 'timothy grass pollen allergen extract',\n       'tinzaparin', 'tizanidine', 'tolazamide', 'tolbutamide',\n       'tolmetin', 'tolvaptan', 'torsemide', 'trabectedin',\n       'tranylcypromine', 'trazodone', 'treprostinil', 'triamcinolone',\n       'triamterene', 'trichlormethiazide', 'trifluoperazine',\n       'triflupromazine', 'trimeprazine', 'trimethoprim', 'trimipramine',\n       'urokinase', 'valdecoxib', 'valsartan', 'vardenafil', 'verapamil',\n       'vericiguat', 'voclosporin', 'vosoritide', 'zaleplon',\n       'ziprasidone', 'zolpidem', 'adalimumab',\n       'ado-trastuzumab emtansine', 'alpelisib', 'amiodarone',\n       'amprenavir', 'anisindione', 'apalutamide', 'atazanavir',\n       'atorvastatin', 'auranofin', 'bempedoic acid', 'benznidazole',\n       'bortezomib', 'brigatinib', 'cabazitaxel', 'capmatinib',\n       'carboplatin', 'carfilzomib', 'ceritinib', 'cerivastatin',\n       'certolizumab', 'chloramphenicol', 'chloroquine', 'cisplatin',\n       'clofibrate', 'cobicistat', 'colchicine', 'crizotinib',\n       'dabrafenib', 'daclatasvir', 'dapsone', 'daptomycin',\n       'darolutamide', 'darunavir', 'dicumarol', 'dinutuximab',\n       'disulfiram', 'docetaxel', 'elotuzumab', 'eltrombopag',\n       'eluxadoline', 'enasidenib', 'encorafenib', 'enfortumab vedotin',\n       'entrectinib', 'enzalutamide', 'eribulin', 'erythromycin',\n       'eslicarbazepine', 'etanercept', 'ethambutol', 'ethanol',\n       'ethinyl estradiol', 'ethionamide', 'etonogestrel', 'etoposide',\n       'etravirine', 'ezetimibe', 'fenofibrate', 'fenofibric acid',\n       'fexinidazole', 'fluconazole', 'fludarabine', 'fluvastatin',\n       'fostamatinib', 'fostemsavir', 'gemfibrozil', 'gilteritinib',\n       'glasdegib', 'golimumab', 'green tea', 'hydralazine',\n       'hydroxychloroquine', 'indinavir', 'infliximab',\n       'interferon alfa-2b', 'interferon alfa-n1', 'interferon alfacon-1',\n       'iodoquinol', 'ipilimumab', 'isoniazid', 'itraconazole',\n       'ixabepilone', 'ixazomib', 'lasmiditan', 'lenalidomide',\n       'letermovir', 'levonorgestrel', 'lorlatinib', 'lovastatin',\n       'maralixibat', 'maribavir', 'medroxyprogesterone', 'metronidazole',\n       'midostaurin', 'naxitamab', 'nelarabine', 'nelfinavir',\n       'neratinib', 'niacin', 'nitrofurantoin', 'norethindrone',\n       'norgestrel', 'olaparib', 'osimertinib', 'oteseconazole',\n       'oxaliplatin', 'paclitaxel', 'paclitaxel protein-bound',\n       'pacritinib', 'pazopanib', 'peginterferon alfa-2a',\n       'peginterferon alfa-2b', 'pitavastatin', 'polatuzumab vedotin',\n       'pomalidomide', 'ponatinib', 'pravastatin', 'quinapril',\n       'red yeast rice', 'regorafenib', 'ribociclib', 'ritonavir',\n       'rolapitant', 'rucaparib', 'ruxolitinib', 'saquinavir',\n       'secnidazole', 'selinexor', 'simeprevir', 'simvastatin',\n       'stavudine', 'tafamidis', 'tedizolid', 'telbivudine', 'teniposide',\n       'thalidomide', 'tinidazole', 'tisotumab vedotin', 'tivozanib',\n       'tocilizumab', 'vemurafenib', 'vinblastine', 'vincristine',\n       'vincristine liposome', 'vinorelbine', 'warfarin', 'zafirlukast',\n       'zalcitabine', 'zidovudine', 'abiraterone', 'acebutolol',\n       'afatinib', 'apixaban', 'ardeparin', 'atenolol', 'benazepril',\n       'berotralstat', 'betaxolol', 'betaxolol ophthalmic', 'betrixaban',\n       'binimetinib', 'bisacodyl', 'bismuth subsalicylate', 'bisoprolol',\n       'bosutinib', 'captopril', 'carbamazepine', 'carteolol ophthalmic',\n       'carvedilol', 'casanthranol', 'cascara sagrada', 'castor oil',\n       'cholestyramine', 'citalopram', 'cobimetinib', 'dabigatran',\n       'danaparoid', 'daunorubicin', 'daunorubicin liposomal',\n       'demeclocycline', 'desvenlafaxine', 'diatrizoate', 'digitoxin',\n       'doxycycline', 'duloxetine', 'edoxaban', 'enalapril',\n       'enalaprilat', 'escitalopram', 'fidaxomicin', 'fluoxetine',\n       'fluvoxamine', 'fosinopril', 'gallium Ga 68 gozetotide',\n       'gallium ga 68 psma-11', 'idarubicin', 'iodamide', 'iodipamide',\n       'iodixanol', 'iohexol', 'iopamidol', 'iopromide', 'iothalamate',\n       'ioversol', 'ioxaglate', 'ioxilan', 'irinotecan',\n       'irinotecan liposomal', 'labetalol', 'lactitol', 'lactulose',\n       'larotrectinib', 'lefamulin', 'levobunolol ophthalmic',\n       'levomilnacipran', 'lisinopril', 'loperamide', 'lusutrombopag',\n       'magnesium citrate', 'metipranolol ophthalmic', 'metoprolol',\n       'metrizamide', 'midazolam', 'milnacipran', 'mineral oil',\n       'minocycline', 'mitotane', 'mitoxantrone', 'moexipril', 'nadolol',\n       'naldemedine', 'naloxegol', 'nebivolol', 'niraparib',\n       'oxytetracycline', 'paroxetine', 'pentosan polysulfate sodium',\n       'perindopril', 'phenolphthalein', 'pindolol',\n       'polyethylene glycol 3350', 'potassium guaiacolsulfonate',\n       'potassium perchlorate', 'propranolol', 'prucalopride', 'ramipril',\n       'ranolazine', 'relugolix', 'ripretinib', 'romidepsin', 'senna',\n       'sertraline', 'sibutramine', 'sotalol', 'talazoparib',\n       'tetracycline', 'ticagrelor', 'timolol', 'timolol ophthalmic',\n       'trandolapril', 'ubrogepant', 'venetoclax', 'venlafaxine',\n       'vilazodone', 'vismodegib', 'vortioxetine', 'acarbose',\n       'albiglutide', 'albuterol', 'alendronate', 'amikacin',\n       'amikacin liposome', 'aminolevulinic acid',\n       'aminolevulinic acid topical', 'amphotericin b',\n       'amphotericin b cholesteryl sulfate',\n       'amphotericin b lipid complex', 'amphotericin b liposomal',\n       'arformoterol', 'arsenic trioxide', 'asciminib', 'atracurium',\n       'bitolterol', 'bosentan', 'carteolol', 'cefaclor', 'cefadroxil',\n       'cefamandole', 'cefazolin', 'cefdinir', 'cefditoren', 'cefepime',\n       'cefixime', 'cefmetazole', 'cefonicid', 'cefoperazone',\n       'cefotaxime', 'cefotetan', 'cefoxitin', 'cefpodoxime', 'cefprozil',\n       'ceftaroline', 'ceftazidime', 'ceftibuten', 'ceftizoxime',\n       'ceftriaxone', 'cefuroxime', 'cephalexin', 'cephalothin',\n       'cephapirin', 'cephradine', 'ciprofloxacin', 'cisapride',\n       'cisatracurium', 'clopidogrel', 'colestipol', 'delavirdine',\n       'desmopressin', 'dexlansoprazole', 'disopyramide',\n       'divalproex sodium', 'dofetilide', 'dolasetron', 'doxacurium',\n       'dronedarone', 'droperidol', 'dulaglutide', 'enoxacin', 'esmolol',\n       'esomeprazole', 'etelcalcetide', 'ethotoin', 'etidronate',\n       'formoterol', 'foscarnet', 'fosphenytoin', 'gentamicin', 'ginseng',\n       'ibandronate', 'imatinib', 'indacaterol', 'isoetharine',\n       'ivacaftor', 'kanamycin', 'lansoprazole', 'levalbuterol',\n       'levobetaxolol ophthalmic', 'levomethadyl acetate', 'liraglutide',\n       'lixisenatide', 'lomefloxacin', 'loracarbef', 'mavacamten',\n       'mephenytoin', 'metaproterenol', 'methoxsalen',\n       'methyl aminolevulinate topical', 'metocurine', 'miconazole',\n       'mifepristone', 'miglitol', 'mivacurium', 'neomycin', 'netilmicin',\n       'nitisinone', 'norfloxacin', 'ofloxacin', 'olodaterol',\n       'omeprazole', 'oxandrolone', 'pamidronate', 'pancuronium',\n       'pantoprazole', 'penbutolol', 'phenytoin', 'pimozide',\n       'pioglitazone', 'pipecuronium', 'pirbuterol', 'plazomicin',\n       'pramlintide', 'rabeprazole', 'rapacuronium', 'rifapentine',\n       'risedronate', 'rocuronium', 'rosiglitazone', 'salmeterol',\n       'selpercatinib', 'semaglutide', 'sonidegib', 'streptomycin',\n       'succinylcholine', 'sulfadiazine', 'sulfamethizole',\n       'sulfamethoxazole', 'sulfinpyrazone', 'tamoxifen', 'terbutaline',\n       'tiludronate', 'tirzepatide', 'tobramycin', 'toremifene',\n       'troglitazone', 'tubocurarine', 'valproic acid', 'vecuronium',\n       'verteporfin', 'voriconazole', 'zoledronic acid'], dtype=object)"
     },
     "execution_count": 75,
     "metadata": {},
     "output_type": "execute_result"
    }
   ],
   "source": [
    "data['interacting_drug'].unique()"
   ],
   "metadata": {
    "collapsed": false,
    "pycharm": {
     "name": "#%%\n"
    }
   }
  },
  {
   "cell_type": "code",
   "execution_count": 76,
   "outputs": [
    {
     "data": {
      "text/plain": "{'drug': 'advil cold & sinus',\n 'substance': 'ibuprofen and pseudoephedrine',\n 'description': 'Ibuprofen is a nonsteroidal anti-inflammatory drug (NSAID). Pseudoephedrine is a decongestant.',\n 'suggestedReplacement': [],\n 'interactions': [{'drug': 'ramipril',\n   'level': 'moderate',\n   'diseases': ['fever/pain/inflammation']},\n  {'drug': 'spironolactone',\n   'level': 'moderate',\n   'diseases': ['fever/pain/inflammation']},\n  {'drug': 'torsemide',\n   'level': 'moderate',\n   'diseases': ['fever/pain/inflammation']}]}"
     },
     "execution_count": 76,
     "metadata": {},
     "output_type": "execute_result"
    }
   ],
   "source": [
    "schema"
   ],
   "metadata": {
    "collapsed": false,
    "pycharm": {
     "name": "#%%\n"
    }
   }
  },
  {
   "cell_type": "code",
   "execution_count": 76,
   "outputs": [],
   "source": [],
   "metadata": {
    "collapsed": false,
    "pycharm": {
     "name": "#%%\n"
    }
   }
  }
 ],
 "metadata": {
  "kernelspec": {
   "display_name": "Python 3",
   "language": "python",
   "name": "python3"
  },
  "language_info": {
   "codemirror_mode": {
    "name": "ipython",
    "version": 2
   },
   "file_extension": ".py",
   "mimetype": "text/x-python",
   "name": "python",
   "nbconvert_exporter": "python",
   "pygments_lexer": "ipython2",
   "version": "2.7.6"
  }
 },
 "nbformat": 4,
 "nbformat_minor": 0
}