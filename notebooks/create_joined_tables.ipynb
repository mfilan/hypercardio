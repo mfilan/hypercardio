{
 "cells": [
  {
   "cell_type": "code",
   "execution_count": 85,
   "outputs": [],
   "source": [
    "import pandas as pd\n",
    "import json\n",
    "import os"
   ],
   "metadata": {
    "collapsed": false,
    "pycharm": {
     "name": "#%%\n"
    }
   }
  },
  {
   "cell_type": "code",
   "execution_count": 86,
   "outputs": [],
   "source": [
    "os.chdir(os.path.join(os.path.expanduser(\"~\"),'hypercardio'))"
   ],
   "metadata": {
    "collapsed": false,
    "pycharm": {
     "name": "#%%\n"
    }
   }
  },
  {
   "cell_type": "code",
   "execution_count": 87,
   "outputs": [
    {
     "name": "stderr",
     "output_type": "stream",
     "text": [
      "/Users/maciej.filanowicz/opt/anaconda3/envs/hypercardio/lib/python3.8/site-packages/IPython/core/interactiveshell.py:3398: DtypeWarning: Columns (14,21,26,27,28,34,38,40,41,53,54,61,62,63) have mixed types.Specify dtype option on import or set low_memory=False.\n",
      "  exec(code_obj, self.user_global_ns, self.user_ns)\n"
     ]
    }
   ],
   "source": [
    "drug_indications_df = pd.read_csv('data/drug_indications_database.csv')"
   ],
   "metadata": {
    "collapsed": false,
    "pycharm": {
     "name": "#%%\n"
    }
   }
  },
  {
   "cell_type": "code",
   "execution_count": 88,
   "outputs": [],
   "source": [
    "drug_general_info_df = pd.read_csv('data/general_info.csv')"
   ],
   "metadata": {
    "collapsed": false,
    "pycharm": {
     "name": "#%%\n"
    }
   }
  },
  {
   "cell_type": "code",
   "execution_count": 89,
   "outputs": [],
   "source": [
    "drug_general_info_df.loc[:,'drug_raw_name'] = drug_general_info_df['Generic name'].str.strip(\"']\").str.strip(\"['\")"
   ],
   "metadata": {
    "collapsed": false,
    "pycharm": {
     "name": "#%%\n"
    }
   }
  },
  {
   "cell_type": "code",
   "execution_count": 90,
   "outputs": [],
   "source": [
    "drug_indications_df = drug_indications_df[['drug_raw_name','ind_umls_pt','ind_umls_entry_term','ind_raw']]"
   ],
   "metadata": {
    "collapsed": false,
    "pycharm": {
     "name": "#%%\n"
    }
   }
  },
  {
   "cell_type": "code",
   "execution_count": 91,
   "outputs": [],
   "source": [
    "drug_indications_df = drug_indications_df[drug_indications_df.ind_raw == 'therapeutic']"
   ],
   "metadata": {
    "collapsed": false,
    "pycharm": {
     "name": "#%%\n"
    }
   }
  },
  {
   "cell_type": "code",
   "execution_count": 92,
   "outputs": [
    {
     "data": {
      "text/plain": "Index(['interactions_url', 'Generic name', 'Drug class', 'availability',\n       'score', 'reviews', 'description', 'side_effects', 'drug name',\n       'Dosage form', 'drug_raw_name'],\n      dtype='object')"
     },
     "execution_count": 92,
     "metadata": {},
     "output_type": "execute_result"
    }
   ],
   "source": [
    "drug_general_info_df.columns"
   ],
   "metadata": {
    "collapsed": false,
    "pycharm": {
     "name": "#%%\n"
    }
   }
  },
  {
   "cell_type": "code",
   "execution_count": 93,
   "outputs": [],
   "source": [
    "# drug_general_info_df[drug_general_info_df['drug name'].isin([\n",
    "#     \"Ramipril\",\n",
    "#     \"Bisoprolol\",\n",
    "#     \"Torsemide\",\n",
    "#     \"Rosuvastatin\",\n",
    "#     \"Spironolactone\"\n",
    "#   ])]['drug_raw_name']"
   ],
   "metadata": {
    "collapsed": false,
    "pycharm": {
     "name": "#%%\n"
    }
   }
  },
  {
   "cell_type": "code",
   "execution_count": 94,
   "outputs": [],
   "source": [
    "output = drug_general_info_df.merge(drug_indications_df, on='drug_raw_name', how='left')"
   ],
   "metadata": {
    "collapsed": false,
    "pycharm": {
     "name": "#%%\n"
    }
   }
  },
  {
   "cell_type": "code",
   "execution_count": 95,
   "outputs": [],
   "source": [
    "output.loc[:,'treated_disease'] = output.loc[:,'ind_umls_pt']"
   ],
   "metadata": {
    "collapsed": false,
    "pycharm": {
     "name": "#%%\n"
    }
   }
  },
  {
   "cell_type": "code",
   "execution_count": 96,
   "outputs": [],
   "source": [
    "general_info_v2 = output[['drug name','Drug class', 'drug_raw_name', 'treated_disease',\n",
    "        'description', 'side_effects', 'Dosage form', 'availability','score','reviews',\n",
    "        ]]"
   ],
   "metadata": {
    "collapsed": false,
    "pycharm": {
     "name": "#%%\n"
    }
   }
  },
  {
   "cell_type": "code",
   "execution_count": 97,
   "outputs": [
    {
     "name": "stderr",
     "output_type": "stream",
     "text": [
      "/Users/maciej.filanowicz/opt/anaconda3/envs/hypercardio/lib/python3.8/site-packages/pandas/core/indexing.py:1667: SettingWithCopyWarning: \n",
      "A value is trying to be set on a copy of a slice from a DataFrame.\n",
      "Try using .loc[row_indexer,col_indexer] = value instead\n",
      "\n",
      "See the caveats in the documentation: https://pandas.pydata.org/pandas-docs/stable/user_guide/indexing.html#returning-a-view-versus-a-copy\n",
      "  self.obj[key] = value\n"
     ]
    }
   ],
   "source": [
    "general_info_v2.loc[:,'drug_name'] = general_info_v2.loc[:,'drug name']\n",
    "general_info_v2 = general_info_v2.drop(columns=['drug name'])\n"
   ],
   "metadata": {
    "collapsed": false,
    "pycharm": {
     "name": "#%%\n"
    }
   }
  },
  {
   "cell_type": "code",
   "execution_count": 98,
   "outputs": [],
   "source": [
    "general_info_v2.loc[:,'drug_name'] = general_info_v2.loc[:,'drug_name'].str.lower()"
   ],
   "metadata": {
    "collapsed": false,
    "pycharm": {
     "name": "#%%\n"
    }
   }
  },
  {
   "cell_type": "code",
   "execution_count": 99,
   "outputs": [],
   "source": [
    "general_info_v2.to_csv('data/final/general_info.csv',header=True,index=False)"
   ],
   "metadata": {
    "collapsed": false,
    "pycharm": {
     "name": "#%%\n"
    }
   }
  },
  {
   "cell_type": "code",
   "execution_count": 100,
   "outputs": [
    {
     "data": {
      "text/plain": "                                      Drug class  \\\n0                    ['Atypical antipsychotics']   \n1                    ['Atypical antipsychotics']   \n2                    ['Atypical antipsychotics']   \n3                    ['Atypical antipsychotics']   \n4                    ['Atypical antipsychotics']   \n...                                          ...   \n2915                           ['Decongestants']   \n2916  ['Nasal antihistamines and decongestants']   \n2917  ['Nasal antihistamines and decongestants']   \n2918                               ['Psoralens']   \n2919          ['Upper respiratory combinations']   \n\n                      drug_raw_name                           treated_disease  \\\n0                      aripiprazole           Alcoholic Intoxication, Chronic   \n1                      aripiprazole                         Anxiety Disorders   \n2                      aripiprazole                         Asperger Syndrome   \n3                      aripiprazole  Attention Deficit Hyperactivity Disorder   \n4                      aripiprazole                         Autistic Disorder   \n...                             ...                                       ...   \n2915                pseudoephedrine                                       NaN   \n2916            phenylephrine nasal                                       NaN   \n2917                  oxymetazoline                                       NaN   \n2918                    methoxsalen                                       NaN   \n2919  ibuprofen and pseudoephedrine                                       NaN   \n\n                                            description  \\\n0     Abilify is an antipsychotic medication. It wor...   \n1     Abilify is an antipsychotic medication. It wor...   \n2     Abilify is an antipsychotic medication. It wor...   \n3     Abilify is an antipsychotic medication. It wor...   \n4     Abilify is an antipsychotic medication. It wor...   \n...                                                 ...   \n2915  Pseudoephedrine is used to relieve nasal or si...   \n2916  Phenylephrine is a decongestant that shrinks b...   \n2917  Oxymetazoline is used for the temporary relief...   \n2918  8-Mop works by enhancing the body's sensitivit...   \n2919  Ibuprofen is a nonsteroidal anti-inflammatory ...   \n\n                                           side_effects Dosage form  \\\n0     ['\\nsevere agitation, distress, restless feeli...         NaN   \n1     ['\\nsevere agitation, distress, restless feeli...         NaN   \n2     ['\\nsevere agitation, distress, restless feeli...         NaN   \n3     ['\\nsevere agitation, distress, restless feeli...         NaN   \n4     ['\\nsevere agitation, distress, restless feeli...         NaN   \n...                                                 ...         ...   \n2915  ['Convulsions (seizures)', 'hallucinations (se...         NaN   \n2916  ['\\nsevere sneezing, runny stuffy nose, rednes...         NaN   \n2917  ['Blurred vision', 'fast, irregular, pounding ...         NaN   \n2918  ['\\nsevere skin redness within 24 hours after ...         NaN   \n2919  ['\\nconfusion, severe drowsiness, ringing in y...         NaN   \n\n           availability  score  reviews                      drug_name  \n0     Prescription only   59.8      1.0                        abilify  \n1     Prescription only   59.8      1.0                        abilify  \n2     Prescription only   59.8      1.0                        abilify  \n3     Prescription only   59.8      1.0                        abilify  \n4     Prescription only   59.8      1.0                        abilify  \n...                 ...    ...      ...                            ...  \n2915      Rx and/or OTC   65.9     77.0  12 hour cold maximum strength  \n2916   Over the counter    NaN      NaN                          4-way  \n2917   Over the counter    NaN      NaN             4-way long lasting  \n2918       Discontinued    NaN      NaN                          8-mop  \n2919   Over the counter   75.2     30.0             advil cold & sinus  \n\n[2920 rows x 10 columns]",
      "text/html": "<div>\n<style scoped>\n    .dataframe tbody tr th:only-of-type {\n        vertical-align: middle;\n    }\n\n    .dataframe tbody tr th {\n        vertical-align: top;\n    }\n\n    .dataframe thead th {\n        text-align: right;\n    }\n</style>\n<table border=\"1\" class=\"dataframe\">\n  <thead>\n    <tr style=\"text-align: right;\">\n      <th></th>\n      <th>Drug class</th>\n      <th>drug_raw_name</th>\n      <th>treated_disease</th>\n      <th>description</th>\n      <th>side_effects</th>\n      <th>Dosage form</th>\n      <th>availability</th>\n      <th>score</th>\n      <th>reviews</th>\n      <th>drug_name</th>\n    </tr>\n  </thead>\n  <tbody>\n    <tr>\n      <th>0</th>\n      <td>['Atypical antipsychotics']</td>\n      <td>aripiprazole</td>\n      <td>Alcoholic Intoxication, Chronic</td>\n      <td>Abilify is an antipsychotic medication. It wor...</td>\n      <td>['\\nsevere agitation, distress, restless feeli...</td>\n      <td>NaN</td>\n      <td>Prescription only</td>\n      <td>59.8</td>\n      <td>1.0</td>\n      <td>abilify</td>\n    </tr>\n    <tr>\n      <th>1</th>\n      <td>['Atypical antipsychotics']</td>\n      <td>aripiprazole</td>\n      <td>Anxiety Disorders</td>\n      <td>Abilify is an antipsychotic medication. It wor...</td>\n      <td>['\\nsevere agitation, distress, restless feeli...</td>\n      <td>NaN</td>\n      <td>Prescription only</td>\n      <td>59.8</td>\n      <td>1.0</td>\n      <td>abilify</td>\n    </tr>\n    <tr>\n      <th>2</th>\n      <td>['Atypical antipsychotics']</td>\n      <td>aripiprazole</td>\n      <td>Asperger Syndrome</td>\n      <td>Abilify is an antipsychotic medication. It wor...</td>\n      <td>['\\nsevere agitation, distress, restless feeli...</td>\n      <td>NaN</td>\n      <td>Prescription only</td>\n      <td>59.8</td>\n      <td>1.0</td>\n      <td>abilify</td>\n    </tr>\n    <tr>\n      <th>3</th>\n      <td>['Atypical antipsychotics']</td>\n      <td>aripiprazole</td>\n      <td>Attention Deficit Hyperactivity Disorder</td>\n      <td>Abilify is an antipsychotic medication. It wor...</td>\n      <td>['\\nsevere agitation, distress, restless feeli...</td>\n      <td>NaN</td>\n      <td>Prescription only</td>\n      <td>59.8</td>\n      <td>1.0</td>\n      <td>abilify</td>\n    </tr>\n    <tr>\n      <th>4</th>\n      <td>['Atypical antipsychotics']</td>\n      <td>aripiprazole</td>\n      <td>Autistic Disorder</td>\n      <td>Abilify is an antipsychotic medication. It wor...</td>\n      <td>['\\nsevere agitation, distress, restless feeli...</td>\n      <td>NaN</td>\n      <td>Prescription only</td>\n      <td>59.8</td>\n      <td>1.0</td>\n      <td>abilify</td>\n    </tr>\n    <tr>\n      <th>...</th>\n      <td>...</td>\n      <td>...</td>\n      <td>...</td>\n      <td>...</td>\n      <td>...</td>\n      <td>...</td>\n      <td>...</td>\n      <td>...</td>\n      <td>...</td>\n      <td>...</td>\n    </tr>\n    <tr>\n      <th>2915</th>\n      <td>['Decongestants']</td>\n      <td>pseudoephedrine</td>\n      <td>NaN</td>\n      <td>Pseudoephedrine is used to relieve nasal or si...</td>\n      <td>['Convulsions (seizures)', 'hallucinations (se...</td>\n      <td>NaN</td>\n      <td>Rx and/or OTC</td>\n      <td>65.9</td>\n      <td>77.0</td>\n      <td>12 hour cold maximum strength</td>\n    </tr>\n    <tr>\n      <th>2916</th>\n      <td>['Nasal antihistamines and decongestants']</td>\n      <td>phenylephrine nasal</td>\n      <td>NaN</td>\n      <td>Phenylephrine is a decongestant that shrinks b...</td>\n      <td>['\\nsevere sneezing, runny stuffy nose, rednes...</td>\n      <td>NaN</td>\n      <td>Over the counter</td>\n      <td>NaN</td>\n      <td>NaN</td>\n      <td>4-way</td>\n    </tr>\n    <tr>\n      <th>2917</th>\n      <td>['Nasal antihistamines and decongestants']</td>\n      <td>oxymetazoline</td>\n      <td>NaN</td>\n      <td>Oxymetazoline is used for the temporary relief...</td>\n      <td>['Blurred vision', 'fast, irregular, pounding ...</td>\n      <td>NaN</td>\n      <td>Over the counter</td>\n      <td>NaN</td>\n      <td>NaN</td>\n      <td>4-way long lasting</td>\n    </tr>\n    <tr>\n      <th>2918</th>\n      <td>['Psoralens']</td>\n      <td>methoxsalen</td>\n      <td>NaN</td>\n      <td>8-Mop works by enhancing the body's sensitivit...</td>\n      <td>['\\nsevere skin redness within 24 hours after ...</td>\n      <td>NaN</td>\n      <td>Discontinued</td>\n      <td>NaN</td>\n      <td>NaN</td>\n      <td>8-mop</td>\n    </tr>\n    <tr>\n      <th>2919</th>\n      <td>['Upper respiratory combinations']</td>\n      <td>ibuprofen and pseudoephedrine</td>\n      <td>NaN</td>\n      <td>Ibuprofen is a nonsteroidal anti-inflammatory ...</td>\n      <td>['\\nconfusion, severe drowsiness, ringing in y...</td>\n      <td>NaN</td>\n      <td>Over the counter</td>\n      <td>75.2</td>\n      <td>30.0</td>\n      <td>advil cold &amp; sinus</td>\n    </tr>\n  </tbody>\n</table>\n<p>2920 rows × 10 columns</p>\n</div>"
     },
     "execution_count": 100,
     "metadata": {},
     "output_type": "execute_result"
    }
   ],
   "source": [
    "general_info_v2"
   ],
   "metadata": {
    "collapsed": false,
    "pycharm": {
     "name": "#%%\n"
    }
   }
  },
  {
   "cell_type": "code",
   "execution_count": 101,
   "outputs": [],
   "source": [
    "drug_interactions_df = pd.read_csv('data/drug_interactions.csv')"
   ],
   "metadata": {
    "collapsed": false,
    "pycharm": {
     "name": "#%%\n"
    }
   }
  },
  {
   "cell_type": "code",
   "execution_count": 102,
   "outputs": [],
   "source": [
    "drug_interactions_df.loc[:,'interacting_drug'] = drug_interactions_df.loc[:,'name']\n",
    "drug_interactions_df = drug_interactions_df.drop(columns='name')"
   ],
   "metadata": {
    "collapsed": false,
    "pycharm": {
     "name": "#%%\n"
    }
   }
  },
  {
   "cell_type": "code",
   "execution_count": 103,
   "outputs": [],
   "source": [
    "drug_indications_df.loc[:,'interacting_drug'] = drug_indications_df.loc[:,'drug_raw_name']\n",
    "drug_indications_df.loc[:,'interacting_drug_treated_disease'] = drug_indications_df.loc[:,'ind_umls_pt']\n",
    "drug_indications_df = drug_indications_df.drop(columns=['drug_raw_name','ind_umls_pt'])"
   ],
   "metadata": {
    "collapsed": false,
    "pycharm": {
     "name": "#%%\n"
    }
   }
  },
  {
   "cell_type": "code",
   "execution_count": 104,
   "outputs": [
    {
     "data": {
      "text/plain": "           ind_umls_entry_term      ind_raw  \\\n19713   neurological disorders  therapeutic   \n111619       ovarian neoplasms  therapeutic   \n111620       ovarian neoplasms  therapeutic   \n111621            Hyperalgesia  therapeutic   \n111622   graft vs host disease  therapeutic   \n...                        ...          ...   \n192810     Depressive Disorder  therapeutic   \n192811            hyperkinesis  therapeutic   \n192812        Mental Disorders  therapeutic   \n192813     Psychotic Disorders  therapeutic   \n192814           Schizophrenia  therapeutic   \n\n                                         interacting_drug  \\\n19713                                         carisbamate   \n111619  (((4-(ethoxycarbonyl)phenyl)amino)(2,2,4,4-tet...   \n111620  (((4-nitrophenyl)amino)(2,2,4,4-tetramethyl th...   \n111621  ((+)-4-((alphaR)-alpha-((2S,5R)-2,5-dimethyl-4...   \n111622  ((1-ethylpyrrolidin-2-yl) methyl)-4-hydroxy-7-...   \n...                                                   ...   \n192810                                           zotepine   \n192811                                           zotepine   \n192812                                           zotepine   \n192813                                           zotepine   \n192814                                           zotepine   \n\n       interacting_drug_treated_disease  \n19713           Nervous System Disorder  \n111619                 Ovarian Neoplasm  \n111620                 Ovarian Neoplasm  \n111621                     Hyperalgesia  \n111622            Graft-Vs-Host Disease  \n...                                 ...  \n192810              Depressive Disorder  \n192811             Hyperactive Behavior  \n192812                 Mental Disorders  \n192813              Psychotic Disorders  \n192814                    Schizophrenia  \n\n[26680 rows x 4 columns]",
      "text/html": "<div>\n<style scoped>\n    .dataframe tbody tr th:only-of-type {\n        vertical-align: middle;\n    }\n\n    .dataframe tbody tr th {\n        vertical-align: top;\n    }\n\n    .dataframe thead th {\n        text-align: right;\n    }\n</style>\n<table border=\"1\" class=\"dataframe\">\n  <thead>\n    <tr style=\"text-align: right;\">\n      <th></th>\n      <th>ind_umls_entry_term</th>\n      <th>ind_raw</th>\n      <th>interacting_drug</th>\n      <th>interacting_drug_treated_disease</th>\n    </tr>\n  </thead>\n  <tbody>\n    <tr>\n      <th>19713</th>\n      <td>neurological disorders</td>\n      <td>therapeutic</td>\n      <td>carisbamate</td>\n      <td>Nervous System Disorder</td>\n    </tr>\n    <tr>\n      <th>111619</th>\n      <td>ovarian neoplasms</td>\n      <td>therapeutic</td>\n      <td>(((4-(ethoxycarbonyl)phenyl)amino)(2,2,4,4-tet...</td>\n      <td>Ovarian Neoplasm</td>\n    </tr>\n    <tr>\n      <th>111620</th>\n      <td>ovarian neoplasms</td>\n      <td>therapeutic</td>\n      <td>(((4-nitrophenyl)amino)(2,2,4,4-tetramethyl th...</td>\n      <td>Ovarian Neoplasm</td>\n    </tr>\n    <tr>\n      <th>111621</th>\n      <td>Hyperalgesia</td>\n      <td>therapeutic</td>\n      <td>((+)-4-((alphaR)-alpha-((2S,5R)-2,5-dimethyl-4...</td>\n      <td>Hyperalgesia</td>\n    </tr>\n    <tr>\n      <th>111622</th>\n      <td>graft vs host disease</td>\n      <td>therapeutic</td>\n      <td>((1-ethylpyrrolidin-2-yl) methyl)-4-hydroxy-7-...</td>\n      <td>Graft-Vs-Host Disease</td>\n    </tr>\n    <tr>\n      <th>...</th>\n      <td>...</td>\n      <td>...</td>\n      <td>...</td>\n      <td>...</td>\n    </tr>\n    <tr>\n      <th>192810</th>\n      <td>Depressive Disorder</td>\n      <td>therapeutic</td>\n      <td>zotepine</td>\n      <td>Depressive Disorder</td>\n    </tr>\n    <tr>\n      <th>192811</th>\n      <td>hyperkinesis</td>\n      <td>therapeutic</td>\n      <td>zotepine</td>\n      <td>Hyperactive Behavior</td>\n    </tr>\n    <tr>\n      <th>192812</th>\n      <td>Mental Disorders</td>\n      <td>therapeutic</td>\n      <td>zotepine</td>\n      <td>Mental Disorders</td>\n    </tr>\n    <tr>\n      <th>192813</th>\n      <td>Psychotic Disorders</td>\n      <td>therapeutic</td>\n      <td>zotepine</td>\n      <td>Psychotic Disorders</td>\n    </tr>\n    <tr>\n      <th>192814</th>\n      <td>Schizophrenia</td>\n      <td>therapeutic</td>\n      <td>zotepine</td>\n      <td>Schizophrenia</td>\n    </tr>\n  </tbody>\n</table>\n<p>26680 rows × 4 columns</p>\n</div>"
     },
     "execution_count": 104,
     "metadata": {},
     "output_type": "execute_result"
    }
   ],
   "source": [
    "drug_indications_df"
   ],
   "metadata": {
    "collapsed": false,
    "pycharm": {
     "name": "#%%\n"
    }
   }
  },
  {
   "cell_type": "code",
   "execution_count": 105,
   "outputs": [],
   "source": [
    "output2 =  drug_interactions_df.merge(drug_indications_df, on='interacting_drug', how='left')"
   ],
   "metadata": {
    "collapsed": false,
    "pycharm": {
     "name": "#%%\n"
    }
   }
  },
  {
   "cell_type": "code",
   "execution_count": 106,
   "outputs": [],
   "source": [
    "output2 = output2.loc[:,['drug_name','parent_id','interacting_drug','id','class','interacting_drug_treated_disease']]"
   ],
   "metadata": {
    "collapsed": false,
    "pycharm": {
     "name": "#%%\n"
    }
   }
  },
  {
   "cell_type": "code",
   "execution_count": 107,
   "outputs": [],
   "source": [
    "output2.loc[:,'class'] = output2.loc[:,'class'].str.lower()"
   ],
   "metadata": {
    "collapsed": false,
    "pycharm": {
     "name": "#%%\n"
    }
   }
  },
  {
   "cell_type": "code",
   "execution_count": 108,
   "outputs": [],
   "source": [
    "output2.loc[:,'drug_name'] = output2.loc[:,'drug_name'].str.lower()"
   ],
   "metadata": {
    "collapsed": false,
    "pycharm": {
     "name": "#%%\n"
    }
   }
  },
  {
   "cell_type": "code",
   "execution_count": 109,
   "outputs": [],
   "source": [
    "output2.to_csv('data/final/drugs_interactions.csv',header=True,index=False)"
   ],
   "metadata": {
    "collapsed": false,
    "pycharm": {
     "name": "#%%\n"
    }
   }
  },
  {
   "cell_type": "code",
   "execution_count": 110,
   "outputs": [],
   "source": [
    "# sorted(list(general_info_v2.merge(output2, on='drug_name', how='inner')['drug_name'].unique()))"
   ],
   "metadata": {
    "collapsed": false,
    "pycharm": {
     "name": "#%%\n"
    }
   }
  },
  {
   "cell_type": "code",
   "execution_count": 111,
   "outputs": [],
   "source": [
    "#output2.sort_values(by='drug_name')"
   ],
   "metadata": {
    "collapsed": false,
    "pycharm": {
     "name": "#%%\n"
    }
   }
  }
 ],
 "metadata": {
  "kernelspec": {
   "display_name": "Python 3",
   "language": "python",
   "name": "python3"
  },
  "language_info": {
   "codemirror_mode": {
    "name": "ipython",
    "version": 2
   },
   "file_extension": ".py",
   "mimetype": "text/x-python",
   "name": "python",
   "nbconvert_exporter": "python",
   "pygments_lexer": "ipython2",
   "version": "2.7.6"
  }
 },
 "nbformat": 4,
 "nbformat_minor": 0
}