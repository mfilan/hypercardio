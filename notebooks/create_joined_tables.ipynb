{
 "cells": [
  {
   "cell_type": "code",
   "execution_count": 176,
   "outputs": [],
   "source": [
    "import pandas as pd\n",
    "import json\n",
    "import os"
   ],
   "metadata": {
    "collapsed": false,
    "pycharm": {
     "name": "#%%\n"
    }
   }
  },
  {
   "cell_type": "code",
   "execution_count": 177,
   "outputs": [],
   "source": [
    "os.chdir(os.path.join(os.path.expanduser(\"~\"),'hypercardio'))"
   ],
   "metadata": {
    "collapsed": false,
    "pycharm": {
     "name": "#%%\n"
    }
   }
  },
  {
   "cell_type": "code",
   "execution_count": 178,
   "outputs": [
    {
     "name": "stderr",
     "output_type": "stream",
     "text": [
      "/Users/maciej.filanowicz/opt/anaconda3/envs/hypercardio/lib/python3.8/site-packages/IPython/core/interactiveshell.py:3398: DtypeWarning: Columns (14,21,26,27,28,34,38,40,41,53,54,61,62,63) have mixed types.Specify dtype option on import or set low_memory=False.\n",
      "  exec(code_obj, self.user_global_ns, self.user_ns)\n"
     ]
    }
   ],
   "source": [
    "drug_indications_df = pd.read_csv('data/drug_indications_database.csv')"
   ],
   "metadata": {
    "collapsed": false,
    "pycharm": {
     "name": "#%%\n"
    }
   }
  },
  {
   "cell_type": "code",
   "execution_count": 179,
   "outputs": [],
   "source": [
    "drug_general_info_df = pd.read_csv('data/general_info.csv')"
   ],
   "metadata": {
    "collapsed": false,
    "pycharm": {
     "name": "#%%\n"
    }
   }
  },
  {
   "cell_type": "code",
   "execution_count": 180,
   "outputs": [],
   "source": [
    "drug_general_info_df.loc[:,'drug_raw_name'] = drug_general_info_df['Generic name'].str.strip(\"']\").str.strip(\"['\")"
   ],
   "metadata": {
    "collapsed": false,
    "pycharm": {
     "name": "#%%\n"
    }
   }
  },
  {
   "cell_type": "code",
   "execution_count": 181,
   "outputs": [],
   "source": [
    "drug_indications_df = drug_indications_df[['drug_raw_name','ind_umls_pt','ind_umls_entry_term','ind_raw']]"
   ],
   "metadata": {
    "collapsed": false,
    "pycharm": {
     "name": "#%%\n"
    }
   }
  },
  {
   "cell_type": "code",
   "execution_count": 182,
   "outputs": [],
   "source": [
    "drug_indications_df = drug_indications_df[drug_indications_df.ind_raw == 'therapeutic']"
   ],
   "metadata": {
    "collapsed": false,
    "pycharm": {
     "name": "#%%\n"
    }
   }
  },
  {
   "cell_type": "code",
   "execution_count": 183,
   "outputs": [
    {
     "data": {
      "text/plain": "Index(['drug_raw_name', 'ind_umls_pt', 'ind_umls_entry_term', 'ind_raw'], dtype='object')"
     },
     "execution_count": 183,
     "metadata": {},
     "output_type": "execute_result"
    }
   ],
   "source": [
    "drug_indications_df.columns"
   ],
   "metadata": {
    "collapsed": false,
    "pycharm": {
     "name": "#%%\n"
    }
   }
  },
  {
   "cell_type": "code",
   "execution_count": 184,
   "outputs": [
    {
     "data": {
      "text/plain": "Index(['interactions_url', 'Generic name', 'Drug class', 'availability',\n       'score', 'reviews', 'description', 'side_effects', 'drug name',\n       'Dosage form', 'drug_raw_name'],\n      dtype='object')"
     },
     "execution_count": 184,
     "metadata": {},
     "output_type": "execute_result"
    }
   ],
   "source": [
    "drug_general_info_df.columns"
   ],
   "metadata": {
    "collapsed": false,
    "pycharm": {
     "name": "#%%\n"
    }
   }
  },
  {
   "cell_type": "code",
   "execution_count": 185,
   "outputs": [],
   "source": [
    "output = drug_general_info_df.merge(drug_indications_df, on='drug_raw_name', how='inner')"
   ],
   "metadata": {
    "collapsed": false,
    "pycharm": {
     "name": "#%%\n"
    }
   }
  },
  {
   "cell_type": "code",
   "execution_count": 186,
   "outputs": [],
   "source": [
    "output.loc[:,'treated_disease'] = output.loc[:,'ind_umls_pt']"
   ],
   "metadata": {
    "collapsed": false,
    "pycharm": {
     "name": "#%%\n"
    }
   }
  },
  {
   "cell_type": "code",
   "execution_count": 187,
   "outputs": [],
   "source": [
    "general_info_v2 = output[['drug name','Drug class', 'drug_raw_name', 'treated_disease',\n",
    "        'description', 'side_effects', 'Dosage form', 'availability','score','reviews',\n",
    "        ]]"
   ],
   "metadata": {
    "collapsed": false,
    "pycharm": {
     "name": "#%%\n"
    }
   }
  },
  {
   "cell_type": "code",
   "execution_count": 188,
   "outputs": [
    {
     "name": "stderr",
     "output_type": "stream",
     "text": [
      "/Users/maciej.filanowicz/opt/anaconda3/envs/hypercardio/lib/python3.8/site-packages/pandas/core/indexing.py:1667: SettingWithCopyWarning: \n",
      "A value is trying to be set on a copy of a slice from a DataFrame.\n",
      "Try using .loc[row_indexer,col_indexer] = value instead\n",
      "\n",
      "See the caveats in the documentation: https://pandas.pydata.org/pandas-docs/stable/user_guide/indexing.html#returning-a-view-versus-a-copy\n",
      "  self.obj[key] = value\n"
     ]
    }
   ],
   "source": [
    "general_info_v2.loc[:,'drug_name'] = general_info_v2.loc[:,'drug name']\n",
    "general_info_v2 = general_info_v2.drop(columns=['drug name'])\n"
   ],
   "metadata": {
    "collapsed": false,
    "pycharm": {
     "name": "#%%\n"
    }
   }
  },
  {
   "cell_type": "code",
   "execution_count": 189,
   "outputs": [],
   "source": [
    "general_info_v2.to_csv('data/final/general_info.csv',header=True,index=False)"
   ],
   "metadata": {
    "collapsed": false,
    "pycharm": {
     "name": "#%%\n"
    }
   }
  },
  {
   "cell_type": "code",
   "execution_count": 190,
   "outputs": [
    {
     "data": {
      "text/plain": "                         Drug class drug_raw_name  \\\n0       ['Atypical antipsychotics']  aripiprazole   \n1       ['Atypical antipsychotics']  aripiprazole   \n2       ['Atypical antipsychotics']  aripiprazole   \n3       ['Atypical antipsychotics']  aripiprazole   \n4       ['Atypical antipsychotics']  aripiprazole   \n...                             ...           ...   \n2259  ['Oxazolidinone antibiotics']     linezolid   \n2260  ['Oxazolidinone antibiotics']     linezolid   \n2261  ['Oxazolidinone antibiotics']     linezolid   \n2262  ['Oxazolidinone antibiotics']     linezolid   \n2263  ['Oxazolidinone antibiotics']     linezolid   \n\n                               treated_disease  \\\n0              Alcoholic Intoxication, Chronic   \n1                            Anxiety Disorders   \n2                            Asperger Syndrome   \n3     Attention Deficit Hyperactivity Disorder   \n4                            Autistic Disorder   \n...                                        ...   \n2259                        Systemic Infection   \n2260                 Skin Diseases, Infectious   \n2261                 Staphylococcal Infections   \n2262                  Surgical Wound Infection   \n2263                   Urinary Tract Infection   \n\n                                            description  \\\n0     Abilify is an antipsychotic medication. It wor...   \n1     Abilify is an antipsychotic medication. It wor...   \n2     Abilify is an antipsychotic medication. It wor...   \n3     Abilify is an antipsychotic medication. It wor...   \n4     Abilify is an antipsychotic medication. It wor...   \n...                                                 ...   \n2259  Zyvox is an oxazolidinone antibiotic that figh...   \n2260  Zyvox is an oxazolidinone antibiotic that figh...   \n2261  Zyvox is an oxazolidinone antibiotic that figh...   \n2262  Zyvox is an oxazolidinone antibiotic that figh...   \n2263  Zyvox is an oxazolidinone antibiotic that figh...   \n\n                                           side_effects Dosage form  \\\n0     ['\\nsevere agitation, distress, restless feeli...         NaN   \n1     ['\\nsevere agitation, distress, restless feeli...         NaN   \n2     ['\\nsevere agitation, distress, restless feeli...         NaN   \n3     ['\\nsevere agitation, distress, restless feeli...         NaN   \n4     ['\\nsevere agitation, distress, restless feeli...         NaN   \n...                                                 ...         ...   \n2259  ['\\nvision problems, changes in color vision\\n...         NaN   \n2260  ['\\nvision problems, changes in color vision\\n...         NaN   \n2261  ['\\nvision problems, changes in color vision\\n...         NaN   \n2262  ['\\nvision problems, changes in color vision\\n...         NaN   \n2263  ['\\nvision problems, changes in color vision\\n...         NaN   \n\n           availability  score  reviews drug_name  \n0     Prescription only   59.8      1.0   Abilify  \n1     Prescription only   59.8      1.0   Abilify  \n2     Prescription only   59.8      1.0   Abilify  \n3     Prescription only   59.8      1.0   Abilify  \n4     Prescription only   59.8      1.0   Abilify  \n...                 ...    ...      ...       ...  \n2259  Prescription only   88.1     27.0     Zyvox  \n2260  Prescription only   88.1     27.0     Zyvox  \n2261  Prescription only   88.1     27.0     Zyvox  \n2262  Prescription only   88.1     27.0     Zyvox  \n2263  Prescription only   88.1     27.0     Zyvox  \n\n[2264 rows x 10 columns]",
      "text/html": "<div>\n<style scoped>\n    .dataframe tbody tr th:only-of-type {\n        vertical-align: middle;\n    }\n\n    .dataframe tbody tr th {\n        vertical-align: top;\n    }\n\n    .dataframe thead th {\n        text-align: right;\n    }\n</style>\n<table border=\"1\" class=\"dataframe\">\n  <thead>\n    <tr style=\"text-align: right;\">\n      <th></th>\n      <th>Drug class</th>\n      <th>drug_raw_name</th>\n      <th>treated_disease</th>\n      <th>description</th>\n      <th>side_effects</th>\n      <th>Dosage form</th>\n      <th>availability</th>\n      <th>score</th>\n      <th>reviews</th>\n      <th>drug_name</th>\n    </tr>\n  </thead>\n  <tbody>\n    <tr>\n      <th>0</th>\n      <td>['Atypical antipsychotics']</td>\n      <td>aripiprazole</td>\n      <td>Alcoholic Intoxication, Chronic</td>\n      <td>Abilify is an antipsychotic medication. It wor...</td>\n      <td>['\\nsevere agitation, distress, restless feeli...</td>\n      <td>NaN</td>\n      <td>Prescription only</td>\n      <td>59.8</td>\n      <td>1.0</td>\n      <td>Abilify</td>\n    </tr>\n    <tr>\n      <th>1</th>\n      <td>['Atypical antipsychotics']</td>\n      <td>aripiprazole</td>\n      <td>Anxiety Disorders</td>\n      <td>Abilify is an antipsychotic medication. It wor...</td>\n      <td>['\\nsevere agitation, distress, restless feeli...</td>\n      <td>NaN</td>\n      <td>Prescription only</td>\n      <td>59.8</td>\n      <td>1.0</td>\n      <td>Abilify</td>\n    </tr>\n    <tr>\n      <th>2</th>\n      <td>['Atypical antipsychotics']</td>\n      <td>aripiprazole</td>\n      <td>Asperger Syndrome</td>\n      <td>Abilify is an antipsychotic medication. It wor...</td>\n      <td>['\\nsevere agitation, distress, restless feeli...</td>\n      <td>NaN</td>\n      <td>Prescription only</td>\n      <td>59.8</td>\n      <td>1.0</td>\n      <td>Abilify</td>\n    </tr>\n    <tr>\n      <th>3</th>\n      <td>['Atypical antipsychotics']</td>\n      <td>aripiprazole</td>\n      <td>Attention Deficit Hyperactivity Disorder</td>\n      <td>Abilify is an antipsychotic medication. It wor...</td>\n      <td>['\\nsevere agitation, distress, restless feeli...</td>\n      <td>NaN</td>\n      <td>Prescription only</td>\n      <td>59.8</td>\n      <td>1.0</td>\n      <td>Abilify</td>\n    </tr>\n    <tr>\n      <th>4</th>\n      <td>['Atypical antipsychotics']</td>\n      <td>aripiprazole</td>\n      <td>Autistic Disorder</td>\n      <td>Abilify is an antipsychotic medication. It wor...</td>\n      <td>['\\nsevere agitation, distress, restless feeli...</td>\n      <td>NaN</td>\n      <td>Prescription only</td>\n      <td>59.8</td>\n      <td>1.0</td>\n      <td>Abilify</td>\n    </tr>\n    <tr>\n      <th>...</th>\n      <td>...</td>\n      <td>...</td>\n      <td>...</td>\n      <td>...</td>\n      <td>...</td>\n      <td>...</td>\n      <td>...</td>\n      <td>...</td>\n      <td>...</td>\n      <td>...</td>\n    </tr>\n    <tr>\n      <th>2259</th>\n      <td>['Oxazolidinone antibiotics']</td>\n      <td>linezolid</td>\n      <td>Systemic Infection</td>\n      <td>Zyvox is an oxazolidinone antibiotic that figh...</td>\n      <td>['\\nvision problems, changes in color vision\\n...</td>\n      <td>NaN</td>\n      <td>Prescription only</td>\n      <td>88.1</td>\n      <td>27.0</td>\n      <td>Zyvox</td>\n    </tr>\n    <tr>\n      <th>2260</th>\n      <td>['Oxazolidinone antibiotics']</td>\n      <td>linezolid</td>\n      <td>Skin Diseases, Infectious</td>\n      <td>Zyvox is an oxazolidinone antibiotic that figh...</td>\n      <td>['\\nvision problems, changes in color vision\\n...</td>\n      <td>NaN</td>\n      <td>Prescription only</td>\n      <td>88.1</td>\n      <td>27.0</td>\n      <td>Zyvox</td>\n    </tr>\n    <tr>\n      <th>2261</th>\n      <td>['Oxazolidinone antibiotics']</td>\n      <td>linezolid</td>\n      <td>Staphylococcal Infections</td>\n      <td>Zyvox is an oxazolidinone antibiotic that figh...</td>\n      <td>['\\nvision problems, changes in color vision\\n...</td>\n      <td>NaN</td>\n      <td>Prescription only</td>\n      <td>88.1</td>\n      <td>27.0</td>\n      <td>Zyvox</td>\n    </tr>\n    <tr>\n      <th>2262</th>\n      <td>['Oxazolidinone antibiotics']</td>\n      <td>linezolid</td>\n      <td>Surgical Wound Infection</td>\n      <td>Zyvox is an oxazolidinone antibiotic that figh...</td>\n      <td>['\\nvision problems, changes in color vision\\n...</td>\n      <td>NaN</td>\n      <td>Prescription only</td>\n      <td>88.1</td>\n      <td>27.0</td>\n      <td>Zyvox</td>\n    </tr>\n    <tr>\n      <th>2263</th>\n      <td>['Oxazolidinone antibiotics']</td>\n      <td>linezolid</td>\n      <td>Urinary Tract Infection</td>\n      <td>Zyvox is an oxazolidinone antibiotic that figh...</td>\n      <td>['\\nvision problems, changes in color vision\\n...</td>\n      <td>NaN</td>\n      <td>Prescription only</td>\n      <td>88.1</td>\n      <td>27.0</td>\n      <td>Zyvox</td>\n    </tr>\n  </tbody>\n</table>\n<p>2264 rows × 10 columns</p>\n</div>"
     },
     "execution_count": 190,
     "metadata": {},
     "output_type": "execute_result"
    }
   ],
   "source": [
    "general_info_v2"
   ],
   "metadata": {
    "collapsed": false,
    "pycharm": {
     "name": "#%%\n"
    }
   }
  },
  {
   "cell_type": "code",
   "execution_count": 191,
   "outputs": [],
   "source": [
    "drug_interactions_df = pd.read_csv('data/drug_interactions.csv')"
   ],
   "metadata": {
    "collapsed": false,
    "pycharm": {
     "name": "#%%\n"
    }
   }
  },
  {
   "cell_type": "code",
   "execution_count": 192,
   "outputs": [],
   "source": [
    "drug_interactions_df.loc[:,'interacting_drug'] = drug_interactions_df.loc[:,'name']\n",
    "drug_interactions_df = drug_interactions_df.drop(columns='name')"
   ],
   "metadata": {
    "collapsed": false,
    "pycharm": {
     "name": "#%%\n"
    }
   }
  },
  {
   "cell_type": "code",
   "execution_count": 193,
   "outputs": [],
   "source": [
    "drug_indications_df.loc[:,'interacting_drug'] = drug_indications_df.loc[:,'drug_raw_name']\n",
    "drug_indications_df.loc[:,'interacting_drug_treated_disease'] = drug_indications_df.loc[:,'ind_umls_pt']\n",
    "drug_indications_df = drug_indications_df.drop(columns=['drug_raw_name','ind_umls_pt'])"
   ],
   "metadata": {
    "collapsed": false,
    "pycharm": {
     "name": "#%%\n"
    }
   }
  },
  {
   "cell_type": "code",
   "execution_count": 194,
   "outputs": [],
   "source": [
    "output2 =  drug_interactions_df.merge(drug_indications_df, on='interacting_drug', how='inner')"
   ],
   "metadata": {
    "collapsed": false,
    "pycharm": {
     "name": "#%%\n"
    }
   }
  },
  {
   "cell_type": "code",
   "execution_count": 195,
   "outputs": [],
   "source": [
    "output2 = output2.loc[:,['drug_name','parent_id','interacting_drug','id','class','interacting_drug_treated_disease']]"
   ],
   "metadata": {
    "collapsed": false,
    "pycharm": {
     "name": "#%%\n"
    }
   }
  },
  {
   "cell_type": "code",
   "execution_count": 196,
   "outputs": [],
   "source": [
    "output2.loc[:,'class'] = output2.loc[:,'class'].str.lower()"
   ],
   "metadata": {
    "collapsed": false,
    "pycharm": {
     "name": "#%%\n"
    }
   }
  },
  {
   "cell_type": "code",
   "execution_count": 197,
   "outputs": [],
   "source": [
    "output2.to_csv('data/final/drugs_interactions.csv',header=True,index=False)"
   ],
   "metadata": {
    "collapsed": false,
    "pycharm": {
     "name": "#%%\n"
    }
   }
  },
  {
   "cell_type": "code",
   "execution_count": 202,
   "outputs": [
    {
     "data": {
      "text/plain": "['Abilify',\n 'Abilify Maintena',\n 'Actos',\n 'Afinitor',\n 'Allegra',\n 'Ambien',\n 'Aricept',\n 'Aripiprazole',\n 'Aristada',\n 'Aromasin',\n 'Atomoxetine',\n 'Atorvastatin',\n 'Azilect',\n 'Balsalazide',\n 'Banzel',\n 'Benazepril',\n 'Bendeka',\n 'Benicar',\n 'Bicalutamide',\n 'Botox',\n 'Bystolic',\n 'Candesartan',\n 'Carvedilol',\n 'Casodex',\n 'Cefdinir',\n 'Celebrex',\n 'Celecoxib',\n 'Cialis',\n 'Clopidogrel',\n 'Colazal',\n 'Coreg',\n 'Crestor',\n 'Cyclobenzaprine',\n 'Cymbalta',\n 'Dabigatran',\n 'Detrol',\n 'Diacomit',\n 'Diovan',\n 'Dipentum',\n 'Donepezil',\n 'Duloxetine',\n 'Dutasteride',\n 'Effexor XR',\n 'Eplerenone',\n 'Eszopiclone',\n 'Everolimus',\n 'Exemestane',\n 'Femara',\n 'Fexofenadine',\n 'Flexeril',\n 'Flomax',\n 'Gabapentin',\n 'Gemcitabine',\n 'Gemzar',\n 'Geodon',\n 'Giazo',\n 'Gilenya',\n 'Gleevec',\n 'Iclusig',\n 'Imatinib',\n 'Inlyta',\n 'Irbesartan',\n 'Jadenu',\n 'Januvia',\n 'Jynarque',\n 'Lamictal',\n 'Leflunomide',\n 'Letrozole',\n 'Linzess',\n 'Lipitor',\n 'Lofexidine',\n 'Lunesta',\n 'Lyrica',\n 'Meloxicam',\n 'Mirtazapine',\n 'Mobic',\n 'Modafinil',\n 'Montelukast',\n 'Nabumetone',\n 'Nebivolol',\n 'Neulasta',\n 'Neurontin',\n 'Nourianz',\n 'Nucynta',\n 'Olanzapine',\n 'Olmesartan',\n 'Omnicef',\n 'Onfi',\n 'Onglyza',\n 'Orlistat',\n 'Oxaliplatin',\n 'Oxcarbazepine',\n 'Oxtella XR',\n 'Oxybutynin',\n 'Pantoprazole',\n 'Pioglitazone',\n 'Plavix',\n 'Pradaxa',\n 'Pramipexole',\n 'Pregabalin',\n 'Quazepam',\n 'Quetiapine',\n 'Quinapril',\n 'Ramelteon',\n 'Ranexa',\n 'Reclast',\n 'Relafen',\n 'Remeron',\n 'Repaglinide',\n 'Requip',\n 'Revlimid',\n 'Rifaximin',\n 'Rivaroxaban',\n 'Rivastigmine',\n 'Rizatriptan',\n 'Ropinirole',\n 'Rosuvastatin',\n 'Saxenda',\n 'Seroquel',\n 'Sildenafil',\n 'Silodosin',\n 'Singulair',\n 'Sitagliptin',\n 'Solifenacin',\n 'Somatuline Depot',\n 'Strattera',\n 'Sutent',\n 'Sympazan',\n 'Tadalafil',\n 'Tamsulosin',\n 'Telmisartan',\n 'Terbinafine',\n 'Tizanidine',\n 'Tolterodine',\n 'Topamax',\n 'Topiramate',\n 'Torsemide',\n 'Treanda',\n 'Trileptal',\n 'Trokendi XR',\n 'Udenyca',\n 'Univasc',\n 'Uroxatral',\n 'VESIcare',\n 'Valacyclovir',\n 'Valsartan',\n 'Valtrex',\n 'Vardenafil',\n 'Velcade',\n 'Venlafaxine',\n 'Viagra',\n 'Victoza',\n 'Welchol',\n 'Xalkori',\n 'Xarelto',\n 'Xeloda',\n 'Xenical',\n 'Xhance',\n 'Xifaxan',\n 'Yondelis',\n 'Zafirlukast',\n 'Zaleplon',\n 'Zanaflex',\n 'Ziprasidone',\n 'Zoledronic acid',\n 'Zolmitriptan',\n 'Zolpidem',\n 'Zometa',\n 'Zomig',\n 'Zonegran',\n 'Zonisamide',\n 'Zyprexa',\n 'Zyvox']"
     },
     "execution_count": 202,
     "metadata": {},
     "output_type": "execute_result"
    }
   ],
   "source": [
    "sorted(list(general_info_v2.merge(output2, on='drug_name', how='inner')['drug_name'].unique()))"
   ],
   "metadata": {
    "collapsed": false,
    "pycharm": {
     "name": "#%%\n"
    }
   }
  },
  {
   "cell_type": "code",
   "execution_count": 199,
   "outputs": [],
   "source": [
    "#output2.sort_values(by='drug_name')"
   ],
   "metadata": {
    "collapsed": false,
    "pycharm": {
     "name": "#%%\n"
    }
   }
  },
  {
   "cell_type": "code",
   "execution_count": 199,
   "outputs": [],
   "source": [],
   "metadata": {
    "collapsed": false,
    "pycharm": {
     "name": "#%%\n"
    }
   }
  }
 ],
 "metadata": {
  "kernelspec": {
   "display_name": "Python 3",
   "language": "python",
   "name": "python3"
  },
  "language_info": {
   "codemirror_mode": {
    "name": "ipython",
    "version": 2
   },
   "file_extension": ".py",
   "mimetype": "text/x-python",
   "name": "python",
   "nbconvert_exporter": "python",
   "pygments_lexer": "ipython2",
   "version": "2.7.6"
  }
 },
 "nbformat": 4,
 "nbformat_minor": 0
}