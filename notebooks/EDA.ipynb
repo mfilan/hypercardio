{
 "cells": [
  {
   "cell_type": "code",
   "execution_count": 7,
   "outputs": [],
   "source": [
    "import pandas as pd\n",
    "from pandas_profiling import ProfileReport\n",
    "import os"
   ],
   "metadata": {
    "collapsed": false,
    "pycharm": {
     "name": "#%%\n"
    }
   }
  },
  {
   "cell_type": "code",
   "execution_count": 10,
   "outputs": [],
   "source": [
    "os.chdir(os.path.join(os.path.expanduser(\"~\"),'hypercardio'))"
   ],
   "metadata": {
    "collapsed": false,
    "pycharm": {
     "name": "#%%\n"
    }
   }
  },
  {
   "cell_type": "code",
   "execution_count": 11,
   "outputs": [
    {
     "name": "stdout",
     "output_type": "stream",
     "text": [
      "pandas==1.3.1\r\n",
      "pandas-profiling @ file:///private/var/folders/nz/j6p8yfhx1mv_0grj5xl4650h0000gp/T/abs_0566dd39-0400-49b9-86b7-3ea5df261113qrp1p58l/croots/recipe/pandas-profiling_1650891076485/work\r\n",
      "Note: you may need to restart the kernel to use updated packages.\n"
     ]
    }
   ],
   "source": [
    "%pip freeze | grep pandas"
   ],
   "metadata": {
    "collapsed": false,
    "pycharm": {
     "name": "#%%\n"
    }
   }
  },
  {
   "cell_type": "code",
   "execution_count": 12,
   "outputs": [],
   "source": [
    "drug_df = pd.read_csv('data/drug_indications_database.csv')\n",
    "schema_df = pd.read_csv('data/schema.csv')"
   ],
   "metadata": {
    "collapsed": false,
    "pycharm": {
     "name": "#%%\n"
    }
   }
  },
  {
   "cell_type": "code",
   "execution_count": 13,
   "outputs": [
    {
     "data": {
      "text/plain": "        DID_id   src_nm    src_id   drug_raw_name cas_cas_no  \\\n0     1_000001    NDFRT  C0016157       Fish Oils  8016-13-5   \n1     1_000002    NDFRT  C0016157       Fish Oils  8016-13-5   \n2     1_000003    NDFRT  C0016157       Fish Oils  8016-13-5   \n3     1_000004    NDFRT  C0016157       Fish Oils  8016-13-5   \n4     1_000005    NDFRT  C0016157       Fish Oils  8016-13-5   \n...        ...      ...       ...             ...        ...   \n1830  1_001834    ChEBI       NaN   beta-eudesmol   473-15-4   \n1831  1_001835    ChEBI       NaN   beta-sanshool   504-97-2   \n1832  1_001836    ChEBI       NaN   canthin-6-one   479-43-6   \n1833  1_001837  MeSH_PA   C103736  2-bromopropane    75-26-3   \n1834  1_001838  MeSH_PA   C103736  2-bromopropane    75-26-3   \n\n                 cas_pt cas_source         cas_match       chebi_pt  chebi_id  \\\n0              Fish oil    ChemID+  <syn per source>            NaN       NaN   \n1              Fish oil    ChemID+  <syn per source>            NaN       NaN   \n2              Fish oil    ChemID+  <syn per source>            NaN       NaN   \n3              Fish oil    ChemID+  <syn per source>            NaN       NaN   \n4              Fish oil    ChemID+  <syn per source>            NaN       NaN   \n...                 ...        ...               ...            ...       ...   \n1830      beta-Eudesmol    ChemID+             exact  beta-eudesmol   10417.0   \n1831           Sanshool    ChemID+        NT subtype  beta-sanshool   66166.0   \n1832      Canthin-6-one    ChemID+             exact  canthin-6-one    3363.0   \n1833  Isopropyl bromide    ChemID+  <syn per source>            NaN       NaN   \n1834  Isopropyl bromide    ChemID+  <syn per source>            NaN       NaN   \n\n      ... ind_umls_sem_typ4 ind_umls_in_term_match         ind_umls_in_term  \\\n0     ...               NaN                    NaN                      NaN   \n1     ...               NaN                    NaN                      NaN   \n2     ...               NaN                    NaN                      NaN   \n3     ...               NaN                    NaN                      NaN   \n4     ...               NaN                    NaN                      NaN   \n...   ...               ...                    ...                      ...   \n1830  ...               NaN                    NaN                      NaN   \n1831  ...               NaN                    NaN                      NaN   \n1832  ...               NaN              quasi syn  Antimycobacterial Agent   \n1833  ...               NaN      exact (CUI-based)                 Mutagens   \n1834  ...               NaN                    NaN                      NaN   \n\n               ind_umls_in_pt  ind_umls_in_cui ind_umls_in_term_typ  \\\n0                         NaN              NaN                  NaN   \n1                         NaN              NaN                  NaN   \n2                         NaN              NaN                  NaN   \n3                         NaN              NaN                  NaN   \n4                         NaN              NaN                  NaN   \n...                       ...              ...                  ...   \n1830                      NaN              NaN                  NaN   \n1831                      NaN              NaN                  NaN   \n1832  Antimycobacterial Agent         C0360390                    P   \n1833                 Mutagens         C0026879                    P   \n1834                      NaN              NaN                  NaN   \n\n                             ind_umls_in_sem_typ1 ind_umls_in_sem_typ2  \\\n0                                             NaN                  NaN   \n1                                             NaN                  NaN   \n2                                             NaN                  NaN   \n3                                             NaN                  NaN   \n4                                             NaN                  NaN   \n...                                           ...                  ...   \n1830                                          NaN                  NaN   \n1831                                          NaN                  NaN   \n1832           A1.4.1.1.1_Pharmacologic Substance                  NaN   \n1833  A1.4.1.1.5_Hazardous or Poisonous Substance                  NaN   \n1834                                          NaN                  NaN   \n\n     ind_umls_in_sem_typ3 ind_umls_in_sem_typ4  \n0                     NaN                  NaN  \n1                     NaN                  NaN  \n2                     NaN                  NaN  \n3                     NaN                  NaN  \n4                     NaN                  NaN  \n...                   ...                  ...  \n1830                  NaN                  NaN  \n1831                  NaN                  NaN  \n1832                  NaN                  NaN  \n1833                  NaN                  NaN  \n1834                  NaN                  NaN  \n\n[1835 rows x 64 columns]",
      "text/html": "<div>\n<style scoped>\n    .dataframe tbody tr th:only-of-type {\n        vertical-align: middle;\n    }\n\n    .dataframe tbody tr th {\n        vertical-align: top;\n    }\n\n    .dataframe thead th {\n        text-align: right;\n    }\n</style>\n<table border=\"1\" class=\"dataframe\">\n  <thead>\n    <tr style=\"text-align: right;\">\n      <th></th>\n      <th>DID_id</th>\n      <th>src_nm</th>\n      <th>src_id</th>\n      <th>drug_raw_name</th>\n      <th>cas_cas_no</th>\n      <th>cas_pt</th>\n      <th>cas_source</th>\n      <th>cas_match</th>\n      <th>chebi_pt</th>\n      <th>chebi_id</th>\n      <th>...</th>\n      <th>ind_umls_sem_typ4</th>\n      <th>ind_umls_in_term_match</th>\n      <th>ind_umls_in_term</th>\n      <th>ind_umls_in_pt</th>\n      <th>ind_umls_in_cui</th>\n      <th>ind_umls_in_term_typ</th>\n      <th>ind_umls_in_sem_typ1</th>\n      <th>ind_umls_in_sem_typ2</th>\n      <th>ind_umls_in_sem_typ3</th>\n      <th>ind_umls_in_sem_typ4</th>\n    </tr>\n  </thead>\n  <tbody>\n    <tr>\n      <th>0</th>\n      <td>1_000001</td>\n      <td>NDFRT</td>\n      <td>C0016157</td>\n      <td>Fish Oils</td>\n      <td>8016-13-5</td>\n      <td>Fish oil</td>\n      <td>ChemID+</td>\n      <td>&lt;syn per source&gt;</td>\n      <td>NaN</td>\n      <td>NaN</td>\n      <td>...</td>\n      <td>NaN</td>\n      <td>NaN</td>\n      <td>NaN</td>\n      <td>NaN</td>\n      <td>NaN</td>\n      <td>NaN</td>\n      <td>NaN</td>\n      <td>NaN</td>\n      <td>NaN</td>\n      <td>NaN</td>\n    </tr>\n    <tr>\n      <th>1</th>\n      <td>1_000002</td>\n      <td>NDFRT</td>\n      <td>C0016157</td>\n      <td>Fish Oils</td>\n      <td>8016-13-5</td>\n      <td>Fish oil</td>\n      <td>ChemID+</td>\n      <td>&lt;syn per source&gt;</td>\n      <td>NaN</td>\n      <td>NaN</td>\n      <td>...</td>\n      <td>NaN</td>\n      <td>NaN</td>\n      <td>NaN</td>\n      <td>NaN</td>\n      <td>NaN</td>\n      <td>NaN</td>\n      <td>NaN</td>\n      <td>NaN</td>\n      <td>NaN</td>\n      <td>NaN</td>\n    </tr>\n    <tr>\n      <th>2</th>\n      <td>1_000003</td>\n      <td>NDFRT</td>\n      <td>C0016157</td>\n      <td>Fish Oils</td>\n      <td>8016-13-5</td>\n      <td>Fish oil</td>\n      <td>ChemID+</td>\n      <td>&lt;syn per source&gt;</td>\n      <td>NaN</td>\n      <td>NaN</td>\n      <td>...</td>\n      <td>NaN</td>\n      <td>NaN</td>\n      <td>NaN</td>\n      <td>NaN</td>\n      <td>NaN</td>\n      <td>NaN</td>\n      <td>NaN</td>\n      <td>NaN</td>\n      <td>NaN</td>\n      <td>NaN</td>\n    </tr>\n    <tr>\n      <th>3</th>\n      <td>1_000004</td>\n      <td>NDFRT</td>\n      <td>C0016157</td>\n      <td>Fish Oils</td>\n      <td>8016-13-5</td>\n      <td>Fish oil</td>\n      <td>ChemID+</td>\n      <td>&lt;syn per source&gt;</td>\n      <td>NaN</td>\n      <td>NaN</td>\n      <td>...</td>\n      <td>NaN</td>\n      <td>NaN</td>\n      <td>NaN</td>\n      <td>NaN</td>\n      <td>NaN</td>\n      <td>NaN</td>\n      <td>NaN</td>\n      <td>NaN</td>\n      <td>NaN</td>\n      <td>NaN</td>\n    </tr>\n    <tr>\n      <th>4</th>\n      <td>1_000005</td>\n      <td>NDFRT</td>\n      <td>C0016157</td>\n      <td>Fish Oils</td>\n      <td>8016-13-5</td>\n      <td>Fish oil</td>\n      <td>ChemID+</td>\n      <td>&lt;syn per source&gt;</td>\n      <td>NaN</td>\n      <td>NaN</td>\n      <td>...</td>\n      <td>NaN</td>\n      <td>NaN</td>\n      <td>NaN</td>\n      <td>NaN</td>\n      <td>NaN</td>\n      <td>NaN</td>\n      <td>NaN</td>\n      <td>NaN</td>\n      <td>NaN</td>\n      <td>NaN</td>\n    </tr>\n    <tr>\n      <th>...</th>\n      <td>...</td>\n      <td>...</td>\n      <td>...</td>\n      <td>...</td>\n      <td>...</td>\n      <td>...</td>\n      <td>...</td>\n      <td>...</td>\n      <td>...</td>\n      <td>...</td>\n      <td>...</td>\n      <td>...</td>\n      <td>...</td>\n      <td>...</td>\n      <td>...</td>\n      <td>...</td>\n      <td>...</td>\n      <td>...</td>\n      <td>...</td>\n      <td>...</td>\n      <td>...</td>\n    </tr>\n    <tr>\n      <th>1830</th>\n      <td>1_001834</td>\n      <td>ChEBI</td>\n      <td>NaN</td>\n      <td>beta-eudesmol</td>\n      <td>473-15-4</td>\n      <td>beta-Eudesmol</td>\n      <td>ChemID+</td>\n      <td>exact</td>\n      <td>beta-eudesmol</td>\n      <td>10417.0</td>\n      <td>...</td>\n      <td>NaN</td>\n      <td>NaN</td>\n      <td>NaN</td>\n      <td>NaN</td>\n      <td>NaN</td>\n      <td>NaN</td>\n      <td>NaN</td>\n      <td>NaN</td>\n      <td>NaN</td>\n      <td>NaN</td>\n    </tr>\n    <tr>\n      <th>1831</th>\n      <td>1_001835</td>\n      <td>ChEBI</td>\n      <td>NaN</td>\n      <td>beta-sanshool</td>\n      <td>504-97-2</td>\n      <td>Sanshool</td>\n      <td>ChemID+</td>\n      <td>NT subtype</td>\n      <td>beta-sanshool</td>\n      <td>66166.0</td>\n      <td>...</td>\n      <td>NaN</td>\n      <td>NaN</td>\n      <td>NaN</td>\n      <td>NaN</td>\n      <td>NaN</td>\n      <td>NaN</td>\n      <td>NaN</td>\n      <td>NaN</td>\n      <td>NaN</td>\n      <td>NaN</td>\n    </tr>\n    <tr>\n      <th>1832</th>\n      <td>1_001836</td>\n      <td>ChEBI</td>\n      <td>NaN</td>\n      <td>canthin-6-one</td>\n      <td>479-43-6</td>\n      <td>Canthin-6-one</td>\n      <td>ChemID+</td>\n      <td>exact</td>\n      <td>canthin-6-one</td>\n      <td>3363.0</td>\n      <td>...</td>\n      <td>NaN</td>\n      <td>quasi syn</td>\n      <td>Antimycobacterial Agent</td>\n      <td>Antimycobacterial Agent</td>\n      <td>C0360390</td>\n      <td>P</td>\n      <td>A1.4.1.1.1_Pharmacologic Substance</td>\n      <td>NaN</td>\n      <td>NaN</td>\n      <td>NaN</td>\n    </tr>\n    <tr>\n      <th>1833</th>\n      <td>1_001837</td>\n      <td>MeSH_PA</td>\n      <td>C103736</td>\n      <td>2-bromopropane</td>\n      <td>75-26-3</td>\n      <td>Isopropyl bromide</td>\n      <td>ChemID+</td>\n      <td>&lt;syn per source&gt;</td>\n      <td>NaN</td>\n      <td>NaN</td>\n      <td>...</td>\n      <td>NaN</td>\n      <td>exact (CUI-based)</td>\n      <td>Mutagens</td>\n      <td>Mutagens</td>\n      <td>C0026879</td>\n      <td>P</td>\n      <td>A1.4.1.1.5_Hazardous or Poisonous Substance</td>\n      <td>NaN</td>\n      <td>NaN</td>\n      <td>NaN</td>\n    </tr>\n    <tr>\n      <th>1834</th>\n      <td>1_001838</td>\n      <td>MeSH_PA</td>\n      <td>C103736</td>\n      <td>2-bromopropane</td>\n      <td>75-26-3</td>\n      <td>Isopropyl bromide</td>\n      <td>ChemID+</td>\n      <td>&lt;syn per source&gt;</td>\n      <td>NaN</td>\n      <td>NaN</td>\n      <td>...</td>\n      <td>NaN</td>\n      <td>NaN</td>\n      <td>NaN</td>\n      <td>NaN</td>\n      <td>NaN</td>\n      <td>NaN</td>\n      <td>NaN</td>\n      <td>NaN</td>\n      <td>NaN</td>\n      <td>NaN</td>\n    </tr>\n  </tbody>\n</table>\n<p>1835 rows × 64 columns</p>\n</div>"
     },
     "execution_count": 13,
     "metadata": {},
     "output_type": "execute_result"
    }
   ],
   "source": [
    "drug_df"
   ],
   "metadata": {
    "collapsed": false,
    "pycharm": {
     "name": "#%%\n"
    }
   }
  },
  {
   "cell_type": "code",
   "execution_count": 14,
   "outputs": [
    {
     "data": {
      "text/plain": "Summarize dataset:   0%|          | 0/5 [00:00<?, ?it/s]",
      "application/vnd.jupyter.widget-view+json": {
       "version_major": 2,
       "version_minor": 0,
       "model_id": "85581e7d0e21475fba6e093149061584"
      }
     },
     "metadata": {},
     "output_type": "display_data"
    },
    {
     "name": "stderr",
     "output_type": "stream",
     "text": [
      "/Users/maciej.filanowicz/opt/anaconda3/envs/hypercardio/lib/python3.8/site-packages/pandas_profiling/model/correlations.py:55: UserWarning: There was an attempt to calculate the cramers correlation, but this failed.\n",
      "To hide this warning, disable the calculation\n",
      "(using `df.profile_report(correlations={\"cramers\": {\"calculate\": False}})`\n",
      "If this is problematic for your use case, please report this as an issue:\n",
      "https://github.com/pandas-profiling/pandas-profiling/issues\n",
      "(include the error message: 'No data; `observed` has size 0.')\n",
      "  warnings.warn(\n"
     ]
    },
    {
     "data": {
      "text/plain": "Generate report structure:   0%|          | 0/1 [00:00<?, ?it/s]",
      "application/vnd.jupyter.widget-view+json": {
       "version_major": 2,
       "version_minor": 0,
       "model_id": "85f5efe9d67c4d5b86f3baccc5e966d4"
      }
     },
     "metadata": {},
     "output_type": "display_data"
    },
    {
     "data": {
      "text/plain": "Render HTML:   0%|          | 0/1 [00:00<?, ?it/s]",
      "application/vnd.jupyter.widget-view+json": {
       "version_major": 2,
       "version_minor": 0,
       "model_id": "844b961e80b5490c837191c0e950ddf5"
      }
     },
     "metadata": {},
     "output_type": "display_data"
    },
    {
     "data": {
      "text/plain": "Export report to file:   0%|          | 0/1 [00:00<?, ?it/s]",
      "application/vnd.jupyter.widget-view+json": {
       "version_major": 2,
       "version_minor": 0,
       "model_id": "771647352b494b9bb86db04af3bcbe94"
      }
     },
     "metadata": {},
     "output_type": "display_data"
    }
   ],
   "source": [
    "prof = ProfileReport(drug_df)\n",
    "prof.to_file(output_file='reports/drug_indications_database.html')"
   ],
   "metadata": {
    "collapsed": false,
    "pycharm": {
     "name": "#%%\n"
    }
   }
  },
  {
   "cell_type": "code",
   "execution_count": null,
   "outputs": [],
   "source": [],
   "metadata": {
    "collapsed": false,
    "pycharm": {
     "name": "#%%\n"
    }
   }
  }
 ],
 "metadata": {
  "kernelspec": {
   "display_name": "Python 3",
   "language": "python",
   "name": "python3"
  },
  "language_info": {
   "codemirror_mode": {
    "name": "ipython",
    "version": 2
   },
   "file_extension": ".py",
   "mimetype": "text/x-python",
   "name": "python",
   "nbconvert_exporter": "python",
   "pygments_lexer": "ipython2",
   "version": "2.7.6"
  }
 },
 "nbformat": 4,
 "nbformat_minor": 0
}