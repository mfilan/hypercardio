{
 "cells": [
  {
   "cell_type": "code",
   "execution_count": 27,
   "outputs": [],
   "source": [
    "import pandas as pd\n",
    "import json\n",
    "import os"
   ],
   "metadata": {
    "collapsed": false,
    "pycharm": {
     "name": "#%%\n"
    }
   }
  },
  {
   "cell_type": "code",
   "execution_count": 40,
   "outputs": [],
   "source": [
    "os.chdir(os.path.join(os.path.expanduser(\"~\"),'hypercardio'))\n"
   ],
   "metadata": {
    "collapsed": false,
    "pycharm": {
     "name": "#%%\n"
    }
   }
  },
  {
   "cell_type": "code",
   "execution_count": 46,
   "outputs": [],
   "source": [
    "with open('data/drug_interactions.json','r') as fp:\n",
    "    drug_interactions = json.load(fp)"
   ],
   "metadata": {
    "collapsed": false,
    "pycharm": {
     "name": "#%%\n"
    }
   }
  },
  {
   "cell_type": "code",
   "execution_count": 47,
   "outputs": [],
   "source": [
    "with open('data/diseases_interactions.json','r') as fp:\n",
    "    diseases_interactions = json.load(fp)"
   ],
   "metadata": {
    "collapsed": false,
    "pycharm": {
     "name": "#%%\n"
    }
   }
  },
  {
   "cell_type": "code",
   "execution_count": 48,
   "outputs": [],
   "source": [
    "with open('data/general_info.json','r') as fp:\n",
    "    general_info = json.load(fp)"
   ],
   "metadata": {
    "collapsed": false,
    "pycharm": {
     "name": "#%%\n"
    }
   }
  },
  {
   "cell_type": "code",
   "execution_count": 59,
   "outputs": [],
   "source": [
    "drug_interactions_wojtek = pd.json_normalize(drug_interactions)"
   ],
   "metadata": {
    "collapsed": false,
    "pycharm": {
     "name": "#%%\n"
    }
   }
  },
  {
   "cell_type": "code",
   "execution_count": 60,
   "outputs": [],
   "source": [
    "diseases_interactions_wojtek = pd.json_normalize(diseases_interactions)"
   ],
   "metadata": {
    "collapsed": false,
    "pycharm": {
     "name": "#%%\n"
    }
   }
  },
  {
   "cell_type": "code",
   "execution_count": 61,
   "outputs": [],
   "source": [
    "general_info_wojtek = pd.DataFrame(general_info)"
   ],
   "metadata": {
    "collapsed": false,
    "pycharm": {
     "name": "#%%\n"
    }
   }
  },
  {
   "cell_type": "code",
   "execution_count": 62,
   "outputs": [],
   "source": [
    "output = drug_interactions_wojtek.merge(diseases_interactions_wojtek, on='drug name', how='inner')"
   ],
   "metadata": {
    "collapsed": false,
    "pycharm": {
     "name": "#%%\n"
    }
   }
  },
  {
   "cell_type": "code",
   "execution_count": 64,
   "outputs": [],
   "source": [
    "output = output.merge(general_info_wojtek, on='drug name', how='inner')"
   ],
   "metadata": {
    "collapsed": false,
    "pycharm": {
     "name": "#%%\n"
    }
   }
  },
  {
   "cell_type": "code",
   "execution_count": 68,
   "outputs": [],
   "source": [
    "with open('data/final/full_output.json','w') as fp:\n",
    "    json.dump(list(output.to_dict(orient='index').values()),fp,indent=4)"
   ],
   "metadata": {
    "collapsed": false,
    "pycharm": {
     "name": "#%%\n"
    }
   }
  },
  {
   "cell_type": "code",
   "execution_count": 66,
   "outputs": [
    {
     "data": {
      "text/plain": "{'drug name': 'Abilify',\n 'drug_interactions': [{'class': 'Moderate',\n   'name': 'abametapir topical',\n   'parent_id': '233-109',\n   'id': '4171-0'},\n  {'class': 'Moderate',\n   'name': 'abarelix',\n   'parent_id': '233-109',\n   'id': '5-0'},\n  {'class': 'Moderate',\n   'name': 'abiraterone',\n   'parent_id': '3321-0',\n   'id': '233-109'},\n  {'class': 'Moderate',\n   'name': 'acarbose',\n   'parent_id': '9-0',\n   'id': '233-109'},\n  {'class': 'Moderate',\n   'name': 'acebutolol',\n   'parent_id': '10-0',\n   'id': '233-109'},\n  {'class': 'Moderate',\n   'name': 'acetohexamide',\n   'parent_id': '93-0',\n   'id': '233-109'},\n  {'class': 'Moderate',\n   'name': 'acetylcarbromal',\n   'parent_id': '95-0',\n   'id': '233-109'},\n  {'class': 'Moderate',\n   'name': 'acetylcholine ophthalmic',\n   'parent_id': '96-0',\n   'id': '233-109'},\n  {'class': 'Moderate',\n   'name': 'aclidinium',\n   'parent_id': '3406-0',\n   'id': '233-109'},\n  {'class': 'Moderate',\n   'name': 'acrivastine',\n   'parent_id': '2875-0',\n   'id': '233-109'},\n  {'class': 'Moderate',\n   'name': 'albiglutide',\n   'parent_id': '3524-0',\n   'id': '233-109'},\n  {'class': 'Moderate',\n   'name': 'albuterol',\n   'parent_id': '109-0',\n   'id': '233-109'},\n  {'class': 'Major',\n   'name': 'alfentanil',\n   'parent_id': '118-0',\n   'id': '233-109'},\n  {'class': 'Moderate',\n   'name': 'alfuzosin',\n   'parent_id': '119-0',\n   'id': '233-109'},\n  {'class': 'Moderate',\n   'name': 'alogliptin',\n   'parent_id': '3448-0',\n   'id': '233-109'},\n  {'class': 'Moderate',\n   'name': 'alprazolam',\n   'parent_id': '133-0',\n   'id': '233-109'},\n  {'class': 'Moderate',\n   'name': 'amantadine',\n   'parent_id': '148-0',\n   'id': '233-109'},\n  {'class': 'Moderate',\n   'name': 'amifampridine',\n   'parent_id': '3982-0',\n   'id': '233-109'},\n  {'class': 'Moderate',\n   'name': 'amiloride',\n   'parent_id': '154-0',\n   'id': '233-109'},\n  {'class': 'Moderate',\n   'name': 'aminoglutethimide',\n   'parent_id': '158-0',\n   'id': '233-109'},\n  {'class': 'Moderate',\n   'name': 'amiodarone',\n   'parent_id': '167-0',\n   'id': '233-109'},\n  {'class': 'Moderate',\n   'name': 'amisulpride',\n   'parent_id': '4134-0',\n   'id': '233-109'},\n  {'class': 'Moderate',\n   'name': 'amitriptyline',\n   'parent_id': '168-0',\n   'id': '233-109'},\n  {'class': 'Moderate',\n   'name': 'amlodipine',\n   'parent_id': '172-0',\n   'id': '233-109'},\n  {'class': 'Moderate',\n   'name': 'amobarbital',\n   'parent_id': '184-0',\n   'id': '233-109'},\n  {'class': 'Moderate',\n   'name': 'amoxapine',\n   'parent_id': '186-0',\n   'id': '233-109'},\n  {'class': 'Moderate',\n   'name': 'amprenavir',\n   'parent_id': '199-0',\n   'id': '233-109'},\n  {'class': 'Moderate',\n   'name': 'amyl nitrite',\n   'parent_id': '200-0',\n   'id': '233-109'},\n  {'class': 'Moderate',\n   'name': 'anagrelide',\n   'parent_id': '204-0',\n   'id': '233-109'},\n  {'class': 'Moderate',\n   'name': 'apalutamide',\n   'parent_id': '3893-0',\n   'id': '233-109'},\n  {'class': 'Moderate',\n   'name': 'apomorphine',\n   'parent_id': '224-0',\n   'id': '233-109'},\n  {'class': 'Moderate',\n   'name': 'apraclonidine ophthalmic',\n   'parent_id': '225-0',\n   'id': '233-109'},\n  {'class': 'Moderate',\n   'name': 'aprepitant',\n   'parent_id': '226-0',\n   'id': '233-109'},\n  {'class': 'Moderate',\n   'name': 'arformoterol',\n   'parent_id': '230-0',\n   'id': '233-109'},\n  {'class': 'Minor',\n   'name': 'armodafinil',\n   'parent_id': '234-0',\n   'id': '233-109'},\n  {'class': 'Moderate',\n   'name': 'arsenic trioxide',\n   'parent_id': '236-0',\n   'id': '233-109'},\n  {'class': 'Moderate',\n   'name': 'asciminib',\n   'parent_id': '4307-0',\n   'id': '233-109'},\n  {'class': 'Moderate',\n   'name': 'asenapine',\n   'parent_id': '3168-0',\n   'id': '233-109'},\n  {'class': 'Moderate',\n   'name': 'astemizole',\n   'parent_id': '271-0',\n   'id': '233-109'},\n  {'class': 'Moderate',\n   'name': 'atazanavir',\n   'parent_id': '272-0',\n   'id': '233-109'},\n  {'class': 'Moderate',\n   'name': 'atenolol',\n   'parent_id': '273-0',\n   'id': '233-109'},\n  {'class': 'Moderate',\n   'name': 'atomoxetine',\n   'parent_id': '275-0',\n   'id': '233-109'},\n  {'class': 'Moderate',\n   'name': 'atropine',\n   'parent_id': '280-0',\n   'id': '233-109'},\n  {'class': 'Moderate',\n   'name': 'avacopan',\n   'parent_id': '4305-0',\n   'id': '233-109'},\n  {'class': 'Moderate',\n   'name': 'azatadine',\n   'parent_id': '294-0',\n   'id': '233-109'},\n  {'class': 'Moderate',\n   'name': 'azelastine nasal',\n   'parent_id': '298-0',\n   'id': '233-109'},\n  {'class': 'Moderate',\n   'name': 'azilsartan medoxomil',\n   'parent_id': '3302-0',\n   'id': '233-109'},\n  {'class': 'Moderate',\n   'name': 'azithromycin',\n   'parent_id': '300-0',\n   'id': '233-109'},\n  {'class': 'Moderate',\n   'name': 'baclofen',\n   'parent_id': '318-0',\n   'id': '233-109'},\n  {'class': 'Moderate',\n   'name': 'bedaquiline',\n   'parent_id': '3439-0',\n   'id': '233-109'},\n  {'class': 'Moderate',\n   'name': 'belladonna',\n   'parent_id': '327-0',\n   'id': '233-109'},\n  {'class': 'Moderate',\n   'name': 'belzutifan',\n   'parent_id': '4289-0',\n   'id': '233-109'},\n  {'class': 'Moderate',\n   'name': 'benazepril',\n   'parent_id': '332-0',\n   'id': '233-109'},\n  {'class': 'Moderate',\n   'name': 'bendroflumethiazide',\n   'parent_id': '334-0',\n   'id': '233-109'},\n  {'class': 'Moderate',\n   'name': 'benzthiazide',\n   'parent_id': '362-0',\n   'id': '233-109'},\n  {'class': 'Moderate',\n   'name': 'benztropine',\n   'parent_id': '363-0',\n   'id': '233-109'},\n  {'class': 'Moderate',\n   'name': 'bepridil',\n   'parent_id': '366-0',\n   'id': '233-109'},\n  {'class': 'Moderate',\n   'name': 'berotralstat',\n   'parent_id': '4224-0',\n   'id': '233-109'},\n  {'class': 'Moderate',\n   'name': 'betaxolol',\n   'parent_id': '374-0',\n   'id': '233-109'},\n  {'class': 'Moderate',\n   'name': 'bexarotene',\n   'parent_id': '378-0',\n   'id': '233-109'},\n  {'class': 'Moderate',\n   'name': 'bicalutamide',\n   'parent_id': '380-0',\n   'id': '233-109'},\n  {'class': 'Moderate',\n   'name': 'biperiden',\n   'parent_id': '384-0',\n   'id': '233-109'},\n  {'class': 'Moderate',\n   'name': 'bisoprolol',\n   'parent_id': '393-0',\n   'id': '233-109'},\n  {'class': 'Moderate',\n   'name': 'bitolterol',\n   'parent_id': '395-0',\n   'id': '233-109'},\n  {'class': 'Moderate',\n   'name': 'boceprevir',\n   'parent_id': '3323-0',\n   'id': '233-109'},\n  {'class': 'Moderate',\n   'name': 'bosentan',\n   'parent_id': '403-0',\n   'id': '233-109'},\n  {'class': 'Moderate',\n   'name': 'bosutinib',\n   'parent_id': '3416-0',\n   'id': '233-109'},\n  {'class': 'Moderate',\n   'name': 'brexanolone',\n   'parent_id': '3999-0',\n   'id': '233-109'},\n  {'class': 'Moderate',\n   'name': 'brexpiprazole',\n   'parent_id': '3639-0',\n   'id': '233-109'},\n  {'class': 'Moderate',\n   'name': 'brimonidine ophthalmic',\n   'parent_id': '410-0',\n   'id': '233-109'},\n  {'class': 'Moderate',\n   'name': 'brimonidine topical',\n   'parent_id': '3487-0',\n   'id': '233-109'},\n  {'class': 'Moderate',\n   'name': 'brivaracetam',\n   'parent_id': '3728-0',\n   'id': '233-109'},\n  {'class': 'Moderate',\n   'name': 'bromocriptine',\n   'parent_id': '414-0',\n   'id': '233-109'},\n  {'class': 'Moderate',\n   'name': 'brompheniramine',\n   'parent_id': '416-0',\n   'id': '233-109'},\n  {'class': 'Moderate',\n   'name': 'bumetanide',\n   'parent_id': '433-0',\n   'id': '233-109'},\n  {'class': 'Major',\n   'name': 'buprenorphine',\n   'parent_id': '438-0',\n   'id': '233-109'},\n  {'class': 'Major',\n   'name': 'bupropion',\n   'parent_id': '440-0',\n   'id': '233-109'},\n  {'class': 'Moderate',\n   'name': 'buspirone',\n   'parent_id': '441-0',\n   'id': '233-109'},\n  {'class': 'Moderate',\n   'name': 'butabarbital',\n   'parent_id': '443-0',\n   'id': '233-109'},\n  {'class': 'Moderate',\n   'name': 'butalbital',\n   'parent_id': '2338-0',\n   'id': '233-109'},\n  {'class': 'Major',\n   'name': 'butorphanol',\n   'parent_id': '448-0',\n   'id': '233-109'},\n  {'class': 'Moderate',\n   'name': 'cabergoline',\n   'parent_id': '449-0',\n   'id': '233-109'},\n  {'class': 'Moderate',\n   'name': 'cabozantinib',\n   'parent_id': '3430-0',\n   'id': '233-109'},\n  {'class': 'Moderate',\n   'name': 'canagliflozin',\n   'parent_id': '3465-0',\n   'id': '233-109'},\n  {'class': 'Moderate',\n   'name': 'candesartan',\n   'parent_id': '487-0',\n   'id': '233-109'},\n  {'class': 'Moderate',\n   'name': 'cannabidiol',\n   'parent_id': '3919-0',\n   'id': '233-109'},\n  {'class': 'Moderate',\n   'name': 'cannabis',\n   'parent_id': '2758-0',\n   'id': '233-109'},\n  {'class': 'Moderate',\n   'name': 'captopril',\n   'parent_id': '493-0',\n   'id': '233-109'},\n  {'class': 'Moderate',\n   'name': 'carbachol ophthalmic',\n   'parent_id': '496-0',\n   'id': '233-109'},\n  {'class': 'Moderate',\n   'name': 'carbamazepine',\n   'parent_id': '497-0',\n   'id': '233-109'},\n  {'class': 'Moderate',\n   'name': 'carbetapentane',\n   'parent_id': '2804-0',\n   'id': '233-109'},\n  {'class': 'Moderate',\n   'name': 'carbinoxamine',\n   'parent_id': '516-0',\n   'id': '233-109'},\n  {'class': 'Moderate',\n   'name': 'cariprazine',\n   'parent_id': '3684-0',\n   'id': '233-109'},\n  {'class': 'Moderate',\n   'name': 'carisoprodol',\n   'parent_id': '527-0',\n   'id': '233-109'},\n  {'class': 'Moderate',\n   'name': 'carteolol',\n   'parent_id': '529-0',\n   'id': '233-109'},\n  {'class': 'Moderate',\n   'name': 'carvedilol',\n   'parent_id': '531-0',\n   'id': '233-109'},\n  {'class': 'Moderate',\n   'name': 'celecoxib',\n   'parent_id': '560-0',\n   'id': '233-109'},\n  {'class': 'Moderate',\n   'name': 'cenobamate',\n   'parent_id': '4105-0',\n   'id': '233-109'},\n  {'class': 'Moderate',\n   'name': 'ceritinib',\n   'parent_id': '3527-0',\n   'id': '233-109'},\n  {'class': 'Moderate',\n   'name': 'cetirizine',\n   'parent_id': '569-0',\n   'id': '233-109'},\n  {'class': 'Moderate',\n   'name': 'chlophedianol',\n   'parent_id': '3182-0',\n   'id': '233-109'},\n  {'class': 'Moderate',\n   'name': 'chloral hydrate',\n   'parent_id': '577-0',\n   'id': '233-109'},\n  {'class': 'Moderate',\n   'name': 'chloramphenicol',\n   'parent_id': '579-0',\n   'id': '233-109'},\n  {'class': 'Moderate',\n   'name': 'chlorcyclizine',\n   'parent_id': '3268-0',\n   'id': '233-109'},\n  {'class': 'Moderate',\n   'name': 'chlordiazepoxide',\n   'parent_id': '585-0',\n   'id': '233-109'},\n  {'class': 'Moderate',\n   'name': 'chlormezanone',\n   'parent_id': '589-0',\n   'id': '233-109'},\n  {'class': 'Moderate',\n   'name': 'chloroquine',\n   'parent_id': '593-0',\n   'id': '233-109'},\n  {'class': 'Moderate',\n   'name': 'chlorothiazide',\n   'parent_id': '594-0',\n   'id': '233-109'},\n  {'class': 'Moderate',\n   'name': 'chlorphenesin',\n   'parent_id': '603-0',\n   'id': '233-109'},\n  {'class': 'Moderate',\n   'name': 'chlorpheniramine',\n   'parent_id': '604-0',\n   'id': '233-109'},\n  {'class': 'Moderate',\n   'name': 'chlorpromazine',\n   'parent_id': '639-0',\n   'id': '233-109'},\n  {'class': 'Moderate',\n   'name': 'chlorpropamide',\n   'parent_id': '640-0',\n   'id': '233-109'},\n  {'class': 'Moderate',\n   'name': 'chlorthalidone',\n   'parent_id': '642-0',\n   'id': '233-109'},\n  {'class': 'Moderate',\n   'name': 'chlorzoxazone',\n   'parent_id': '645-0',\n   'id': '233-109'},\n  {'class': 'Moderate',\n   'name': 'cilostazol',\n   'parent_id': '668-0',\n   'id': '233-109'},\n  {'class': 'Moderate',\n   'name': 'cimetidine',\n   'parent_id': '669-0',\n   'id': '233-109'},\n  {'class': 'Moderate',\n   'name': 'cinacalcet',\n   'parent_id': '670-0',\n   'id': '233-109'},\n  {'class': 'Moderate',\n   'name': 'ciprofloxacin',\n   'parent_id': '672-0',\n   'id': '233-109'},\n  {'class': 'Moderate',\n   'name': 'cisapride',\n   'parent_id': '676-0',\n   'id': '233-109'},\n  {'class': 'Moderate',\n   'name': 'citalopram',\n   'parent_id': '679-0',\n   'id': '233-109'},\n  {'class': 'Moderate',\n   'name': 'clarithromycin',\n   'parent_id': '685-0',\n   'id': '233-109'},\n  {'class': 'Moderate',\n   'name': 'clemastine',\n   'parent_id': '687-0',\n   'id': '233-109'},\n  {'class': 'Moderate',\n   'name': 'clevidipine',\n   'parent_id': '2909-0',\n   'id': '233-109'},\n  {'class': 'Moderate',\n   'name': 'clidinium',\n   'parent_id': '689-0',\n   'id': '233-109'},\n  {'class': 'Moderate',\n   'name': 'clobazam',\n   'parent_id': '3350-0',\n   'id': '233-109'},\n  {'class': 'Moderate',\n   'name': 'clofazimine',\n   'parent_id': '699-0',\n   'id': '233-109'},\n  {'class': 'Moderate',\n   'name': 'clomipramine',\n   'parent_id': '702-0',\n   'id': '233-109'},\n  {'class': 'Moderate',\n   'name': 'clonazepam',\n   'parent_id': '703-0',\n   'id': '233-109'},\n  {'class': 'Moderate',\n   'name': 'clonidine',\n   'parent_id': '704-0',\n   'id': '233-109'},\n  {'class': 'Moderate',\n   'name': 'clorazepate',\n   'parent_id': '706-0',\n   'id': '233-109'},\n  {'class': 'Moderate',\n   'name': 'clotrimazole',\n   'parent_id': '3106-0',\n   'id': '233-109'},\n  {'class': 'Major',\n   'name': 'clozapine',\n   'parent_id': '709-0',\n   'id': '233-109'},\n  {'class': 'Moderate',\n   'name': 'cobicistat',\n   'parent_id': '3565-0',\n   'id': '233-109'},\n  {'class': 'Major', 'name': 'codeine', 'parent_id': '718-0', 'id': '233-109'},\n  {'class': 'Moderate',\n   'name': 'conivaptan',\n   'parent_id': '737-0',\n   'id': '233-109'},\n  {'class': 'Moderate',\n   'name': 'crizotinib',\n   'parent_id': '3342-0',\n   'id': '233-109'},\n  {'class': 'Moderate',\n   'name': 'cyclandelate',\n   'parent_id': '756-0',\n   'id': '233-109'},\n  {'class': 'Moderate',\n   'name': 'cyclizine',\n   'parent_id': '757-0',\n   'id': '233-109'},\n  {'class': 'Moderate',\n   'name': 'cyclobenzaprine',\n   'parent_id': '758-0',\n   'id': '233-109'},\n  {'class': 'Moderate',\n   'name': 'cyclosporine',\n   'parent_id': '763-0',\n   'id': '233-109'},\n  {'class': 'Moderate',\n   'name': 'cyproheptadine',\n   'parent_id': '765-0',\n   'id': '233-109'},\n  {'class': 'Moderate',\n   'name': 'dabrafenib',\n   'parent_id': '3475-0',\n   'id': '233-109'},\n  {'class': 'Moderate',\n   'name': 'dacomitinib',\n   'parent_id': '3962-0',\n   'id': '233-109'},\n  {'class': 'Moderate',\n   'name': 'danazol',\n   'parent_id': '778-0',\n   'id': '233-109'},\n  {'class': 'Moderate',\n   'name': 'dantrolene',\n   'parent_id': '779-0',\n   'id': '233-109'},\n  {'class': 'Moderate',\n   'name': 'dapagliflozin',\n   'parent_id': '3506-0',\n   'id': '233-109'},\n  {'class': 'Moderate',\n   'name': 'daridorexant',\n   'parent_id': '4332-0',\n   'id': '233-109'},\n  {'class': 'Moderate',\n   'name': 'darifenacin',\n   'parent_id': '785-0',\n   'id': '233-109'},\n  {'class': 'Moderate',\n   'name': 'darunavir',\n   'parent_id': '786-0',\n   'id': '233-109'},\n  {'class': 'Moderate',\n   'name': 'dasatinib',\n   'parent_id': '787-0',\n   'id': '233-109'},\n  {'class': 'Moderate',\n   'name': 'daunorubicin',\n   'parent_id': '788-0',\n   'id': '233-109'},\n  {'class': 'Moderate',\n   'name': 'daunorubicin liposomal',\n   'parent_id': '789-0',\n   'id': '233-109'},\n  {'class': 'Moderate',\n   'name': 'deferasirox',\n   'parent_id': '791-0',\n   'id': '233-109'},\n  {'class': 'Moderate',\n   'name': 'degarelix',\n   'parent_id': '3102-0',\n   'id': '233-109'},\n  {'class': 'Moderate',\n   'name': 'delavirdine',\n   'parent_id': '794-0',\n   'id': '233-109'},\n  {'class': 'Moderate',\n   'name': 'demecarium bromide ophthalmic',\n   'parent_id': '795-0',\n   'id': '233-109'},\n  {'class': 'Moderate',\n   'name': 'deserpidine',\n   'parent_id': '798-0',\n   'id': '233-109'},\n  {'class': 'Moderate',\n   'name': 'desipramine',\n   'parent_id': '802-0',\n   'id': '233-109'},\n  {'class': 'Moderate',\n   'name': 'desvenlafaxine',\n   'parent_id': '2796-0',\n   'id': '233-109'},\n  {'class': 'Major',\n   'name': 'deutetrabenazine',\n   'parent_id': '3799-0',\n   'id': '233-109'},\n  {'class': 'Moderate',\n   'name': 'dexamethasone',\n   'parent_id': '810-0',\n   'id': '233-109'},\n  {'class': 'Moderate',\n   'name': 'dexbrompheniramine',\n   'parent_id': '3387-0',\n   'id': '233-109'},\n  {'class': 'Moderate',\n   'name': 'dexchlorpheniramine',\n   'parent_id': '824-0',\n   'id': '233-109'},\n  {'class': 'Moderate',\n   'name': 'dexfenfluramine',\n   'parent_id': '834-0',\n   'id': '233-109'},\n  {'class': 'Moderate',\n   'name': 'dexmedetomidine',\n   'parent_id': '835-0',\n   'id': '233-109'},\n  {'class': 'Moderate',\n   'name': 'dextromethorphan',\n   'parent_id': '844-0',\n   'id': '233-109'},\n  {'class': 'Major',\n   'name': 'dezocine',\n   'parent_id': '859-0',\n   'id': '233-109'},\n  {'class': 'Moderate',\n   'name': 'diazepam',\n   'parent_id': '862-0',\n   'id': '233-109'},\n  {'class': 'Moderate',\n   'name': 'diazoxide',\n   'parent_id': '863-0',\n   'id': '233-109'},\n  {'class': 'Moderate',\n   'name': 'dicyclomine',\n   'parent_id': '875-0',\n   'id': '233-109'},\n  {'class': 'Moderate',\n   'name': 'difelikefalin',\n   'parent_id': '4293-0',\n   'id': '233-109'},\n  {'class': 'Moderate',\n   'name': 'diltiazem',\n   'parent_id': '890-0',\n   'id': '233-109'},\n  {'class': 'Moderate',\n   'name': 'dimenhydrinate',\n   'parent_id': '892-0',\n   'id': '233-109'},\n  {'class': 'Moderate',\n   'name': 'diphenhydramine',\n   'parent_id': '896-0',\n   'id': '233-109'},\n  {'class': 'Moderate',\n   'name': 'disopyramide',\n   'parent_id': '916-0',\n   'id': '233-109'},\n  {'class': 'Moderate',\n   'name': 'divalproex sodium',\n   'parent_id': '918-0',\n   'id': '233-109'},\n  {'class': 'Moderate',\n   'name': 'dofetilide',\n   'parent_id': '925-0',\n   'id': '233-109'},\n  {'class': 'Moderate',\n   'name': 'dolasetron',\n   'parent_id': '926-0',\n   'id': '233-109'},\n  {'class': 'Moderate',\n   'name': 'donepezil',\n   'parent_id': '927-0',\n   'id': '233-109'},\n  {'class': 'Moderate',\n   'name': 'dopamine',\n   'parent_id': '928-0',\n   'id': '233-109'},\n  {'class': 'Moderate',\n   'name': 'doxazosin',\n   'parent_id': '934-0',\n   'id': '233-109'},\n  {'class': 'Moderate',\n   'name': 'doxepin',\n   'parent_id': '935-0',\n   'id': '233-109'},\n  {'class': 'Moderate',\n   'name': 'doxepin topical',\n   'parent_id': '936-0',\n   'id': '233-109'},\n  {'class': 'Moderate',\n   'name': 'doxorubicin',\n   'parent_id': '938-0',\n   'id': '233-109'},\n  {'class': 'Moderate',\n   'name': 'doxorubicin liposomal',\n   'parent_id': '939-0',\n   'id': '233-109'},\n  {'class': 'Moderate',\n   'name': 'doxylamine',\n   'parent_id': '942-0',\n   'id': '233-109'},\n  {'class': 'Moderate',\n   'name': 'dronabinol',\n   'parent_id': '943-0',\n   'id': '233-109'},\n  {'class': 'Moderate',\n   'name': 'dronedarone',\n   'parent_id': '3147-0',\n   'id': '233-109'},\n  {'class': 'Moderate',\n   'name': 'droperidol',\n   'parent_id': '944-0',\n   'id': '233-109'},\n  {'class': 'Moderate',\n   'name': 'dulaglutide',\n   'parent_id': '3562-0',\n   'id': '233-109'},\n  {'class': 'Moderate',\n   'name': 'duloxetine',\n   'parent_id': '949-0',\n   'id': '233-109'},\n  {'class': 'Moderate',\n   'name': 'duvelisib',\n   'parent_id': '3961-0',\n   'id': '233-109'},\n  {'class': 'Moderate',\n   'name': 'echinacea',\n   'parent_id': '955-0',\n   'id': '233-109'},\n  {'class': 'Moderate',\n   'name': 'echothiophate iodide ophthalmic',\n   'parent_id': '956-0',\n   'id': '233-109'},\n  {'class': 'Moderate',\n   'name': 'efavirenz',\n   'parent_id': '963-0',\n   'id': '233-109'},\n  {'class': 'Moderate',\n   'name': 'elagolix',\n   'parent_id': '3930-0',\n   'id': '233-109'},\n  {'class': 'Moderate',\n   'name': 'eliglustat',\n   'parent_id': '3556-0',\n   'id': '233-109'},\n  {'class': 'Moderate',\n   'name': 'eluxadoline',\n   'parent_id': '3630-0',\n   'id': '233-109'},\n  {'class': 'Moderate',\n   'name': 'empagliflozin',\n   'parent_id': '3548-0',\n   'id': '233-109'},\n  {'class': 'Moderate',\n   'name': 'enalapril',\n   'parent_id': '972-0',\n   'id': '233-109'},\n  {'class': 'Moderate',\n   'name': 'enalaprilat',\n   'parent_id': '2367-0',\n   'id': '233-109'},\n  {'class': 'Moderate',\n   'name': 'encorafenib',\n   'parent_id': '3921-0',\n   'id': '233-109'},\n  {'class': 'Moderate',\n   'name': 'entacapone',\n   'parent_id': '979-0',\n   'id': '233-109'},\n  {'class': 'Moderate',\n   'name': 'entrectinib',\n   'parent_id': '4082-0',\n   'id': '233-109'},\n  {'class': 'Moderate',\n   'name': 'enzalutamide',\n   'parent_id': '3414-0',\n   'id': '233-109'},\n  {'class': 'Moderate',\n   'name': 'epinephrine',\n   'parent_id': '989-0',\n   'id': '233-109'},\n  {'class': 'Moderate',\n   'name': 'epirubicin',\n   'parent_id': '996-0',\n   'id': '233-109'},\n  {'class': 'Moderate',\n   'name': 'eplerenone',\n   'parent_id': '997-0',\n   'id': '233-109'},\n  {'class': 'Moderate',\n   'name': 'eprosartan',\n   'parent_id': '1000-0',\n   'id': '233-109'},\n  {'class': 'Moderate',\n   'name': 'eribulin',\n   'parent_id': '3284-0',\n   'id': '233-109'},\n  {'class': 'Moderate',\n   'name': 'ertugliflozin',\n   'parent_id': '3883-0',\n   'id': '233-109'},\n  {'class': 'Moderate',\n   'name': 'erythromycin',\n   'parent_id': '1009-0',\n   'id': '233-109'},\n  {'class': 'Moderate',\n   'name': 'escitalopram',\n   'parent_id': '1013-0',\n   'id': '233-109'},\n  {'class': 'Moderate',\n   'name': 'esketamine',\n   'parent_id': '3996-0',\n   'id': '233-109'},\n  {'class': 'Moderate',\n   'name': 'eslicarbazepine',\n   'parent_id': '3499-0',\n   'id': '233-109'},\n  {'class': 'Moderate',\n   'name': 'esmolol',\n   'parent_id': '1014-0',\n   'id': '233-109'},\n  {'class': 'Moderate',\n   'name': 'estazolam',\n   'parent_id': '1016-0',\n   'id': '233-109'},\n  {'class': 'Moderate',\n   'name': 'eszopiclone',\n   'parent_id': '1030-0',\n   'id': '233-109'},\n  {'class': 'Moderate',\n   'name': 'ethacrynic acid',\n   'parent_id': '1032-0',\n   'id': '233-109'},\n  {'class': 'Moderate',\n   'name': 'ethanol',\n   'parent_id': '1034-0',\n   'id': '233-109'},\n  {'class': 'Moderate',\n   'name': 'ethaverine',\n   'parent_id': '1037-0',\n   'id': '233-109'},\n  {'class': 'Moderate',\n   'name': 'ethchlorvynol',\n   'parent_id': '1038-0',\n   'id': '233-109'},\n  {'class': 'Moderate',\n   'name': 'ethosuximide',\n   'parent_id': '1049-0',\n   'id': '233-109'},\n  {'class': 'Moderate',\n   'name': 'ethotoin',\n   'parent_id': '1050-0',\n   'id': '233-109'},\n  {'class': 'Moderate',\n   'name': 'etravirine',\n   'parent_id': '2793-0',\n   'id': '233-109'},\n  {'class': 'Minor',\n   'name': 'evening primrose',\n   'parent_id': '1059-0',\n   'id': '233-109'},\n  {'class': 'Moderate',\n   'name': 'exenatide',\n   'parent_id': '1061-0',\n   'id': '233-109'},\n  {'class': 'Moderate',\n   'name': 'ezogabine',\n   'parent_id': '3330-0',\n   'id': '233-109'},\n  {'class': 'Moderate',\n   'name': 'famotidine',\n   'parent_id': '1066-0',\n   'id': '233-109'},\n  {'class': 'Moderate',\n   'name': 'fedratinib',\n   'parent_id': '4083-0',\n   'id': '233-109'},\n  {'class': 'Moderate',\n   'name': 'felbamate',\n   'parent_id': '1068-0',\n   'id': '233-109'},\n  {'class': 'Moderate',\n   'name': 'felodipine',\n   'parent_id': '1069-0',\n   'id': '233-109'},\n  {'class': 'Moderate',\n   'name': 'fenfluramine',\n   'parent_id': '1070-0',\n   'id': '233-109'},\n  {'class': 'Moderate',\n   'name': 'fenoldopam',\n   'parent_id': '1072-0',\n   'id': '233-109'},\n  {'class': 'Major',\n   'name': 'fentanyl',\n   'parent_id': '1074-0',\n   'id': '233-109'},\n  {'class': 'Moderate',\n   'name': 'fesoterodine',\n   'parent_id': '2962-0',\n   'id': '233-109'},\n  {'class': 'Moderate',\n   'name': 'fexinidazole',\n   'parent_id': '4280-0',\n   'id': '233-109'},\n  {'class': 'Moderate',\n   'name': 'fingolimod',\n   'parent_id': '3264-0',\n   'id': '233-109'},\n  {'class': 'Moderate',\n   'name': 'flavoxate',\n   'parent_id': '1092-0',\n   'id': '233-109'},\n  {'class': 'Moderate',\n   'name': 'flecainide',\n   'parent_id': '1094-0',\n   'id': '233-109'},\n  {'class': 'Moderate',\n   'name': 'flibanserin',\n   'parent_id': '3675-0',\n   'id': '233-109'},\n  {'class': 'Moderate',\n   'name': 'fluconazole',\n   'parent_id': '1096-0',\n   'id': '233-109'},\n  {'class': 'Moderate',\n   'name': 'fluoxetine',\n   'parent_id': '1115-0',\n   'id': '233-109'},\n  {'class': 'Moderate',\n   'name': 'fluphenazine',\n   'parent_id': '1118-0',\n   'id': '233-109'},\n  {'class': 'Moderate',\n   'name': 'flurazepam',\n   'parent_id': '1120-0',\n   'id': '233-109'},\n  {'class': 'Moderate',\n   'name': 'flutamide',\n   'parent_id': '1123-0',\n   'id': '233-109'},\n  {'class': 'Moderate',\n   'name': 'fluvoxamine',\n   'parent_id': '1128-0',\n   'id': '233-109'},\n  {'class': 'Moderate',\n   'name': 'formoterol',\n   'parent_id': '1136-0',\n   'id': '233-109'},\n  {'class': 'Moderate',\n   'name': 'fosamprenavir',\n   'parent_id': '1137-0',\n   'id': '233-109'},\n  {'class': 'Moderate',\n   'name': 'fosaprepitant',\n   'parent_id': '2862-0',\n   'id': '233-109'},\n  {'class': 'Moderate',\n   'name': 'foscarnet',\n   'parent_id': '1138-0',\n   'id': '233-109'},\n  {'class': 'Moderate',\n   'name': 'fosinopril',\n   'parent_id': '1140-0',\n   'id': '233-109'},\n  {'class': 'Moderate',\n   'name': 'fosphenytoin',\n   'parent_id': '1142-0',\n   'id': '233-109'},\n  {'class': 'Moderate',\n   'name': 'fostamatinib',\n   'parent_id': '3908-0',\n   'id': '233-109'},\n  {'class': 'Moderate',\n   'name': 'fostemsavir',\n   'parent_id': '4166-0',\n   'id': '233-109'},\n  {'class': 'Moderate',\n   'name': 'furosemide',\n   'parent_id': '1146-0',\n   'id': '233-109'},\n  {'class': 'Moderate',\n   'name': 'gabapentin',\n   'parent_id': '1147-0',\n   'id': '233-109'},\n  {'class': 'Moderate',\n   'name': 'gabapentin enacarbil',\n   'parent_id': '3488-0',\n   'id': '233-109'},\n  {'class': 'Moderate',\n   'name': 'galantamine',\n   'parent_id': '1153-0',\n   'id': '233-109'},\n  {'class': 'Moderate',\n   'name': 'ganaxolone',\n   'parent_id': '4348-0',\n   'id': '233-109'},\n  {'class': 'Moderate',\n   'name': 'gatifloxacin',\n   'parent_id': '1161-0',\n   'id': '233-109'},\n  {'class': 'Moderate',\n   'name': 'gefitinib',\n   'parent_id': '1163-0',\n   'id': '233-109'},\n  {'class': 'Moderate',\n   'name': 'gemifloxacin',\n   'parent_id': '1166-0',\n   'id': '233-109'},\n  {'class': 'Moderate',\n   'name': 'gilteritinib',\n   'parent_id': '3981-0',\n   'id': '233-109'},\n  {'class': 'Moderate',\n   'name': 'ginkgo',\n   'parent_id': '1174-0',\n   'id': '233-109'},\n  {'class': 'Moderate',\n   'name': 'givosiran',\n   'parent_id': '4104-0',\n   'id': '233-109'},\n  {'class': 'Moderate',\n   'name': 'glasdegib',\n   'parent_id': '3979-0',\n   'id': '233-109'},\n  {'class': 'Moderate',\n   'name': 'glimepiride',\n   'parent_id': '1176-0',\n   'id': '233-109'},\n  {'class': 'Moderate',\n   'name': 'glipizide',\n   'parent_id': '1179-0',\n   'id': '233-109'},\n  {'class': 'Moderate',\n   'name': 'glyburide',\n   'parent_id': '1185-0',\n   'id': '233-109'},\n  {'class': 'Moderate',\n   'name': 'glycerol phenylbutyrate',\n   'parent_id': '3452-0',\n   'id': '233-109'},\n  {'class': 'Moderate',\n   'name': 'glycopyrrolate',\n   'parent_id': '1192-0',\n   'id': '233-109'},\n  {'class': 'Moderate',\n   'name': 'glycopyrronium topical',\n   'parent_id': '3923-0',\n   'id': '233-109'},\n  {'class': 'Moderate',\n   'name': 'goldenseal',\n   'parent_id': '2508-0',\n   'id': '233-109'},\n  {'class': 'Moderate',\n   'name': 'goserelin',\n   'parent_id': '1195-0',\n   'id': '233-109'},\n  {'class': 'Moderate',\n   'name': 'granisetron',\n   'parent_id': '1197-0',\n   'id': '233-109'},\n  {'class': 'Moderate',\n   'name': 'grepafloxacin',\n   'parent_id': '1198-0',\n   'id': '233-109'},\n  {'class': 'Moderate',\n   'name': 'griseofulvin',\n   'parent_id': '1199-0',\n   'id': '233-109'},\n  {'class': 'Moderate',\n   'name': 'guanabenz',\n   'parent_id': '1215-0',\n   'id': '233-109'},\n  {'class': 'Moderate',\n   'name': 'guanadrel',\n   'parent_id': '1216-0',\n   'id': '233-109'},\n  {'class': 'Moderate',\n   'name': 'guanethidine',\n   'parent_id': '1217-0',\n   'id': '233-109'},\n  {'class': 'Moderate',\n   'name': 'guanfacine',\n   'parent_id': '1219-0',\n   'id': '233-109'},\n  {'class': 'Moderate',\n   'name': 'halazepam',\n   'parent_id': '1226-0',\n   'id': '233-109'},\n  {'class': 'Moderate',\n   'name': 'halofantrine',\n   'parent_id': '1229-0',\n   'id': '233-109'},\n  {'class': 'Moderate',\n   'name': 'haloperidol',\n   'parent_id': '1230-0',\n   'id': '233-109'},\n  {'class': 'Moderate',\n   'name': 'halothane',\n   'parent_id': '1232-0',\n   'id': '233-109'},\n  {'class': 'Moderate',\n   'name': 'heroin',\n   'parent_id': '2759-0',\n   'id': '233-109'},\n  {'class': 'Moderate',\n   'name': 'histrelin',\n   'parent_id': '1246-0',\n   'id': '233-109'},\n  {'class': 'Moderate',\n   'name': 'hydralazine',\n   'parent_id': '1253-0',\n   'id': '233-109'},\n  {'class': 'Moderate',\n   'name': 'hydrochlorothiazide',\n   'parent_id': '1257-0',\n   'id': '233-109'},\n  {'class': 'Major',\n   'name': 'hydrocodone',\n   'parent_id': '2874-0',\n   'id': '233-109'},\n  {'class': 'Moderate',\n   'name': 'hydroflumethiazide',\n   'parent_id': '1291-0',\n   'id': '233-109'},\n  {'class': 'Major',\n   'name': 'hydromorphone',\n   'parent_id': '1294-0',\n   'id': '233-109'},\n  {'class': 'Moderate',\n   'name': 'hydroxychloroquine',\n   'parent_id': '1298-0',\n   'id': '233-109'},\n  {'class': 'Moderate',\n   'name': 'hydroxyzine',\n   'parent_id': '1303-0',\n   'id': '233-109'},\n  {'class': 'Moderate',\n   'name': 'hyoscyamine',\n   'parent_id': '2513-0',\n   'id': '233-109'},\n  {'class': 'Moderate',\n   'name': 'ibutilide',\n   'parent_id': '1313-0',\n   'id': '233-109'},\n  {'class': 'Moderate',\n   'name': 'idarubicin',\n   'parent_id': '1315-0',\n   'id': '233-109'},\n  {'class': 'Moderate',\n   'name': 'idelalisib',\n   'parent_id': '3546-0',\n   'id': '233-109'},\n  {'class': 'Moderate',\n   'name': 'ifosfamide',\n   'parent_id': '1318-0',\n   'id': '233-109'},\n  {'class': 'Moderate',\n   'name': 'iloperidone',\n   'parent_id': '3140-0',\n   'id': '233-109'},\n  {'class': 'Moderate',\n   'name': 'imatinib',\n   'parent_id': '1321-0',\n   'id': '233-109'},\n  {'class': 'Moderate',\n   'name': 'imipramine',\n   'parent_id': '1323-0',\n   'id': '233-109'},\n  {'class': 'Moderate',\n   'name': 'indacaterol',\n   'parent_id': '3333-0',\n   'id': '233-109'},\n  {'class': 'Moderate',\n   'name': 'indapamide',\n   'parent_id': '1327-0',\n   'id': '233-109'},\n  {'class': 'Moderate',\n   'name': 'indinavir',\n   'parent_id': '1329-0',\n   'id': '233-109'},\n  {'class': 'Moderate',\n   'name': 'inotuzumab ozogamicin',\n   'parent_id': '3857-0',\n   'id': '233-109'},\n  {'class': 'Moderate',\n   'name': 'insulin',\n   'parent_id': '1340-0',\n   'id': '233-109'},\n  {'class': 'Moderate',\n   'name': 'insulin aspart',\n   'parent_id': '1341-0',\n   'id': '233-109'},\n  {'class': 'Moderate',\n   'name': 'insulin aspart protamine',\n   'parent_id': '2341-0',\n   'id': '233-109'},\n  {'class': 'Moderate',\n   'name': 'insulin degludec',\n   'parent_id': '3693-0',\n   'id': '233-109'},\n  {'class': 'Moderate',\n   'name': 'insulin detemir',\n   'parent_id': '1343-0',\n   'id': '233-109'},\n  {'class': 'Moderate',\n   'name': 'insulin glargine',\n   'parent_id': '1344-0',\n   'id': '233-109'},\n  {'class': 'Moderate',\n   'name': 'insulin glulisine',\n   'parent_id': '1345-0',\n   'id': '233-109'},\n  {'class': 'Moderate',\n   'name': 'insulin inhalation, rapid acting',\n   'parent_id': '1346-0',\n   'id': '233-109'},\n  {'class': 'Moderate',\n   'name': 'insulin isophane',\n   'parent_id': '1347-0',\n   'id': '233-109'},\n  {'class': 'Moderate',\n   'name': 'insulin lispro',\n   'parent_id': '1349-0',\n   'id': '233-109'},\n  {'class': 'Moderate',\n   'name': 'insulin lispro protamine',\n   'parent_id': '2766-0',\n   'id': '233-109'},\n  {'class': 'Moderate',\n   'name': 'insulin regular',\n   'parent_id': '1351-0',\n   'id': '233-109'},\n  {'class': 'Moderate',\n   'name': 'insulin zinc',\n   'parent_id': '1352-0',\n   'id': '233-109'},\n  {'class': 'Moderate',\n   'name': 'insulin zinc extended',\n   'parent_id': '1353-0',\n   'id': '233-109'},\n  {'class': 'Moderate',\n   'name': 'ioflupane I 123',\n   'parent_id': '3297-0',\n   'id': '233-109'},\n  {'class': 'Major',\n   'name': 'iohexol',\n   'parent_id': '1372-0',\n   'id': '233-109'},\n  {'class': 'Major',\n   'name': 'iopamidol',\n   'parent_id': '1373-0',\n   'id': '233-109'},\n  {'class': 'Moderate',\n   'name': 'ipratropium',\n   'parent_id': '1382-0',\n   'id': '233-109'},\n  {'class': 'Moderate',\n   'name': 'irbesartan',\n   'parent_id': '1383-0',\n   'id': '233-109'},\n  {'class': 'Moderate',\n   'name': 'isavuconazonium',\n   'parent_id': '3612-0',\n   'id': '233-109'},\n  {'class': 'Moderate',\n   'name': 'isocarboxazid',\n   'parent_id': '1389-0',\n   'id': '233-109'},\n  {'class': 'Moderate',\n   'name': 'isoetharine',\n   'parent_id': '1390-0',\n   'id': '233-109'},\n  {'class': 'Moderate',\n   'name': 'isoflurophate ophthalmic',\n   'parent_id': '1392-0',\n   'id': '233-109'},\n  {'class': 'Moderate',\n   'name': 'isoniazid',\n   'parent_id': '1393-0',\n   'id': '233-109'},\n  {'class': 'Moderate',\n   'name': 'isoproterenol',\n   'parent_id': '1397-0',\n   'id': '233-109'},\n  {'class': 'Moderate',\n   'name': 'isosorbide',\n   'parent_id': '1399-0',\n   'id': '233-109'},\n  {'class': 'Moderate',\n   'name': 'isosorbide dinitrate',\n   'parent_id': '1400-0',\n   'id': '233-109'},\n  {'class': 'Moderate',\n   'name': 'isosorbide mononitrate',\n   'parent_id': '1401-0',\n   'id': '233-109'},\n  {'class': 'Moderate',\n   'name': 'isoxsuprine',\n   'parent_id': '1404-0',\n   'id': '233-109'},\n  {'class': 'Moderate',\n   'name': 'isradipine',\n   'parent_id': '1405-0',\n   'id': '233-109'},\n  {'class': 'Moderate',\n   'name': 'itraconazole',\n   'parent_id': '1406-0',\n   'id': '233-109'},\n  {'class': 'Moderate',\n   'name': 'ivacaftor',\n   'parent_id': '3371-0',\n   'id': '233-109'},\n  {'class': 'Moderate',\n   'name': 'ivosidenib',\n   'parent_id': '3927-0',\n   'id': '233-109'},\n  {'class': 'Moderate',\n   'name': 'kava',\n   'parent_id': '2381-0',\n   'id': '233-109'},\n  {'class': 'Major',\n   'name': 'ketamine',\n   'parent_id': '1411-0',\n   'id': '233-109'},\n  {'class': 'Moderate',\n   'name': 'ketoconazole',\n   'parent_id': '1412-0',\n   'id': '233-109'},\n  {'class': 'Moderate',\n   'name': 'labetalol',\n   'parent_id': '1420-0',\n   'id': '233-109'},\n  {'class': 'Moderate',\n   'name': 'lamotrigine',\n   'parent_id': '1430-0',\n   'id': '233-109'},\n  {'class': 'Moderate',\n   'name': 'lapatinib',\n   'parent_id': '1436-0',\n   'id': '233-109'},\n  {'class': 'Moderate',\n   'name': 'larotrectinib',\n   'parent_id': '3980-0',\n   'id': '233-109'},\n  {'class': 'Moderate',\n   'name': 'lasmiditan',\n   'parent_id': '4095-0',\n   'id': '233-109'},\n  {'class': 'Moderate',\n   'name': 'lefamulin',\n   'parent_id': '4085-0',\n   'id': '233-109'},\n  {'class': 'Moderate',\n   'name': 'lenvatinib',\n   'parent_id': '3604-0',\n   'id': '233-109'},\n  {'class': 'Moderate',\n   'name': 'lesinurad',\n   'parent_id': '3725-0',\n   'id': '233-109'},\n  {'class': 'Moderate',\n   'name': 'letermovir',\n   'parent_id': '3873-0',\n   'id': '233-109'},\n  {'class': 'Moderate',\n   'name': 'leuprolide',\n   'parent_id': '1445-0',\n   'id': '233-109'},\n  {'class': 'Moderate',\n   'name': 'levalbuterol',\n   'parent_id': '1446-0',\n   'id': '233-109'},\n  {'class': 'Moderate',\n   'name': 'levamlodipine',\n   'parent_id': '4120-0',\n   'id': '233-109'},\n  {'class': 'Moderate',\n   'name': 'levetiracetam',\n   'parent_id': '1448-0',\n   'id': '233-109'},\n  {'class': 'Moderate',\n   'name': 'levocetirizine',\n   'parent_id': '1455-0',\n   'id': '233-109'},\n  {'class': 'Moderate',\n   'name': 'levodopa',\n   'parent_id': '1456-0',\n   'id': '233-109'},\n  {'class': 'Moderate',\n   'name': 'levofloxacin',\n   'parent_id': '1457-0',\n   'id': '233-109'},\n  {'class': 'Moderate',\n   'name': 'levoketoconazole',\n   'parent_id': '4330-0',\n   'id': '233-109'},\n  {'class': 'Major',\n   'name': 'levomethadyl acetate',\n   'parent_id': '1459-0',\n   'id': '233-109'},\n  {'class': 'Moderate',\n   'name': 'levomilnacipran',\n   'parent_id': '3483-0',\n   'id': '233-109'},\n  {'class': 'Major',\n   'name': 'levorphanol',\n   'parent_id': '1462-0',\n   'id': '233-109'},\n  {'class': 'Moderate',\n   'name': 'linagliptin',\n   'parent_id': '3322-0',\n   'id': '233-109'},\n  {'class': 'Moderate',\n   'name': 'lindane topical',\n   'parent_id': '1471-0',\n   'id': '233-109'},\n  {'class': 'Moderate',\n   'name': 'liraglutide',\n   'parent_id': '3189-0',\n   'id': '233-109'},\n  {'class': 'Moderate',\n   'name': 'lisdexamfetamine',\n   'parent_id': '1475-0',\n   'id': '233-109'},\n  {'class': 'Moderate',\n   'name': 'lisinopril',\n   'parent_id': '1476-0',\n   'id': '233-109'},\n  {'class': 'Moderate',\n   'name': 'lithium',\n   'parent_id': '1477-0',\n   'id': '233-109'},\n  {'class': 'Moderate',\n   'name': 'lixisenatide',\n   'parent_id': '3760-0',\n   'id': '233-109'},\n  {'class': 'Moderate',\n   'name': 'lofexidine',\n   'parent_id': '3910-0',\n   'id': '233-109'},\n  {'class': 'Moderate',\n   'name': 'lomefloxacin',\n   'parent_id': '1480-0',\n   'id': '233-109'},\n  {'class': 'Moderate',\n   'name': 'lomitapide',\n   'parent_id': '3437-0',\n   'id': '233-109'},\n  {'class': 'Moderate',\n   'name': 'lonafarnib',\n   'parent_id': '4203-0',\n   'id': '233-109'},\n  {'class': 'Moderate',\n   'name': 'lonapegsomatropin',\n   'parent_id': '4294-0',\n   'id': '233-109'},\n  {'class': 'Moderate',\n   'name': 'loperamide',\n   'parent_id': '1482-0',\n   'id': '233-109'},\n  {'class': 'Moderate',\n   'name': 'lorazepam',\n   'parent_id': '1488-0',\n   'id': '233-109'},\n  {'class': 'Moderate',\n   'name': 'lorcaserin',\n   'parent_id': '3401-0',\n   'id': '233-109'},\n  {'class': 'Moderate',\n   'name': 'lorlatinib',\n   'parent_id': '3974-0',\n   'id': '233-109'},\n  {'class': 'Moderate',\n   'name': 'losartan',\n   'parent_id': '1489-0',\n   'id': '233-109'},\n  {'class': 'Moderate',\n   'name': 'loxapine',\n   'parent_id': '1494-0',\n   'id': '233-109'},\n  {'class': 'Moderate',\n   'name': 'lumateperone',\n   'parent_id': '4114-0',\n   'id': '233-109'},\n  {'class': 'Moderate',\n   'name': 'lurasidone',\n   'parent_id': '3278-0',\n   'id': '233-109'},\n  {'class': 'Moderate',\n   'name': 'macimorelin',\n   'parent_id': '3886-0',\n   'id': '233-109'},\n  {'class': 'Moderate',\n   'name': 'maprotiline',\n   'parent_id': '1527-0',\n   'id': '233-109'},\n  {'class': 'Moderate',\n   'name': 'mavacamten',\n   'parent_id': '4360-0',\n   'id': '233-109'},\n  {'class': 'Moderate',\n   'name': 'mecamylamine',\n   'parent_id': '1536-0',\n   'id': '233-109'},\n  {'class': 'Moderate',\n   'name': 'meclizine',\n   'parent_id': '1540-0',\n   'id': '233-109'},\n  {'class': 'Moderate',\n   'name': 'mefloquine',\n   'parent_id': '1546-0',\n   'id': '233-109'},\n  {'class': 'Moderate',\n   'name': 'melatonin',\n   'parent_id': '1548-0',\n   'id': '233-109'},\n  {'class': 'Moderate',\n   'name': 'memantine',\n   'parent_id': '1551-0',\n   'id': '233-109'},\n  {'class': 'Moderate',\n   'name': 'mepenzolate',\n   'parent_id': '1556-0',\n   'id': '233-109'},\n  {'class': 'Major',\n   'name': 'meperidine',\n   'parent_id': '1557-0',\n   'id': '233-109'},\n  {'class': 'Moderate',\n   'name': 'mephenytoin',\n   'parent_id': '1560-0',\n   'id': '233-109'},\n  {'class': 'Moderate',\n   'name': 'mephobarbital',\n   'parent_id': '1561-0',\n   'id': '233-109'},\n  {'class': 'Moderate',\n   'name': 'meprobamate',\n   'parent_id': '1563-0',\n   'id': '233-109'},\n  {'class': 'Moderate',\n   'name': 'mesoridazine',\n   'parent_id': '1568-0',\n   'id': '233-109'},\n  {'class': 'Moderate',\n   'name': 'metaproterenol',\n   'parent_id': '1570-0',\n   'id': '233-109'},\n  {'class': 'Moderate',\n   'name': 'metaxalone',\n   'parent_id': '1572-0',\n   'id': '233-109'},\n  {'class': 'Moderate',\n   'name': 'metformin',\n   'parent_id': '1573-0',\n   'id': '233-109'},\n  {'class': 'Major',\n   'name': 'methadone',\n   'parent_id': '1578-0',\n   'id': '233-109'},\n  {'class': 'Moderate',\n   'name': 'methdilazine',\n   'parent_id': '1581-0',\n   'id': '233-109'},\n  {'class': 'Moderate',\n   'name': 'methocarbamol',\n   'parent_id': '1588-0',\n   'id': '233-109'},\n  {'class': 'Moderate',\n   'name': 'methohexital',\n   'parent_id': '1589-0',\n   'id': '233-109'},\n  {'class': 'Moderate',\n   'name': 'methotrimeprazine',\n   'parent_id': '1591-0',\n   'id': '233-109'},\n  {'class': 'Moderate',\n   'name': 'methscopolamine',\n   'parent_id': '1596-0',\n   'id': '233-109'},\n  {'class': 'Moderate',\n   'name': 'methsuximide',\n   'parent_id': '1598-0',\n   'id': '233-109'},\n  {'class': 'Moderate',\n   'name': 'methyclothiazide',\n   'parent_id': '1599-0',\n   'id': '233-109'},\n  {'class': 'Moderate',\n   'name': 'methyldopa',\n   'parent_id': '1603-0',\n   'id': '233-109'},\n  {'class': 'Major',\n   'name': 'metoclopramide',\n   'parent_id': '1612-0',\n   'id': '233-109'},\n  {'class': 'Moderate',\n   'name': 'metolazone',\n   'parent_id': '1614-0',\n   'id': '233-109'},\n  {'class': 'Moderate',\n   'name': 'metoprolol',\n   'parent_id': '1615-0',\n   'id': '233-109'},\n  {'class': 'Major',\n   'name': 'metrizamide',\n   'parent_id': '1616-0',\n   'id': '233-109'},\n  {'class': 'Moderate',\n   'name': 'metronidazole',\n   'parent_id': '1617-0',\n   'id': '233-109'},\n  {'class': 'Moderate',\n   'name': 'metyrosine',\n   'parent_id': '1620-0',\n   'id': '233-109'},\n  {'class': 'Moderate',\n   'name': 'mibefradil',\n   'parent_id': '1623-0',\n   'id': '233-109'},\n  {'class': 'Moderate',\n   'name': 'miconazole',\n   'parent_id': '1625-0',\n   'id': '233-109'},\n  {'class': 'Moderate',\n   'name': 'midazolam',\n   'parent_id': '1628-0',\n   'id': '233-109'},\n  {'class': 'Moderate',\n   'name': 'midostaurin',\n   'parent_id': '3804-0',\n   'id': '233-109'},\n  {'class': 'Moderate',\n   'name': 'mifepristone',\n   'parent_id': '1630-0',\n   'id': '233-109'},\n  {'class': 'Moderate',\n   'name': 'miglitol',\n   'parent_id': '1631-0',\n   'id': '233-109'},\n  {'class': 'Moderate',\n   'name': 'milnacipran',\n   'parent_id': '3101-0',\n   'id': '233-109'},\n  {'class': 'Moderate',\n   'name': 'minoxidil',\n   'parent_id': '1638-0',\n   'id': '233-109'},\n  {'class': 'Moderate',\n   'name': 'mirabegron',\n   'parent_id': '3402-0',\n   'id': '233-109'},\n  {'class': 'Moderate',\n   'name': 'mirtazapine',\n   'parent_id': '1640-0',\n   'id': '233-109'},\n  {'class': 'Moderate',\n   'name': 'mitapivat',\n   'parent_id': '4342-0',\n   'id': '233-109'},\n  {'class': 'Moderate',\n   'name': 'mitotane',\n   'parent_id': '1643-0',\n   'id': '233-109'},\n  {'class': 'Moderate',\n   'name': 'mobocertinib',\n   'parent_id': '4298-0',\n   'id': '233-109'},\n  {'class': 'Minor',\n   'name': 'modafinil',\n   'parent_id': '1647-0',\n   'id': '233-109'},\n  {'class': 'Moderate',\n   'name': 'moexipril',\n   'parent_id': '1648-0',\n   'id': '233-109'},\n  {'class': 'Moderate',\n   'name': 'molindone',\n   'parent_id': '1649-0',\n   'id': '233-109'},\n  {'class': 'Major',\n   'name': 'morphine',\n   'parent_id': '1656-0',\n   'id': '233-109'},\n  {'class': 'Major',\n   'name': 'morphine liposomal',\n   'parent_id': '1657-0',\n   'id': '233-109'},\n  {'class': 'Moderate',\n   'name': 'moxifloxacin',\n   'parent_id': '1659-0',\n   'id': '233-109'},\n  {'class': 'Moderate',\n   'name': 'nabilone',\n   'parent_id': '1673-0',\n   'id': '233-109'},\n  {'class': 'Moderate',\n   'name': 'nadolol',\n   'parent_id': '1675-0',\n   'id': '233-109'},\n  {'class': 'Moderate',\n   'name': 'nafcillin',\n   'parent_id': '1677-0',\n   'id': '233-109'},\n  {'class': 'Major',\n   'name': 'nalbuphine',\n   'parent_id': '1679-0',\n   'id': '233-109'},\n  {'class': 'Moderate',\n   'name': 'nateglinide',\n   'parent_id': '1695-0',\n   'id': '233-109'},\n  {'class': 'Moderate',\n   'name': 'nebivolol',\n   'parent_id': '2788-0',\n   'id': '233-109'},\n  {'class': 'Moderate',\n   'name': 'nefazodone',\n   'parent_id': '1698-0',\n   'id': '233-109'},\n  {'class': 'Moderate',\n   'name': 'nelfinavir',\n   'parent_id': '1700-0',\n   'id': '233-109'},\n  {'class': 'Moderate',\n   'name': 'nevirapine',\n   'parent_id': '1710-0',\n   'id': '233-109'},\n  {'class': 'Moderate',\n   'name': 'nicardipine',\n   'parent_id': '1713-0',\n   'id': '233-109'},\n  {'class': 'Moderate',\n   'name': 'nifedipine',\n   'parent_id': '1717-0',\n   'id': '233-109'},\n  {'class': 'Moderate',\n   'name': 'nilotinib',\n   'parent_id': '2785-0',\n   'id': '233-109'},\n  {'class': 'Moderate',\n   'name': 'nilutamide',\n   'parent_id': '1718-0',\n   'id': '233-109'},\n  {'class': 'Moderate',\n   'name': 'nimodipine',\n   'parent_id': '1719-0',\n   'id': '233-109'},\n  {'class': 'Moderate',\n   'name': 'nisoldipine',\n   'parent_id': '1720-0',\n   'id': '233-109'},\n  {'class': 'Moderate',\n   'name': 'nitroglycerin',\n   'parent_id': '2342-0',\n   'id': '233-109'},\n  {'class': 'Moderate',\n   'name': 'nitroprusside',\n   'parent_id': '1726-0',\n   'id': '233-109'},\n  {'class': 'Moderate',\n   'name': 'norfloxacin',\n   'parent_id': '1731-0',\n   'id': '233-109'},\n  {'class': 'Moderate',\n   'name': 'nortriptyline',\n   'parent_id': '1734-0',\n   'id': '233-109'},\n  {'class': 'Moderate',\n   'name': 'ofloxacin',\n   'parent_id': '1741-0',\n   'id': '233-109'},\n  {'class': 'Moderate',\n   'name': 'olanzapine',\n   'parent_id': '1744-0',\n   'id': '233-109'},\n  {'class': 'Moderate',\n   'name': 'oliceridine',\n   'parent_id': '4180-0',\n   'id': '233-109'},\n  {'class': 'Moderate',\n   'name': 'olmesartan',\n   'parent_id': '1745-0',\n   'id': '233-109'},\n  {'class': 'Moderate',\n   'name': 'olodaterol',\n   'parent_id': '3547-0',\n   'id': '233-109'},\n  {'class': 'Moderate',\n   'name': 'olopatadine nasal',\n   'parent_id': '2830-0',\n   'id': '233-109'},\n  {'class': 'Moderate',\n   'name': 'ondansetron',\n   'parent_id': '1752-0',\n   'id': '233-109'},\n  {'class': 'Moderate',\n   'name': 'opicapone',\n   'parent_id': '4148-0',\n   'id': '233-109'},\n  {'class': 'Moderate',\n   'name': 'opium',\n   'parent_id': '1754-0',\n   'id': '233-109'},\n  {'class': 'Moderate',\n   'name': 'orphenadrine',\n   'parent_id': '1757-0',\n   'id': '233-109'},\n  {'class': 'Moderate',\n   'name': 'osilodrostat',\n   'parent_id': '4141-0',\n   'id': '233-109'},\n  {'class': 'Moderate',\n   'name': 'osimertinib',\n   'parent_id': '3709-0',\n   'id': '233-109'},\n  {'class': 'Moderate',\n   'name': 'oxaliplatin',\n   'parent_id': '1760-0',\n   'id': '233-109'},\n  {'class': 'Moderate',\n   'name': 'oxamniquine',\n   'parent_id': '1761-0',\n   'id': '233-109'},\n  {'class': 'Moderate',\n   'name': 'oxazepam',\n   'parent_id': '1764-0',\n   'id': '233-109'},\n  {'class': 'Moderate',\n   'name': 'oxcarbazepine',\n   'parent_id': '1765-0',\n   'id': '233-109'},\n  {'class': 'Moderate',\n   'name': 'oxybutynin',\n   'parent_id': '1768-0',\n   'id': '233-109'},\n  {'class': 'Major',\n   'name': 'oxycodone',\n   'parent_id': '1770-0',\n   'id': '233-109'},\n  {'class': 'Major',\n   'name': 'oxymorphone',\n   'parent_id': '1773-0',\n   'id': '233-109'},\n  {'class': 'Moderate',\n   'name': 'oxytocin',\n   'parent_id': '1777-0',\n   'id': '233-109'},\n  {'class': 'Major',\n   'name': 'ozanimod',\n   'parent_id': '4142-0',\n   'id': '233-109'},\n  {'class': 'Moderate',\n   'name': 'pacritinib',\n   'parent_id': '4344-0',\n   'id': '233-109'},\n  {'class': 'Moderate',\n   'name': 'palbociclib',\n   'parent_id': '3602-0',\n   'id': '233-109'},\n  {'class': 'Moderate',\n   'name': 'paliperidone',\n   'parent_id': '1781-0',\n   'id': '233-109'},\n  {'class': 'Moderate',\n   'name': 'palonosetron',\n   'parent_id': '1783-0',\n   'id': '233-109'},\n  {'class': 'Moderate',\n   'name': 'panobinostat',\n   'parent_id': '3605-0',\n   'id': '233-109'},\n  {'class': 'Moderate',\n   'name': 'papaverine',\n   'parent_id': '1792-0',\n   'id': '233-109'},\n  {'class': 'Moderate',\n   'name': 'paraldehyde',\n   'parent_id': '1794-0',\n   'id': '233-109'},\n  {'class': 'Moderate',\n   'name': 'paramethadione',\n   'parent_id': '1795-0',\n   'id': '233-109'},\n  {'class': 'Moderate',\n   'name': 'paroxetine',\n   'parent_id': '1800-0',\n   'id': '233-109'},\n  {'class': 'Moderate',\n   'name': 'pasireotide',\n   'parent_id': '3435-0',\n   'id': '233-109'},\n  {'class': 'Moderate',\n   'name': 'pazopanib',\n   'parent_id': '3180-0',\n   'id': '233-109'},\n  {'class': 'Moderate',\n   'name': 'penbutolol',\n   'parent_id': '1812-0',\n   'id': '233-109'},\n  {'class': 'Moderate',\n   'name': 'pentamidine',\n   'parent_id': '1818-0',\n   'id': '233-109'},\n  {'class': 'Major',\n   'name': 'pentazocine',\n   'parent_id': '1820-0',\n   'id': '233-109'},\n  {'class': 'Moderate',\n   'name': 'pentobarbital',\n   'parent_id': '1823-0',\n   'id': '233-109'},\n  {'class': 'Moderate',\n   'name': 'perampanel',\n   'parent_id': '3426-0',\n   'id': '233-109'},\n  {'class': 'Moderate',\n   'name': 'perflutren',\n   'parent_id': '1828-0',\n   'id': '233-109'},\n  {'class': 'Moderate',\n   'name': 'pergolide',\n   'parent_id': '1829-0',\n   'id': '233-109'},\n  {'class': 'Moderate',\n   'name': 'perindopril',\n   'parent_id': '1830-0',\n   'id': '233-109'},\n  {'class': 'Moderate',\n   'name': 'perphenazine',\n   'parent_id': '1832-0',\n   'id': '233-109'},\n  {'class': 'Moderate',\n   'name': 'pexidartinib',\n   'parent_id': '4032-0',\n   'id': '233-109'},\n  {'class': 'Moderate',\n   'name': 'phenacemide',\n   'parent_id': '1834-0',\n   'id': '233-109'},\n  {'class': 'Moderate',\n   'name': 'phenelzine',\n   'parent_id': '1839-0',\n   'id': '233-109'},\n  {'class': 'Moderate',\n   'name': 'phenindamine',\n   'parent_id': '1840-0',\n   'id': '233-109'},\n  {'class': 'Moderate',\n   'name': 'phenobarbital',\n   'parent_id': '1846-0',\n   'id': '233-109'},\n  {'class': 'Moderate',\n   'name': 'phenoxybenzamine',\n   'parent_id': '1849-0',\n   'id': '233-109'},\n  {'class': 'Moderate',\n   'name': 'phensuximide',\n   'parent_id': '1850-0',\n   'id': '233-109'},\n  {'class': 'Moderate',\n   'name': 'phentolamine',\n   'parent_id': '1852-0',\n   'id': '233-109'},\n  {'class': 'Moderate',\n   'name': 'phenylbutazone',\n   'parent_id': '2770-0',\n   'id': '233-109'},\n  {'class': 'Moderate',\n   'name': 'phenytoin',\n   'parent_id': '1863-0',\n   'id': '233-109'},\n  {'class': 'Moderate',\n   'name': 'physostigmine',\n   'parent_id': '1866-0',\n   'id': '233-109'},\n  {'class': 'Moderate',\n   'name': 'physostigmine ophthalmic',\n   'parent_id': '1867-0',\n   'id': '233-109'},\n  {'class': 'Moderate',\n   'name': 'pilocarpine ophthalmic',\n   'parent_id': '1869-0',\n   'id': '233-109'},\n  {'class': 'Moderate',\n   'name': 'pimavanserin',\n   'parent_id': '3747-0',\n   'id': '233-109'},\n  {'class': 'Moderate',\n   'name': 'pimozide',\n   'parent_id': '1872-0',\n   'id': '233-109'},\n  {'class': 'Moderate',\n   'name': 'pindolol',\n   'parent_id': '1873-0',\n   'id': '233-109'},\n  {'class': 'Moderate',\n   'name': 'pioglitazone',\n   'parent_id': '1874-0',\n   'id': '233-109'},\n  {'class': 'Moderate',\n   'name': 'pirbuterol',\n   'parent_id': '1880-0',\n   'id': '233-109'},\n  {'class': 'Moderate',\n   'name': 'pitolisant',\n   'parent_id': '4081-0',\n   'id': '233-109'},\n  {'class': 'Moderate',\n   'name': 'polyethylene glycol 3350 with electrolytes',\n   'parent_id': '3155-0',\n   'id': '233-109'},\n  {'class': 'Moderate',\n   'name': 'polythiazide',\n   'parent_id': '1897-0',\n   'id': '233-109'},\n  {'class': 'Moderate',\n   'name': 'ponesimod',\n   'parent_id': '4247-0',\n   'id': '233-109'},\n  {'class': 'Moderate',\n   'name': 'porfimer',\n   'parent_id': '1901-0',\n   'id': '233-109'},\n  {'class': 'Moderate',\n   'name': 'posaconazole',\n   'parent_id': '1902-0',\n   'id': '233-109'},\n  {'class': 'Moderate',\n   'name': 'pralsetinib',\n   'parent_id': '4189-0',\n   'id': '233-109'},\n  {'class': 'Moderate',\n   'name': 'pramipexole',\n   'parent_id': '1925-0',\n   'id': '233-109'},\n  {'class': 'Moderate',\n   'name': 'pramlintide',\n   'parent_id': '1926-0',\n   'id': '233-109'},\n  {'class': 'Moderate',\n   'name': 'prazosin',\n   'parent_id': '1931-0',\n   'id': '233-109'},\n  {'class': 'Moderate',\n   'name': 'pregabalin',\n   'parent_id': '1937-0',\n   'id': '233-109'},\n  {'class': 'Moderate',\n   'name': 'primaquine',\n   'parent_id': '1939-0',\n   'id': '233-109'},\n  {'class': 'Moderate',\n   'name': 'primidone',\n   'parent_id': '1940-0',\n   'id': '233-109'},\n  {'class': 'Moderate',\n   'name': 'probucol',\n   'parent_id': '1942-0',\n   'id': '233-109'},\n  {'class': 'Moderate',\n   'name': 'procainamide',\n   'parent_id': '1943-0',\n   'id': '233-109'},\n  {'class': 'Moderate',\n   'name': 'prochlorperazine',\n   'parent_id': '1946-0',\n   'id': '233-109'},\n  {'class': 'Moderate',\n   'name': 'procyclidine',\n   'parent_id': '1947-0',\n   'id': '233-109'},\n  {'class': 'Moderate',\n   'name': 'promazine',\n   'parent_id': '1948-0',\n   'id': '233-109'},\n  {'class': 'Moderate',\n   'name': 'promethazine',\n   'parent_id': '1949-0',\n   'id': '233-109'},\n  {'class': 'Moderate',\n   'name': 'propafenone',\n   'parent_id': '1950-0',\n   'id': '233-109'},\n  {'class': 'Moderate',\n   'name': 'propantheline',\n   'parent_id': '1951-0',\n   'id': '233-109'},\n  {'class': 'Moderate',\n   'name': 'propiomazine',\n   'parent_id': '1953-0',\n   'id': '233-109'},\n  {'class': 'Moderate',\n   'name': 'propofol',\n   'parent_id': '1954-0',\n   'id': '233-109'},\n  {'class': 'Major',\n   'name': 'propoxyphene',\n   'parent_id': '1955-0',\n   'id': '233-109'},\n  {'class': 'Moderate',\n   'name': 'propranolol',\n   'parent_id': '1956-0',\n   'id': '233-109'},\n  {'class': 'Moderate',\n   'name': 'protriptyline',\n   'parent_id': '1962-0',\n   'id': '233-109'},\n  {'class': 'Moderate',\n   'name': 'pyrilamine',\n   'parent_id': '1973-0',\n   'id': '233-109'},\n  {'class': 'Moderate',\n   'name': 'quazepam',\n   'parent_id': '1978-0',\n   'id': '233-109'},\n  {'class': 'Moderate',\n   'name': 'quetiapine',\n   'parent_id': '1979-0',\n   'id': '233-109'},\n  {'class': 'Moderate',\n   'name': 'quinapril',\n   'parent_id': '1980-0',\n   'id': '233-109'},\n  {'class': 'Moderate',\n   'name': 'quinidine',\n   'parent_id': '1981-0',\n   'id': '233-109'},\n  {'class': 'Moderate',\n   'name': 'quinine',\n   'parent_id': '1982-0',\n   'id': '233-109'},\n  {'class': 'Moderate',\n   'name': 'ramelteon',\n   'parent_id': '1988-0',\n   'id': '233-109'},\n  {'class': 'Moderate',\n   'name': 'ramipril',\n   'parent_id': '1989-0',\n   'id': '233-109'},\n  {'class': 'Moderate',\n   'name': 'ranolazine',\n   'parent_id': '1993-0',\n   'id': '233-109'},\n  {'class': 'Moderate',\n   'name': 'rasagiline',\n   'parent_id': '1995-0',\n   'id': '233-109'},\n  {'class': 'Moderate',\n   'name': 'rauwolfia serpentina',\n   'parent_id': '1997-0',\n   'id': '233-109'},\n  {'class': 'Moderate',\n   'name': 'relugolix',\n   'parent_id': '4227-0',\n   'id': '233-109'},\n  {'class': 'Major',\n   'name': 'remifentanil',\n   'parent_id': '1999-0',\n   'id': '233-109'},\n  {'class': 'Moderate',\n   'name': 'remimazolam',\n   'parent_id': '4165-0',\n   'id': '233-109'},\n  {'class': 'Moderate',\n   'name': 'repaglinide',\n   'parent_id': '2000-0',\n   'id': '233-109'},\n  {'class': 'Moderate',\n   'name': 'reserpine',\n   'parent_id': '2001-0',\n   'id': '233-109'},\n  {'class': 'Moderate',\n   'name': 'revefenacin',\n   'parent_id': '3975-0',\n   'id': '233-109'},\n  {'class': 'Moderate',\n   'name': 'ribociclib',\n   'parent_id': '3790-0',\n   'id': '233-109'},\n  {'class': 'Moderate',\n   'name': 'rifabutin',\n   'parent_id': '2011-0',\n   'id': '233-109'},\n  {'class': 'Moderate',\n   'name': 'rifampin',\n   'parent_id': '2012-0',\n   'id': '233-109'},\n  {'class': 'Moderate',\n   'name': 'rifapentine',\n   'parent_id': '2013-0',\n   'id': '233-109'},\n  {'class': 'Moderate',\n   'name': 'rilpivirine',\n   'parent_id': '3327-0',\n   'id': '233-109'},\n  {'class': 'Moderate',\n   'name': 'risperidone',\n   'parent_id': '2019-0',\n   'id': '233-109'},\n  {'class': 'Moderate',\n   'name': 'ritodrine',\n   'parent_id': '2020-0',\n   'id': '233-109'},\n  {'class': 'Moderate',\n   'name': 'ritonavir',\n   'parent_id': '2021-0',\n   'id': '233-109'},\n  {'class': 'Moderate',\n   'name': 'rivastigmine',\n   'parent_id': '2023-0',\n   'id': '233-109'},\n  {'class': 'Moderate',\n   'name': 'rolapitant',\n   'parent_id': '3678-0',\n   'id': '233-109'},\n  {'class': 'Moderate',\n   'name': 'romidepsin',\n   'parent_id': '3183-0',\n   'id': '233-109'},\n  {'class': 'Moderate',\n   'name': 'ropinirole',\n   'parent_id': '2027-0',\n   'id': '233-109'},\n  {'class': 'Moderate',\n   'name': 'rosiglitazone',\n   'parent_id': '2030-0',\n   'id': '233-109'},\n  {'class': 'Moderate',\n   'name': 'rotigotine',\n   'parent_id': '2033-0',\n   'id': '233-109'},\n  {'class': 'Moderate',\n   'name': 'rucaparib',\n   'parent_id': '3778-0',\n   'id': '233-109'},\n  {'class': 'Moderate',\n   'name': 'safinamide',\n   'parent_id': '3793-0',\n   'id': '233-109'},\n  {'class': 'Moderate',\n   'name': 'salmeterol',\n   'parent_id': '2041-0',\n   'id': '233-109'},\n  {'class': 'Moderate',\n   'name': 'saquinavir',\n   'parent_id': '2044-0',\n   'id': '233-109'},\n  {'class': 'Moderate',\n   'name': 'saxagliptin',\n   'parent_id': '3160-0',\n   'id': '233-109'},\n  {'class': 'Moderate',\n   'name': 'scopolamine',\n   'parent_id': '2047-0',\n   'id': '233-109'},\n  {'class': 'Moderate',\n   'name': 'secobarbital',\n   'parent_id': '2049-0',\n   'id': '233-109'},\n  {'class': 'Moderate',\n   'name': 'selegiline',\n   'parent_id': '2051-0',\n   'id': '233-109'},\n  {'class': 'Moderate',\n   'name': 'selpercatinib',\n   'parent_id': '4151-0',\n   'id': '233-109'},\n  {'class': 'Moderate',\n   'name': 'semaglutide',\n   'parent_id': '3878-0',\n   'id': '233-109'},\n  {'class': 'Moderate',\n   'name': 'sertraline',\n   'parent_id': '2057-0',\n   'id': '233-109'},\n  {'class': 'Moderate',\n   'name': 'sevoflurane',\n   'parent_id': '2059-0',\n   'id': '233-109'},\n  {'class': 'Moderate',\n   'name': 'sibutramine',\n   'parent_id': '2060-0',\n   'id': '233-109'},\n  {'class': 'Moderate',\n   'name': 'silodosin',\n   'parent_id': '2960-0',\n   'id': '233-109'},\n  {'class': 'Moderate',\n   'name': 'siponimod',\n   'parent_id': '4001-0',\n   'id': '233-109'},\n  {'class': 'Moderate',\n   'name': 'sirolimus',\n   'parent_id': '2069-0',\n   'id': '233-109'},\n  {'class': 'Moderate',\n   'name': 'sitagliptin',\n   'parent_id': '2070-0',\n   'id': '233-109'},\n  {'class': 'Major',\n   'name': 'sodium oxybate',\n   'parent_id': '2091-0',\n   'id': '233-109'},\n  {'class': 'Moderate',\n   'name': 'solifenacin',\n   'parent_id': '2098-0',\n   'id': '233-109'},\n  {'class': 'Moderate',\n   'name': 'somapacitan-beco',\n   'parent_id': '4188-0',\n   'id': '233-109'},\n  {'class': 'Moderate',\n   'name': 'somatrem',\n   'parent_id': '2099-0',\n   'id': '233-109'},\n  {'class': 'Moderate',\n   'name': 'somatropin',\n   'parent_id': '2100-0',\n   'id': '233-109'},\n  {'class': 'Moderate',\n   'name': 'sorafenib',\n   'parent_id': '2101-0',\n   'id': '233-109'},\n  {'class': 'Moderate',\n   'name': 'sotalol',\n   'parent_id': '2102-0',\n   'id': '233-109'},\n  {'class': 'Moderate',\n   'name': 'sotorasib',\n   'parent_id': '4266-0',\n   'id': '233-109'},\n  {'class': 'Moderate',\n   'name': 'sparfloxacin',\n   'parent_id': '2103-0',\n   'id': '233-109'},\n  {'class': 'Moderate',\n   'name': 'spironolactone',\n   'parent_id': '2105-0',\n   'id': '233-109'},\n  {'class': 'Moderate',\n   'name': \"st. john's wort\",\n   'parent_id': '2106-0',\n   'id': '233-109'},\n  {'class': 'Moderate',\n   'name': 'stiripentol',\n   'parent_id': '3952-0',\n   'id': '233-109'},\n  {'class': 'Major',\n   'name': 'sufentanil',\n   'parent_id': '2119-0',\n   'id': '233-109'},\n  {'class': 'Minor',\n   'name': 'sulfamethoxazole',\n   'parent_id': '2127-0',\n   'id': '233-109'},\n  {'class': 'Moderate',\n   'name': 'sulfinpyrazone',\n   'parent_id': '2131-0',\n   'id': '233-109'},\n  {'class': 'Moderate',\n   'name': 'sunitinib',\n   'parent_id': '2138-0',\n   'id': '233-109'},\n  {'class': 'Moderate',\n   'name': 'suvorexant',\n   'parent_id': '3554-0',\n   'id': '233-109'},\n  {'class': 'Moderate',\n   'name': 'tacrine',\n   'parent_id': '2141-0',\n   'id': '233-109'},\n  {'class': 'Moderate',\n   'name': 'tacrolimus',\n   'parent_id': '2142-0',\n   'id': '233-109'},\n  {'class': 'Moderate',\n   'name': 'tamoxifen',\n   'parent_id': '2145-0',\n   'id': '233-109'},\n  {'class': 'Moderate',\n   'name': 'tamsulosin',\n   'parent_id': '2146-0',\n   'id': '233-109'},\n  {'class': 'Major',\n   'name': 'tapentadol',\n   'parent_id': '3132-0',\n   'id': '233-109'},\n  {'class': 'Moderate',\n   'name': 'tasimelteon',\n   'parent_id': '3507-0',\n   'id': '233-109'},\n  {'class': 'Moderate',\n   'name': 'tazemetostat',\n   'parent_id': '4127-0',\n   'id': '233-109'},\n  {'class': 'Moderate',\n   'name': 'telaprevir',\n   'parent_id': '3328-0',\n   'id': '233-109'},\n  {'class': 'Moderate',\n   'name': 'telavancin',\n   'parent_id': '3173-0',\n   'id': '233-109'},\n  {'class': 'Moderate',\n   'name': 'telithromycin',\n   'parent_id': '2151-0',\n   'id': '233-109'},\n  {'class': 'Moderate',\n   'name': 'telmisartan',\n   'parent_id': '2152-0',\n   'id': '233-109'},\n  {'class': 'Moderate',\n   'name': 'telotristat',\n   'parent_id': '3787-0',\n   'id': '233-109'},\n  {'class': 'Moderate',\n   'name': 'temazepam',\n   'parent_id': '2153-0',\n   'id': '233-109'},\n  {'class': 'Moderate',\n   'name': 'temsirolimus',\n   'parent_id': '2155-0',\n   'id': '233-109'},\n  {'class': 'Moderate',\n   'name': 'terazosin',\n   'parent_id': '2159-0',\n   'id': '233-109'},\n  {'class': 'Moderate',\n   'name': 'terbinafine',\n   'parent_id': '2161-0',\n   'id': '233-109'},\n  {'class': 'Moderate',\n   'name': 'terbutaline',\n   'parent_id': '2162-0',\n   'id': '233-109'},\n  {'class': 'Moderate',\n   'name': 'terfenadine',\n   'parent_id': '2164-0',\n   'id': '233-109'},\n  {'class': 'Major',\n   'name': 'tetrabenazine',\n   'parent_id': '2918-0',\n   'id': '233-109'},\n  {'class': 'Moderate',\n   'name': 'thalidomide',\n   'parent_id': '2176-0',\n   'id': '233-109'},\n  {'class': 'Moderate',\n   'name': 'thiethylperazine',\n   'parent_id': '2180-0',\n   'id': '233-109'},\n  {'class': 'Moderate',\n   'name': 'thiopental',\n   'parent_id': '2183-0',\n   'id': '233-109'},\n  {'class': 'Moderate',\n   'name': 'thioridazine',\n   'parent_id': '2184-0',\n   'id': '233-109'},\n  {'class': 'Moderate',\n   'name': 'thiothixene',\n   'parent_id': '2186-0',\n   'id': '233-109'},\n  {'class': 'Moderate',\n   'name': 'tiagabine',\n   'parent_id': '2191-0',\n   'id': '233-109'},\n  {'class': 'Moderate',\n   'name': 'ticagrelor',\n   'parent_id': '3336-0',\n   'id': '233-109'},\n  {'class': 'Moderate',\n   'name': 'ticlopidine',\n   'parent_id': '2193-0',\n   'id': '233-109'},\n  {'class': 'Moderate',\n   'name': 'timolol',\n   'parent_id': '2196-0',\n   'id': '233-109'},\n  {'class': 'Moderate',\n   'name': 'tiotropium',\n   'parent_id': '2202-0',\n   'id': '233-109'},\n  {'class': 'Moderate',\n   'name': 'tirzepatide',\n   'parent_id': '4363-0',\n   'id': '233-109'},\n  {'class': 'Moderate',\n   'name': 'tizanidine',\n   'parent_id': '2205-0',\n   'id': '233-109'},\n  {'class': 'Moderate',\n   'name': 'tolazamide',\n   'parent_id': '2209-0',\n   'id': '233-109'},\n  {'class': 'Moderate',\n   'name': 'tolazoline',\n   'parent_id': '2210-0',\n   'id': '233-109'},\n  {'class': 'Moderate',\n   'name': 'tolbutamide',\n   'parent_id': '2211-0',\n   'id': '233-109'},\n  {'class': 'Moderate',\n   'name': 'tolcapone',\n   'parent_id': '2212-0',\n   'id': '233-109'},\n  {'class': 'Moderate',\n   'name': 'tolterodine',\n   'parent_id': '2215-0',\n   'id': '233-109'},\n  {'class': 'Major',\n   'name': 'topiramate',\n   'parent_id': '2216-0',\n   'id': '233-109'},\n  {'class': 'Moderate',\n   'name': 'toremifene',\n   'parent_id': '2218-0',\n   'id': '233-109'},\n  {'class': 'Moderate',\n   'name': 'torsemide',\n   'parent_id': '2219-0',\n   'id': '233-109'},\n  {'class': 'Major',\n   'name': 'tramadol',\n   'parent_id': '2221-0',\n   'id': '233-109'},\n  {'class': 'Moderate',\n   'name': 'trandolapril',\n   'parent_id': '2222-0',\n   'id': '233-109'},\n  {'class': 'Moderate',\n   'name': 'tranylcypromine',\n   'parent_id': '2225-0',\n   'id': '233-109'},\n  {'class': 'Moderate',\n   'name': 'trazodone',\n   'parent_id': '2228-0',\n   'id': '233-109'},\n  {'class': 'Moderate',\n   'name': 'triamterene',\n   'parent_id': '2234-0',\n   'id': '233-109'},\n  {'class': 'Moderate',\n   'name': 'triazolam',\n   'parent_id': '2235-0',\n   'id': '233-109'},\n  {'class': 'Moderate',\n   'name': 'trichlormethiazide',\n   'parent_id': '2236-0',\n   'id': '233-109'},\n  {'class': 'Moderate',\n   'name': 'triclabendazole',\n   'parent_id': '3995-0',\n   'id': '233-109'},\n  {'class': 'Moderate',\n   'name': 'trifluoperazine',\n   'parent_id': '2242-0',\n   'id': '233-109'},\n  {'class': 'Moderate',\n   'name': 'triflupromazine',\n   'parent_id': '2243-0',\n   'id': '233-109'},\n  {'class': 'Moderate',\n   'name': 'trihexyphenidyl',\n   'parent_id': '2245-0',\n   'id': '233-109'},\n  {'class': 'Moderate',\n   'name': 'trimeprazine',\n   'parent_id': '2246-0',\n   'id': '233-109'},\n  {'class': 'Moderate',\n   'name': 'trimethadione',\n   'parent_id': '2247-0',\n   'id': '233-109'},\n  {'class': 'Moderate',\n   'name': 'trimethaphan camsylate',\n   'parent_id': '2248-0',\n   'id': '233-109'},\n  {'class': 'Moderate',\n   'name': 'trimethobenzamide',\n   'parent_id': '2249-0',\n   'id': '233-109'},\n  {'class': 'Moderate',\n   'name': 'trimipramine',\n   'parent_id': '2252-0',\n   'id': '233-109'},\n  {'class': 'Moderate',\n   'name': 'tripelennamine',\n   'parent_id': '2254-0',\n   'id': '233-109'},\n  {'class': 'Moderate',\n   'name': 'triprolidine',\n   'parent_id': '2257-0',\n   'id': '233-109'},\n  {'class': 'Moderate',\n   'name': 'triptorelin',\n   'parent_id': '2258-0',\n   'id': '233-109'},\n  {'class': 'Moderate',\n   'name': 'troglitazone',\n   'parent_id': '2259-0',\n   'id': '233-109'},\n  {'class': 'Moderate',\n   'name': 'troleandomycin',\n   'parent_id': '2261-0',\n   'id': '233-109'},\n  {'class': 'Moderate',\n   'name': 'trospium',\n   'parent_id': '2264-0',\n   'id': '233-109'},\n  {'class': 'Moderate',\n   'name': 'tucatinib',\n   'parent_id': '4144-0',\n   'id': '233-109'},\n  {'class': 'Moderate',\n   'name': 'umeclidinium',\n   'parent_id': '3528-0',\n   'id': '233-109'},\n  {'class': 'Moderate',\n   'name': 'valbenazine',\n   'parent_id': '3800-0',\n   'id': '233-109'},\n  {'class': 'Moderate',\n   'name': 'valerian',\n   'parent_id': '2284-0',\n   'id': '233-109'},\n  {'class': 'Moderate',\n   'name': 'valproic acid',\n   'parent_id': '2286-0',\n   'id': '233-109'},\n  {'class': 'Moderate',\n   'name': 'valsartan',\n   'parent_id': '2288-0',\n   'id': '233-109'},\n  {'class': 'Moderate',\n   'name': 'vandetanib',\n   'parent_id': '3312-0',\n   'id': '233-109'},\n  {'class': 'Moderate',\n   'name': 'vardenafil',\n   'parent_id': '2290-0',\n   'id': '233-109'},\n  {'class': 'Moderate',\n   'name': 'vasopressin',\n   'parent_id': '2294-0',\n   'id': '233-109'},\n  {'class': 'Moderate',\n   'name': 'vemurafenib',\n   'parent_id': '3338-0',\n   'id': '233-109'},\n  {'class': 'Moderate',\n   'name': 'venlafaxine',\n   'parent_id': '2296-0',\n   'id': '233-109'},\n  {'class': 'Moderate',\n   'name': 'verapamil',\n   'parent_id': '2297-0',\n   'id': '233-109'},\n  {'class': 'Moderate',\n   'name': 'vigabatrin',\n   'parent_id': '3169-0',\n   'id': '233-109'},\n  {'class': 'Moderate',\n   'name': 'viloxazine',\n   'parent_id': '4254-0',\n   'id': '233-109'},\n  {'class': 'Moderate',\n   'name': 'voclosporin',\n   'parent_id': '4234-0',\n   'id': '233-109'},\n  {'class': 'Moderate',\n   'name': 'voriconazole',\n   'parent_id': '2309-0',\n   'id': '233-109'},\n  {'class': 'Moderate',\n   'name': 'voxelotor',\n   'parent_id': '4107-0',\n   'id': '233-109'},\n  {'class': 'Moderate',\n   'name': 'zafirlukast',\n   'parent_id': '2317-0',\n   'id': '233-109'},\n  {'class': 'Moderate',\n   'name': 'zaleplon',\n   'parent_id': '2319-0',\n   'id': '233-109'},\n  {'class': 'Moderate',\n   'name': 'ziconotide',\n   'parent_id': '2321-0',\n   'id': '233-109'},\n  {'class': 'Moderate',\n   'name': 'ziprasidone',\n   'parent_id': '2330-0',\n   'id': '233-109'},\n  {'class': 'Moderate',\n   'name': 'zolpidem',\n   'parent_id': '2333-0',\n   'id': '233-109'},\n  {'class': 'Major',\n   'name': 'zonisamide',\n   'parent_id': '2334-0',\n   'id': '233-109'}],\n 'diseases_interactions': [{'name': 'suicidality', 'class': 'Major'},\n  {'name': 'dementia', 'class': 'Major'},\n  {'name': 'acute alcohol intoxication', 'class': 'Major'},\n  {'name': 'CNS depression', 'class': 'Major'},\n  {'name': 'NMS', 'class': 'Major'},\n  {'name': 'tardive dyskinesia', 'class': 'Major'},\n  {'name': 'aspiration', 'class': 'Moderate'},\n  {'name': 'seizure', 'class': 'Moderate'},\n  {'name': 'hematologic abnormalities', 'class': 'Moderate'},\n  {'name': 'hyperglycemia/diabetes', 'class': 'Moderate'},\n  {'name': 'hypotension', 'class': 'Moderate'},\n  {'name': 'lipid alterations', 'class': 'Moderate'},\n  {'name': 'weight gain', 'class': 'Moderate'},\n  {'name': 'anticholinergic effects', 'class': 'Moderate'},\n  {'name': 'hyperprolactinemia', 'class': 'Moderate'},\n  {'name': 'liver disease', 'class': 'Moderate'},\n  {'name': 'parkinsonism', 'class': 'Moderate'}],\n 'interactions_url': '/drug-interactions/aripiprazole,abilify-index.html',\n 'Generic name': ['aripiprazole'],\n 'Drug class': ['Atypical antipsychotics'],\n 'availability': 'Prescription only',\n 'score': '59.8',\n 'reviews': '1',\n 'description': 'Abilify is an antipsychotic medication. It works by changing the actions of chemicals in the brain.',\n 'side_effects': ['\\nsevere agitation, distress, restless feeling\\n',\n  '\\ntwitching uncontrollable movements of your eyes, lips, tongue, face, arms, legs\\n',\n  '\\nmask\\n',\n  '\\nseizure (convulsions)\\n',\n  '\\nsevere nervous system reaction \\n',\n  '\\nlow blood cell counts \\n',\n  '\\nhigh blood sugar \\n'],\n 'Dosage form': nan}"
     },
     "execution_count": 66,
     "metadata": {},
     "output_type": "execute_result"
    }
   ],
   "source": [
    "list(output.to_dict(orient='index').values())[0]"
   ],
   "metadata": {
    "collapsed": false,
    "pycharm": {
     "name": "#%%\n"
    }
   }
  },
  {
   "cell_type": "code",
   "execution_count": 45,
   "outputs": [
    {
     "data": {
      "text/plain": "dict_keys(['drug name', 'drug_interactions'])"
     },
     "execution_count": 45,
     "metadata": {},
     "output_type": "execute_result"
    }
   ],
   "source": [
    "drug_interactions[0].keys()"
   ],
   "metadata": {
    "collapsed": false,
    "pycharm": {
     "name": "#%%\n"
    }
   }
  },
  {
   "cell_type": "code",
   "execution_count": 43,
   "outputs": [
    {
     "data": {
      "text/plain": "list"
     },
     "execution_count": 43,
     "metadata": {},
     "output_type": "execute_result"
    }
   ],
   "source": [
    "type(drug_interactions)"
   ],
   "metadata": {
    "collapsed": false,
    "pycharm": {
     "name": "#%%\n"
    }
   }
  },
  {
   "cell_type": "code",
   "execution_count": 30,
   "outputs": [
    {
     "data": {
      "text/plain": "  drug name                                  drug_interactions\n0   Abilify  [{'class': 'Moderate', 'name': 'abametapir top...",
      "text/html": "<div>\n<style scoped>\n    .dataframe tbody tr th:only-of-type {\n        vertical-align: middle;\n    }\n\n    .dataframe tbody tr th {\n        vertical-align: top;\n    }\n\n    .dataframe thead th {\n        text-align: right;\n    }\n</style>\n<table border=\"1\" class=\"dataframe\">\n  <thead>\n    <tr style=\"text-align: right;\">\n      <th></th>\n      <th>drug name</th>\n      <th>drug_interactions</th>\n    </tr>\n  </thead>\n  <tbody>\n    <tr>\n      <th>0</th>\n      <td>Abilify</td>\n      <td>[{'class': 'Moderate', 'name': 'abametapir top...</td>\n    </tr>\n  </tbody>\n</table>\n</div>"
     },
     "execution_count": 30,
     "metadata": {},
     "output_type": "execute_result"
    }
   ],
   "source": [
    " pd.json_normalize(drug_interactions[0])"
   ],
   "metadata": {
    "collapsed": false,
    "pycharm": {
     "name": "#%%\n"
    }
   }
  },
  {
   "cell_type": "code",
   "execution_count": 31,
   "outputs": [],
   "source": [
    "exploaded_drug_interactions = []\n",
    "for drug in drug_interactions:\n",
    "    for interaction in drug['drug_interactions']:\n",
    "        interaction.update(dict(drug_name=drug['drug name']))\n",
    "    exploaded_drug_interactions +=drug['drug_interactions']\n",
    "    # break"
   ],
   "metadata": {
    "collapsed": false,
    "pycharm": {
     "name": "#%%\n"
    }
   }
  },
  {
   "cell_type": "code",
   "execution_count": 32,
   "outputs": [],
   "source": [
    "df = pd.DataFrame(exploaded_drug_interactions)"
   ],
   "metadata": {
    "collapsed": false,
    "pycharm": {
     "name": "#%%\n"
    }
   }
  },
  {
   "cell_type": "code",
   "execution_count": 33,
   "outputs": [],
   "source": [
    "df.to_csv('data/drug_interactions.csv',header=True,index=False)"
   ],
   "metadata": {
    "collapsed": false,
    "pycharm": {
     "name": "#%%\n"
    }
   }
  },
  {
   "cell_type": "code",
   "execution_count": 34,
   "outputs": [],
   "source": [],
   "metadata": {
    "collapsed": false,
    "pycharm": {
     "name": "#%%\n"
    }
   }
  },
  {
   "cell_type": "code",
   "execution_count": 35,
   "outputs": [],
   "source": [
    "exploaded_diseases_interactions = []\n",
    "for drug in diseases_interactions:\n",
    "    for interaction in drug['diseases_interactions']:\n",
    "        interaction.update(dict(drug_name=drug['drug name']))\n",
    "    exploaded_diseases_interactions +=drug['diseases_interactions']\n",
    "    # break"
   ],
   "metadata": {
    "collapsed": false,
    "pycharm": {
     "name": "#%%\n"
    }
   }
  },
  {
   "cell_type": "code",
   "execution_count": 36,
   "outputs": [],
   "source": [
    "df = pd.DataFrame(exploaded_diseases_interactions)"
   ],
   "metadata": {
    "collapsed": false,
    "pycharm": {
     "name": "#%%\n"
    }
   }
  },
  {
   "cell_type": "code",
   "execution_count": 37,
   "outputs": [],
   "source": [
    "df.to_csv('data/diseases_interactions.csv',header=True,index=False)"
   ],
   "metadata": {
    "collapsed": false,
    "pycharm": {
     "name": "#%%\n"
    }
   }
  },
  {
   "cell_type": "code",
   "execution_count": 38,
   "outputs": [],
   "source": [
    "with open('data/general_info.json','r') as fp:\n",
    "    general_info = json.load(fp)"
   ],
   "metadata": {
    "collapsed": false,
    "pycharm": {
     "name": "#%%\n"
    }
   }
  },
  {
   "cell_type": "code",
   "execution_count": 39,
   "outputs": [],
   "source": [
    "pd.DataFrame(general_info).to_csv('data/general_info.csv',header=True,index=False)"
   ],
   "metadata": {
    "collapsed": false,
    "pycharm": {
     "name": "#%%\n"
    }
   }
  },
  {
   "cell_type": "code",
   "execution_count": 39,
   "outputs": [],
   "source": [],
   "metadata": {
    "collapsed": false,
    "pycharm": {
     "name": "#%%\n"
    }
   }
  }
 ],
 "metadata": {
  "kernelspec": {
   "display_name": "Python 3",
   "language": "python",
   "name": "python3"
  },
  "language_info": {
   "codemirror_mode": {
    "name": "ipython",
    "version": 2
   },
   "file_extension": ".py",
   "mimetype": "text/x-python",
   "name": "python",
   "nbconvert_exporter": "python",
   "pygments_lexer": "ipython2",
   "version": "2.7.6"
  }
 },
 "nbformat": 4,
 "nbformat_minor": 0
}