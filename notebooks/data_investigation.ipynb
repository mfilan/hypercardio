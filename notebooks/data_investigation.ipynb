{
 "cells": [
  {
   "cell_type": "code",
   "execution_count": 1,
   "outputs": [],
   "source": [
    "import pandas as pd\n",
    "import os"
   ],
   "metadata": {
    "collapsed": false,
    "pycharm": {
     "name": "#%%\n"
    }
   }
  },
  {
   "cell_type": "code",
   "execution_count": 2,
   "outputs": [],
   "source": [
    "os.chdir(os.path.join(os.path.expanduser(\"~\"),'hypercardio'))"
   ],
   "metadata": {
    "collapsed": false,
    "pycharm": {
     "name": "#%%\n"
    }
   }
  },
  {
   "cell_type": "code",
   "execution_count": 6,
   "outputs": [],
   "source": [
    "drug_df = pd.read_csv('data/drug_indications_database.csv')\n",
    "schema_df = pd.read_csv('data/schema.csv')"
   ],
   "metadata": {
    "collapsed": false,
    "pycharm": {
     "name": "#%%\n"
    }
   }
  },
  {
   "cell_type": "code",
   "execution_count": null,
   "outputs": [],
   "source": [
    "'ind_umls_pt'"
   ],
   "metadata": {
    "collapsed": false,
    "pycharm": {
     "name": "#%%\n"
    }
   }
  },
  {
   "cell_type": "code",
   "execution_count": 11,
   "outputs": [
    {
     "data": {
      "text/plain": "        DID_id   src_nm    src_id   drug_raw_name cas_cas_no  \\\n0     1_000001    NDFRT  C0016157       Fish Oils  8016-13-5   \n1     1_000002    NDFRT  C0016157       Fish Oils  8016-13-5   \n2     1_000003    NDFRT  C0016157       Fish Oils  8016-13-5   \n3     1_000004    NDFRT  C0016157       Fish Oils  8016-13-5   \n4     1_000005    NDFRT  C0016157       Fish Oils  8016-13-5   \n...        ...      ...       ...             ...        ...   \n1830  1_001834    ChEBI       NaN   beta-eudesmol   473-15-4   \n1831  1_001835    ChEBI       NaN   beta-sanshool   504-97-2   \n1832  1_001836    ChEBI       NaN   canthin-6-one   479-43-6   \n1833  1_001837  MeSH_PA   C103736  2-bromopropane    75-26-3   \n1834  1_001838  MeSH_PA   C103736  2-bromopropane    75-26-3   \n\n                 cas_pt cas_source         cas_match       chebi_pt  chebi_id  \\\n0              Fish oil    ChemID+  <syn per source>            NaN       NaN   \n1              Fish oil    ChemID+  <syn per source>            NaN       NaN   \n2              Fish oil    ChemID+  <syn per source>            NaN       NaN   \n3              Fish oil    ChemID+  <syn per source>            NaN       NaN   \n4              Fish oil    ChemID+  <syn per source>            NaN       NaN   \n...                 ...        ...               ...            ...       ...   \n1830      beta-Eudesmol    ChemID+             exact  beta-eudesmol   10417.0   \n1831           Sanshool    ChemID+        NT subtype  beta-sanshool   66166.0   \n1832      Canthin-6-one    ChemID+             exact  canthin-6-one    3363.0   \n1833  Isopropyl bromide    ChemID+  <syn per source>            NaN       NaN   \n1834  Isopropyl bromide    ChemID+  <syn per source>            NaN       NaN   \n\n      ... ind_umls_sem_typ4 ind_umls_in_term_match         ind_umls_in_term  \\\n0     ...               NaN                    NaN                      NaN   \n1     ...               NaN                    NaN                      NaN   \n2     ...               NaN                    NaN                      NaN   \n3     ...               NaN                    NaN                      NaN   \n4     ...               NaN                    NaN                      NaN   \n...   ...               ...                    ...                      ...   \n1830  ...               NaN                    NaN                      NaN   \n1831  ...               NaN                    NaN                      NaN   \n1832  ...               NaN              quasi syn  Antimycobacterial Agent   \n1833  ...               NaN      exact (CUI-based)                 Mutagens   \n1834  ...               NaN                    NaN                      NaN   \n\n               ind_umls_in_pt  ind_umls_in_cui ind_umls_in_term_typ  \\\n0                         NaN              NaN                  NaN   \n1                         NaN              NaN                  NaN   \n2                         NaN              NaN                  NaN   \n3                         NaN              NaN                  NaN   \n4                         NaN              NaN                  NaN   \n...                       ...              ...                  ...   \n1830                      NaN              NaN                  NaN   \n1831                      NaN              NaN                  NaN   \n1832  Antimycobacterial Agent         C0360390                    P   \n1833                 Mutagens         C0026879                    P   \n1834                      NaN              NaN                  NaN   \n\n                             ind_umls_in_sem_typ1 ind_umls_in_sem_typ2  \\\n0                                             NaN                  NaN   \n1                                             NaN                  NaN   \n2                                             NaN                  NaN   \n3                                             NaN                  NaN   \n4                                             NaN                  NaN   \n...                                           ...                  ...   \n1830                                          NaN                  NaN   \n1831                                          NaN                  NaN   \n1832           A1.4.1.1.1_Pharmacologic Substance                  NaN   \n1833  A1.4.1.1.5_Hazardous or Poisonous Substance                  NaN   \n1834                                          NaN                  NaN   \n\n     ind_umls_in_sem_typ3 ind_umls_in_sem_typ4  \n0                     NaN                  NaN  \n1                     NaN                  NaN  \n2                     NaN                  NaN  \n3                     NaN                  NaN  \n4                     NaN                  NaN  \n...                   ...                  ...  \n1830                  NaN                  NaN  \n1831                  NaN                  NaN  \n1832                  NaN                  NaN  \n1833                  NaN                  NaN  \n1834                  NaN                  NaN  \n\n[1835 rows x 64 columns]",
      "text/html": "<div>\n<style scoped>\n    .dataframe tbody tr th:only-of-type {\n        vertical-align: middle;\n    }\n\n    .dataframe tbody tr th {\n        vertical-align: top;\n    }\n\n    .dataframe thead th {\n        text-align: right;\n    }\n</style>\n<table border=\"1\" class=\"dataframe\">\n  <thead>\n    <tr style=\"text-align: right;\">\n      <th></th>\n      <th>DID_id</th>\n      <th>src_nm</th>\n      <th>src_id</th>\n      <th>drug_raw_name</th>\n      <th>cas_cas_no</th>\n      <th>cas_pt</th>\n      <th>cas_source</th>\n      <th>cas_match</th>\n      <th>chebi_pt</th>\n      <th>chebi_id</th>\n      <th>...</th>\n      <th>ind_umls_sem_typ4</th>\n      <th>ind_umls_in_term_match</th>\n      <th>ind_umls_in_term</th>\n      <th>ind_umls_in_pt</th>\n      <th>ind_umls_in_cui</th>\n      <th>ind_umls_in_term_typ</th>\n      <th>ind_umls_in_sem_typ1</th>\n      <th>ind_umls_in_sem_typ2</th>\n      <th>ind_umls_in_sem_typ3</th>\n      <th>ind_umls_in_sem_typ4</th>\n    </tr>\n  </thead>\n  <tbody>\n    <tr>\n      <th>0</th>\n      <td>1_000001</td>\n      <td>NDFRT</td>\n      <td>C0016157</td>\n      <td>Fish Oils</td>\n      <td>8016-13-5</td>\n      <td>Fish oil</td>\n      <td>ChemID+</td>\n      <td>&lt;syn per source&gt;</td>\n      <td>NaN</td>\n      <td>NaN</td>\n      <td>...</td>\n      <td>NaN</td>\n      <td>NaN</td>\n      <td>NaN</td>\n      <td>NaN</td>\n      <td>NaN</td>\n      <td>NaN</td>\n      <td>NaN</td>\n      <td>NaN</td>\n      <td>NaN</td>\n      <td>NaN</td>\n    </tr>\n    <tr>\n      <th>1</th>\n      <td>1_000002</td>\n      <td>NDFRT</td>\n      <td>C0016157</td>\n      <td>Fish Oils</td>\n      <td>8016-13-5</td>\n      <td>Fish oil</td>\n      <td>ChemID+</td>\n      <td>&lt;syn per source&gt;</td>\n      <td>NaN</td>\n      <td>NaN</td>\n      <td>...</td>\n      <td>NaN</td>\n      <td>NaN</td>\n      <td>NaN</td>\n      <td>NaN</td>\n      <td>NaN</td>\n      <td>NaN</td>\n      <td>NaN</td>\n      <td>NaN</td>\n      <td>NaN</td>\n      <td>NaN</td>\n    </tr>\n    <tr>\n      <th>2</th>\n      <td>1_000003</td>\n      <td>NDFRT</td>\n      <td>C0016157</td>\n      <td>Fish Oils</td>\n      <td>8016-13-5</td>\n      <td>Fish oil</td>\n      <td>ChemID+</td>\n      <td>&lt;syn per source&gt;</td>\n      <td>NaN</td>\n      <td>NaN</td>\n      <td>...</td>\n      <td>NaN</td>\n      <td>NaN</td>\n      <td>NaN</td>\n      <td>NaN</td>\n      <td>NaN</td>\n      <td>NaN</td>\n      <td>NaN</td>\n      <td>NaN</td>\n      <td>NaN</td>\n      <td>NaN</td>\n    </tr>\n    <tr>\n      <th>3</th>\n      <td>1_000004</td>\n      <td>NDFRT</td>\n      <td>C0016157</td>\n      <td>Fish Oils</td>\n      <td>8016-13-5</td>\n      <td>Fish oil</td>\n      <td>ChemID+</td>\n      <td>&lt;syn per source&gt;</td>\n      <td>NaN</td>\n      <td>NaN</td>\n      <td>...</td>\n      <td>NaN</td>\n      <td>NaN</td>\n      <td>NaN</td>\n      <td>NaN</td>\n      <td>NaN</td>\n      <td>NaN</td>\n      <td>NaN</td>\n      <td>NaN</td>\n      <td>NaN</td>\n      <td>NaN</td>\n    </tr>\n    <tr>\n      <th>4</th>\n      <td>1_000005</td>\n      <td>NDFRT</td>\n      <td>C0016157</td>\n      <td>Fish Oils</td>\n      <td>8016-13-5</td>\n      <td>Fish oil</td>\n      <td>ChemID+</td>\n      <td>&lt;syn per source&gt;</td>\n      <td>NaN</td>\n      <td>NaN</td>\n      <td>...</td>\n      <td>NaN</td>\n      <td>NaN</td>\n      <td>NaN</td>\n      <td>NaN</td>\n      <td>NaN</td>\n      <td>NaN</td>\n      <td>NaN</td>\n      <td>NaN</td>\n      <td>NaN</td>\n      <td>NaN</td>\n    </tr>\n    <tr>\n      <th>...</th>\n      <td>...</td>\n      <td>...</td>\n      <td>...</td>\n      <td>...</td>\n      <td>...</td>\n      <td>...</td>\n      <td>...</td>\n      <td>...</td>\n      <td>...</td>\n      <td>...</td>\n      <td>...</td>\n      <td>...</td>\n      <td>...</td>\n      <td>...</td>\n      <td>...</td>\n      <td>...</td>\n      <td>...</td>\n      <td>...</td>\n      <td>...</td>\n      <td>...</td>\n      <td>...</td>\n    </tr>\n    <tr>\n      <th>1830</th>\n      <td>1_001834</td>\n      <td>ChEBI</td>\n      <td>NaN</td>\n      <td>beta-eudesmol</td>\n      <td>473-15-4</td>\n      <td>beta-Eudesmol</td>\n      <td>ChemID+</td>\n      <td>exact</td>\n      <td>beta-eudesmol</td>\n      <td>10417.0</td>\n      <td>...</td>\n      <td>NaN</td>\n      <td>NaN</td>\n      <td>NaN</td>\n      <td>NaN</td>\n      <td>NaN</td>\n      <td>NaN</td>\n      <td>NaN</td>\n      <td>NaN</td>\n      <td>NaN</td>\n      <td>NaN</td>\n    </tr>\n    <tr>\n      <th>1831</th>\n      <td>1_001835</td>\n      <td>ChEBI</td>\n      <td>NaN</td>\n      <td>beta-sanshool</td>\n      <td>504-97-2</td>\n      <td>Sanshool</td>\n      <td>ChemID+</td>\n      <td>NT subtype</td>\n      <td>beta-sanshool</td>\n      <td>66166.0</td>\n      <td>...</td>\n      <td>NaN</td>\n      <td>NaN</td>\n      <td>NaN</td>\n      <td>NaN</td>\n      <td>NaN</td>\n      <td>NaN</td>\n      <td>NaN</td>\n      <td>NaN</td>\n      <td>NaN</td>\n      <td>NaN</td>\n    </tr>\n    <tr>\n      <th>1832</th>\n      <td>1_001836</td>\n      <td>ChEBI</td>\n      <td>NaN</td>\n      <td>canthin-6-one</td>\n      <td>479-43-6</td>\n      <td>Canthin-6-one</td>\n      <td>ChemID+</td>\n      <td>exact</td>\n      <td>canthin-6-one</td>\n      <td>3363.0</td>\n      <td>...</td>\n      <td>NaN</td>\n      <td>quasi syn</td>\n      <td>Antimycobacterial Agent</td>\n      <td>Antimycobacterial Agent</td>\n      <td>C0360390</td>\n      <td>P</td>\n      <td>A1.4.1.1.1_Pharmacologic Substance</td>\n      <td>NaN</td>\n      <td>NaN</td>\n      <td>NaN</td>\n    </tr>\n    <tr>\n      <th>1833</th>\n      <td>1_001837</td>\n      <td>MeSH_PA</td>\n      <td>C103736</td>\n      <td>2-bromopropane</td>\n      <td>75-26-3</td>\n      <td>Isopropyl bromide</td>\n      <td>ChemID+</td>\n      <td>&lt;syn per source&gt;</td>\n      <td>NaN</td>\n      <td>NaN</td>\n      <td>...</td>\n      <td>NaN</td>\n      <td>exact (CUI-based)</td>\n      <td>Mutagens</td>\n      <td>Mutagens</td>\n      <td>C0026879</td>\n      <td>P</td>\n      <td>A1.4.1.1.5_Hazardous or Poisonous Substance</td>\n      <td>NaN</td>\n      <td>NaN</td>\n      <td>NaN</td>\n    </tr>\n    <tr>\n      <th>1834</th>\n      <td>1_001838</td>\n      <td>MeSH_PA</td>\n      <td>C103736</td>\n      <td>2-bromopropane</td>\n      <td>75-26-3</td>\n      <td>Isopropyl bromide</td>\n      <td>ChemID+</td>\n      <td>&lt;syn per source&gt;</td>\n      <td>NaN</td>\n      <td>NaN</td>\n      <td>...</td>\n      <td>NaN</td>\n      <td>NaN</td>\n      <td>NaN</td>\n      <td>NaN</td>\n      <td>NaN</td>\n      <td>NaN</td>\n      <td>NaN</td>\n      <td>NaN</td>\n      <td>NaN</td>\n      <td>NaN</td>\n    </tr>\n  </tbody>\n</table>\n<p>1835 rows × 64 columns</p>\n</div>"
     },
     "execution_count": 11,
     "metadata": {},
     "output_type": "execute_result"
    }
   ],
   "source": [
    "drug_df"
   ],
   "metadata": {
    "collapsed": false,
    "pycharm": {
     "name": "#%%\n"
    }
   }
  },
  {
   "cell_type": "code",
   "execution_count": 20,
   "outputs": [],
   "source": [
    "drug_df = drug_df[['drug_raw_name', 'ind_umls_pt']]"
   ],
   "metadata": {
    "collapsed": false,
    "pycharm": {
     "name": "#%%\n"
    }
   }
  },
  {
   "cell_type": "code",
   "execution_count": null,
   "outputs": [],
   "source": [],
   "metadata": {
    "collapsed": false,
    "pycharm": {
     "name": "#%%\n"
    }
   }
  },
  {
   "cell_type": "code",
   "execution_count": 21,
   "outputs": [
    {
     "data": {
      "text/plain": "drug_raw_name\n(1R-(exo,exo))-3-(4-fluorophenyl)-8-methyl-8- azabicyclo(3.2.1)octane-2-carboxylic acid, methyl ester                           4\n(2',5'-bis-O-(tert-butyldimethylsilyl)-beta-ribofuranosyl)-3'-spiro-5''-(4''-amino-1'',2''-oxathiole-2'',2''-dioxide)thymine    7\n(2-(2',6'-dimethoxy)phenoxyethylamino)methylbenzo-1,4-dioxane                                                                   4\n(2-(trimethylammonium)ethyl)methanethiosulfonate                                                                                2\n(2-sulfonatoethyl)methanethiosulfonate                                                                                          2\n                                                                                                                               ..\ntyrosyl-1,2,3,4-tetrahydro-3-isoquinolinecarbonyl-phenylalanyl-phenylalanine                                                    7\ntyrosyl-arginyl-phenylalanyl-lysinamide                                                                                         6\ntyrosyl-isoleucyl-glycyl-seryl-arginine                                                                                         1\nvalyl-leucyl-lysine 4-nitroanilide                                                                                              3\nzeta Carotene                                                                                                                   2\nLength: 602, dtype: int64"
     },
     "execution_count": 21,
     "metadata": {},
     "output_type": "execute_result"
    }
   ],
   "source": [
    "drug_df.groupby('drug_raw_name').size()"
   ],
   "metadata": {
    "collapsed": false,
    "pycharm": {
     "name": "#%%\n"
    }
   }
  },
  {
   "cell_type": "code",
   "execution_count": 22,
   "outputs": [
    {
     "data": {
      "text/plain": "ind_umls_pt\n5-Ht Receptor Activity                               28\nA1 Adenosine Receptor Activity, G-Protein Coupled     3\nA3 Adenosine Receptor Activity, G-Protein Coupled     1\nActive Immunity                                       7\nAdhesives                                             1\n                                                     ..\nVascularization                                       8\nVasodilation                                          6\nVirus Diseases                                       12\nVitamin B Deficiency                                  1\nVitamin Deficiency                                    1\nLength: 217, dtype: int64"
     },
     "execution_count": 22,
     "metadata": {},
     "output_type": "execute_result"
    }
   ],
   "source": [
    "drug_df.groupby('ind_umls_pt').size()"
   ],
   "metadata": {
    "collapsed": false,
    "pycharm": {
     "name": "#%%\n"
    }
   }
  },
  {
   "cell_type": "code",
   "execution_count": null,
   "outputs": [],
   "source": [],
   "metadata": {
    "collapsed": false,
    "pycharm": {
     "name": "#%%\n"
    }
   }
  }
 ],
 "metadata": {
  "kernelspec": {
   "display_name": "Python 3",
   "language": "python",
   "name": "python3"
  },
  "language_info": {
   "codemirror_mode": {
    "name": "ipython",
    "version": 2
   },
   "file_extension": ".py",
   "mimetype": "text/x-python",
   "name": "python",
   "nbconvert_exporter": "python",
   "pygments_lexer": "ipython2",
   "version": "2.7.6"
  }
 },
 "nbformat": 4,
 "nbformat_minor": 0
}